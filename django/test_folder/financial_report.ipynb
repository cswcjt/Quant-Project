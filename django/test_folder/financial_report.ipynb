{
 "cells": [
  {
   "cell_type": "code",
   "execution_count": null,
   "metadata": {},
   "outputs": [],
   "source": [
    "!pip install fundamentalanalysis"
   ]
  },
  {
   "cell_type": "code",
   "execution_count": null,
   "metadata": {},
   "outputs": [
    {
     "data": {
      "text/plain": [
       "date_time\n",
       "2011-02-28    1.041078\n",
       "2011-03-31    1.077950\n",
       "2011-04-30    1.116824\n",
       "2011-05-31    1.116560\n",
       "2011-06-30    1.146152\n",
       "                ...   \n",
       "2021-08-31    6.373611\n",
       "2021-09-30    6.223760\n",
       "2021-10-31    6.830310\n",
       "2021-11-30    6.571109\n",
       "2021-12-31    6.756816\n",
       "Freq: M, Length: 131, dtype: float64"
      ]
     },
     "metadata": {},
     "output_type": "display_data"
    }
   ],
   "source": [
    "import fundamentalanalysis as fa"
   ]
  },
  {
   "cell_type": "code",
   "execution_count": null,
   "metadata": {},
   "outputs": [],
   "source": [
    "import fundamentalanalysis as fa\n",
    "\n",
    "ticker = \"MSFT\"\n",
    "api_key = \"561eec11c8a51f25506cf63ed2d59cc7\"\n",
    "\n",
    "# Show the available companies\n",
    "companies = fa.available_companies(api_key)\n",
    "\n",
    "# Collect general company information\n",
    "profile = fa.profile(ticker, api_key)\n",
    "\n",
    "# Collect recent company quotes\n",
    "quotes = fa.quote(ticker, api_key)\n",
    "\n",
    "# Collect market cap and enterprise value\n",
    "entreprise_value = fa.enterprise(ticker, api_key)\n",
    "\n",
    "# Show recommendations of Analysts\n",
    "ratings = fa.rating(ticker, api_key)\n",
    "\n",
    "# Obtain DCFs over time\n",
    "dcf_annually = fa.discounted_cash_flow(ticker, api_key, period=\"annual\")\n",
    "\n",
    "# Collect the Balance Sheet statements\n",
    "balance_sheet_annually = fa.balance_sheet_statement(ticker, api_key, period=\"annual\")\n",
    "\n",
    "# Collect the Income Statements\n",
    "income_statement_annually = fa.income_statement(ticker, api_key, period=\"annual\")\n",
    "\n",
    "# Collect the Cash Flow Statements\n",
    "cash_flow_statement_annually = fa.cash_flow_statement(ticker, api_key, period=\"annual\")\n",
    "\n",
    "# Show Key Metrics\n",
    "key_metrics_annually = fa.key_metrics(ticker, api_key, period=\"annual\")\n",
    "\n",
    "# Show a large set of in-depth ratios\n",
    "financial_ratios_annually = fa.financial_ratios(ticker, api_key, period=\"annual\")\n",
    "\n",
    "# Show the growth of the company\n",
    "growth_annually = fa.financial_statement_growth(ticker, api_key, period=\"annual\")\n",
    "\n",
    "# Download general stock data\n",
    "stock_data = fa.stock_data(ticker, period=\"ytd\", interval=\"1d\")\n",
    "\n",
    "# Download detailed stock data\n",
    "stock_data_detailed = fa.stock_data_detailed(ticker, api_key, begin=\"2000-01-01\", end=\"2020-01-01\")\n",
    "\n",
    "# Download dividend history\n",
    "dividends = fa.stock_dividend(ticker, api_key, begin=\"2000-01-01\", end=\"2020-01-01\")"
   ]
  },
  {
   "cell_type": "code",
   "execution_count": null,
   "metadata": {},
   "outputs": [],
   "source": [
    "balance_sheet_annually"
   ]
  },
  {
   "cell_type": "code",
   "execution_count": null,
   "metadata": {},
   "outputs": [],
   "source": []
  },
  {
   "cell_type": "code",
   "execution_count": null,
   "metadata": {},
   "outputs": [],
   "source": [
    "import financedatabase as fd\n",
    "\n",
    "airlines_us = fd.select_equities(country='United States', industry='Airlines')"
   ]
  },
  {
   "cell_type": "code",
   "execution_count": null,
   "metadata": {},
   "outputs": [],
   "source": [
    "from yfinance.utils import get_json\n",
    "from yfinance import download\n",
    "\n",
    "airlines_us_fundamentals = {}\n",
    "for symbol in airlines_us:\n",
    "    airlines_us_fundamentals[symbol] = get_json(\"https://finance.yahoo.com/quote/\" + symbol)\n",
    "\n",
    "airlines_us_stock_data = download(list(airlines_us))"
   ]
  }
 ],
 "metadata": {
  "kernelspec": {
   "display_name": "fcamp",
   "language": "python",
   "name": "python3"
  },
  "language_info": {
   "name": "python",
   "version": "3.8.13"
  },
  "orig_nbformat": 4,
  "vscode": {
   "interpreter": {
    "hash": "83dd0bd78b90483a65206239ae641ce33c1006d8cfa3dc2c0ef657dc664ce282"
   }
  }
 },
 "nbformat": 4,
 "nbformat_minor": 2
}
