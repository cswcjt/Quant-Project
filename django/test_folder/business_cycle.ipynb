{
 "cells": [
  {
   "attachments": {},
   "cell_type": "markdown",
   "metadata": {},
   "source": [
    "### 시황을 고려한 투자의 중요성\n",
    "- 증시를 경제 사이클에 따라 분류\n",
    "- 각 시황별 주식, 채권, 원자재, 달러의 대표 지수의 성과지표를 비교분석해본다."
   ]
  },
  {
   "cell_type": "code",
   "execution_count": 1,
   "metadata": {},
   "outputs": [],
   "source": [
    "import pandas as pd\n",
    "import numpy as np\n",
    "import matplotlib.pyplot as plt\n",
    "#import plotly.express as px\n",
    "import time\n",
    "\n",
    "plt.style.use('fivethirtyeight')\n",
    "color_pal = plt.rcParams[\"axes.prop_cycle\"].by_key()[\"color\"]\n",
    "\n",
    "import yfinance as yf\n",
    "from fredapi import Fred\n",
    "\n",
    "import sys\n",
    "sys.path.append(\"/Users/jtchoi/Library/CloudStorage/GoogleDrive-jungtaek0227@gmail.com/My Drive/quant/Quant-Project/quant\")\n",
    "from backtest.metric import *\n",
    "from econ_regime.econ_regime import *"
   ]
  },
  {
   "attachments": {},
   "cell_type": "markdown",
   "metadata": {},
   "source": [
    "### 데이터 로드"
   ]
  },
  {
   "cell_type": "code",
   "execution_count": 2,
   "metadata": {},
   "outputs": [
    {
     "name": "stdout",
     "output_type": "stream",
     "text": [
      "[*********************100%***********************]  1 of 1 completed\n"
     ]
    }
   ],
   "source": [
    "sp500 = yf.download('SPY')['Adj Close']\n",
    "sp500.index = pd.to_datetime(pd.to_datetime(sp500.index).date)\n",
    "sp500 = sp500.resample('M').last()\n",
    "sp500 = sp500.iloc[:-1]"
   ]
  },
  {
   "cell_type": "code",
   "execution_count": 3,
   "metadata": {},
   "outputs": [
    {
     "data": {
      "text/plain": [
       "1993-01-31     25.218225\n",
       "1993-02-28     25.487265\n",
       "1993-03-31     26.058153\n",
       "1993-04-30     25.391394\n",
       "1993-05-31     26.076183\n",
       "                 ...    \n",
       "2022-09-30    355.547302\n",
       "2022-10-31    384.444611\n",
       "2022-11-30    405.816467\n",
       "2022-12-31    382.429993\n",
       "2023-01-31    406.480011\n",
       "Freq: M, Name: Adj Close, Length: 361, dtype: float64"
      ]
     },
     "execution_count": 3,
     "metadata": {},
     "output_type": "execute_result"
    }
   ],
   "source": [
    "sp500"
   ]
  },
  {
   "attachments": {},
   "cell_type": "markdown",
   "metadata": {},
   "source": [
    "### 미국경제를 디플레이션, 인플레이션, 회복기, 확장기로 분류\n",
    "\n",
    "    정의:\n",
    "      - OECD 미국 경기선행지수: 장단기금리차, 종합주가지수, 제조업 업황지수, 제조업 주간노동시간, 소비자신뢰지수, 내구재 신규주문, 주택착공건수\n",
    "      - OECD 경기선행지수 100pt를 기준으로 고성장과 저성장으로 나눔\n",
    "      - OECD 경기선행지수를 바탕으로 성장 상승 및 하락 추세 반영\n",
    "      - Core PCE 물가지수 2.5%를 기준으로 고인플레이션과 저인플레이션으로 나눔\n",
    "\n",
    "    국면:\n",
    "      - deflation: 저성장/성장 하락 추세/저인플레이션\n",
    "      - inflation: 저성장/성장 하락 추세/고인플레이션\n",
    "      - recovery: 저성장/성장 상승 추세/저인플레이션, 저성장/성장 상승 추세/고인플레이션\n",
    "      - expansion: 고성장/성장 상승 추세/고인플레이션, 고성장/성장 하락 추세/고인플레이션"
   ]
  },
  {
   "cell_type": "code",
   "execution_count": 4,
   "metadata": {},
   "outputs": [
    {
     "data": {
      "text/plain": [
       "<bound method NDFrame.to_csv of             deflation  inflation  recovery  expansion\n",
       "1994-01-01          0          0         0          1\n",
       "1994-02-01          0          0         0          1\n",
       "1994-03-01          0          0         0          1\n",
       "1994-04-01          0          0         0          1\n",
       "1994-05-01          0          0         0          1\n",
       "...               ...        ...       ...        ...\n",
       "2022-09-01          0          1         0          0\n",
       "2022-10-01          0          1         0          0\n",
       "2022-11-01          0          1         0          0\n",
       "2022-12-01          0          1         0          0\n",
       "2023-01-01          0          1         0          0\n",
       "\n",
       "[349 rows x 4 columns]>"
      ]
     },
     "execution_count": 4,
     "metadata": {},
     "output_type": "execute_result"
    }
   ],
   "source": [
    "regime_df = business_cycle()\n",
    "regime_df.to_csv"
   ]
  },
  {
   "cell_type": "code",
   "execution_count": 5,
   "metadata": {},
   "outputs": [
    {
     "data": {
      "text/html": [
       "<div>\n",
       "<style scoped>\n",
       "    .dataframe tbody tr th:only-of-type {\n",
       "        vertical-align: middle;\n",
       "    }\n",
       "\n",
       "    .dataframe tbody tr th {\n",
       "        vertical-align: top;\n",
       "    }\n",
       "\n",
       "    .dataframe thead th {\n",
       "        text-align: right;\n",
       "    }\n",
       "</style>\n",
       "<table border=\"1\" class=\"dataframe\">\n",
       "  <thead>\n",
       "    <tr style=\"text-align: right;\">\n",
       "      <th></th>\n",
       "      <th>sp500_rets</th>\n",
       "      <th>deflation</th>\n",
       "      <th>inflation</th>\n",
       "      <th>recovery</th>\n",
       "      <th>expansion</th>\n",
       "    </tr>\n",
       "  </thead>\n",
       "  <tbody>\n",
       "    <tr>\n",
       "      <th>1994-01-31</th>\n",
       "      <td>0.034876</td>\n",
       "      <td>0.0</td>\n",
       "      <td>0.0</td>\n",
       "      <td>0.0</td>\n",
       "      <td>1.0</td>\n",
       "    </tr>\n",
       "    <tr>\n",
       "      <th>1994-02-28</th>\n",
       "      <td>-0.029164</td>\n",
       "      <td>0.0</td>\n",
       "      <td>0.0</td>\n",
       "      <td>0.0</td>\n",
       "      <td>1.0</td>\n",
       "    </tr>\n",
       "    <tr>\n",
       "      <th>1994-03-31</th>\n",
       "      <td>-0.041901</td>\n",
       "      <td>0.0</td>\n",
       "      <td>0.0</td>\n",
       "      <td>0.0</td>\n",
       "      <td>1.0</td>\n",
       "    </tr>\n",
       "    <tr>\n",
       "      <th>1994-04-30</th>\n",
       "      <td>0.011212</td>\n",
       "      <td>0.0</td>\n",
       "      <td>0.0</td>\n",
       "      <td>0.0</td>\n",
       "      <td>1.0</td>\n",
       "    </tr>\n",
       "    <tr>\n",
       "      <th>1994-05-31</th>\n",
       "      <td>0.015939</td>\n",
       "      <td>0.0</td>\n",
       "      <td>0.0</td>\n",
       "      <td>0.0</td>\n",
       "      <td>1.0</td>\n",
       "    </tr>\n",
       "    <tr>\n",
       "      <th>...</th>\n",
       "      <td>...</td>\n",
       "      <td>...</td>\n",
       "      <td>...</td>\n",
       "      <td>...</td>\n",
       "      <td>...</td>\n",
       "    </tr>\n",
       "    <tr>\n",
       "      <th>2022-09-30</th>\n",
       "      <td>-0.092446</td>\n",
       "      <td>0.0</td>\n",
       "      <td>1.0</td>\n",
       "      <td>0.0</td>\n",
       "      <td>0.0</td>\n",
       "    </tr>\n",
       "    <tr>\n",
       "      <th>2022-10-31</th>\n",
       "      <td>0.081276</td>\n",
       "      <td>0.0</td>\n",
       "      <td>1.0</td>\n",
       "      <td>0.0</td>\n",
       "      <td>0.0</td>\n",
       "    </tr>\n",
       "    <tr>\n",
       "      <th>2022-11-30</th>\n",
       "      <td>0.055592</td>\n",
       "      <td>0.0</td>\n",
       "      <td>1.0</td>\n",
       "      <td>0.0</td>\n",
       "      <td>0.0</td>\n",
       "    </tr>\n",
       "    <tr>\n",
       "      <th>2022-12-31</th>\n",
       "      <td>-0.057628</td>\n",
       "      <td>0.0</td>\n",
       "      <td>1.0</td>\n",
       "      <td>0.0</td>\n",
       "      <td>0.0</td>\n",
       "    </tr>\n",
       "    <tr>\n",
       "      <th>2023-01-31</th>\n",
       "      <td>0.062887</td>\n",
       "      <td>0.0</td>\n",
       "      <td>1.0</td>\n",
       "      <td>0.0</td>\n",
       "      <td>0.0</td>\n",
       "    </tr>\n",
       "  </tbody>\n",
       "</table>\n",
       "<p>349 rows × 5 columns</p>\n",
       "</div>"
      ],
      "text/plain": [
       "            sp500_rets  deflation  inflation  recovery  expansion\n",
       "1994-01-31    0.034876        0.0        0.0       0.0        1.0\n",
       "1994-02-28   -0.029164        0.0        0.0       0.0        1.0\n",
       "1994-03-31   -0.041901        0.0        0.0       0.0        1.0\n",
       "1994-04-30    0.011212        0.0        0.0       0.0        1.0\n",
       "1994-05-31    0.015939        0.0        0.0       0.0        1.0\n",
       "...                ...        ...        ...       ...        ...\n",
       "2022-09-30   -0.092446        0.0        1.0       0.0        0.0\n",
       "2022-10-31    0.081276        0.0        1.0       0.0        0.0\n",
       "2022-11-30    0.055592        0.0        1.0       0.0        0.0\n",
       "2022-12-31   -0.057628        0.0        1.0       0.0        0.0\n",
       "2023-01-31    0.062887        0.0        1.0       0.0        0.0\n",
       "\n",
       "[349 rows x 5 columns]"
      ]
     },
     "execution_count": 5,
     "metadata": {},
     "output_type": "execute_result"
    }
   ],
   "source": [
    "regime_df.index = sp500.loc['1994':].index\n",
    "regime_df = pd.concat([sp500.pct_change(), regime_df], axis=1).dropna()\n",
    "regime_df.columns = ['sp500_rets', 'deflation', 'inflation', 'recovery', 'expansion']\n",
    "regime_df"
   ]
  },
  {
   "cell_type": "code",
   "execution_count": 6,
   "metadata": {},
   "outputs": [],
   "source": [
    "# _list = ['returns', 'CAGR', 'volatility', 'MDD', 'sharp']\n",
    "# _regime = ['deflation',\t'inflation','recovery',\t'expansion']"
   ]
  },
  {
   "attachments": {},
   "cell_type": "markdown",
   "metadata": {},
   "source": [
    "### 국면별 sp500 index의 성과지표를 확인\n",
    "    - 1. sp500에 그대로 투자한 경우\n",
    "    - 2. sp500에 국면을 반영한 투자의 성과지표들"
   ]
  },
  {
   "attachments": {},
   "cell_type": "markdown",
   "metadata": {},
   "source": [
    "### sp500 w/o market regime "
   ]
  },
  {
   "cell_type": "code",
   "execution_count": 7,
   "metadata": {},
   "outputs": [
    {
     "data": {
      "text/plain": [
       "<AxesSubplot: title={'center': 'S&P 500'}>"
      ]
     },
     "execution_count": 7,
     "metadata": {},
     "output_type": "execute_result"
    },
    {
     "data": {
      "image/png": "[encoded data removed]",
      "text/plain": [
       "<Figure size 640x480 with 1 Axes>"
      ]
     },
     "metadata": {},
     "output_type": "display_data"
    }
   ],
   "source": [
    "(1 + sp500.pct_change()).cumprod().plot(title='S&P 500', lw=1)"
   ]
  },
  {
   "cell_type": "code",
   "execution_count": 8,
   "metadata": {},
   "outputs": [
    {
     "data": {
      "text/plain": [
       "{'returns': '1594.84',\n",
       " 'CAGR': '9.64',\n",
       " 'volatility': '0.15',\n",
       " 'skewness': '-0.58',\n",
       " 'kurtosis': '0.98',\n",
       " 'MDD': '-0.51',\n",
       " 'MDD_duration': '2252.00',\n",
       " 'sharp': '0.38',\n",
       " 'sortino': '0.75',\n",
       " 'calmar': '0.19',\n",
       " 'VaR': '-0.11',\n",
       " 'VaR_ratio': '0.08',\n",
       " 'CVaR': '-0.13',\n",
       " 'CVaR_ratio': '0.06',\n",
       " 'hit': '0.65',\n",
       " 'GtP': '0.91'}"
      ]
     },
     "execution_count": 8,
     "metadata": {},
     "output_type": "execute_result"
    }
   ],
   "source": [
    "Metric(portfolio=(1 + sp500.pct_change()).cumprod(), freq='month').numeric_metric()"
   ]
  },
  {
   "cell_type": "code",
   "execution_count": 9,
   "metadata": {},
   "outputs": [
    {
     "data": {
      "text/html": [
       "<div>\n",
       "<style scoped>\n",
       "    .dataframe tbody tr th:only-of-type {\n",
       "        vertical-align: middle;\n",
       "    }\n",
       "\n",
       "    .dataframe tbody tr th {\n",
       "        vertical-align: top;\n",
       "    }\n",
       "\n",
       "    .dataframe thead th {\n",
       "        text-align: right;\n",
       "    }\n",
       "</style>\n",
       "<table border=\"1\" class=\"dataframe\">\n",
       "  <thead>\n",
       "    <tr style=\"text-align: right;\">\n",
       "      <th></th>\n",
       "      <th>SP500</th>\n",
       "    </tr>\n",
       "  </thead>\n",
       "  <tbody>\n",
       "    <tr>\n",
       "      <th>returns</th>\n",
       "      <td>1594.84</td>\n",
       "    </tr>\n",
       "    <tr>\n",
       "      <th>CAGR</th>\n",
       "      <td>9.64</td>\n",
       "    </tr>\n",
       "    <tr>\n",
       "      <th>volatility</th>\n",
       "      <td>0.15</td>\n",
       "    </tr>\n",
       "    <tr>\n",
       "      <th>MDD</th>\n",
       "      <td>-0.51</td>\n",
       "    </tr>\n",
       "    <tr>\n",
       "      <th>sharp</th>\n",
       "      <td>0.38</td>\n",
       "    </tr>\n",
       "  </tbody>\n",
       "</table>\n",
       "</div>"
      ],
      "text/plain": [
       "              SP500\n",
       "returns     1594.84\n",
       "CAGR           9.64\n",
       "volatility     0.15\n",
       "MDD           -0.51\n",
       "sharp          0.38"
      ]
     },
     "execution_count": 9,
     "metadata": {},
     "output_type": "execute_result"
    }
   ],
   "source": [
    "_list = ['returns', 'CAGR', 'volatility', 'MDD','sharp']\n",
    "sp_bt = Metric(portfolio=(1 + sp500.pct_change()).cumprod(), freq='month').numeric_metric()\n",
    "\n",
    "_dict = {}\n",
    "for i in _list:\n",
    "    _dict[i] = [sp_bt[i]]\n",
    "\n",
    "sp_bt = pd.DataFrame(_dict, index=['SP500']).T\n",
    "sp_bt"
   ]
  },
  {
   "cell_type": "code",
   "execution_count": 10,
   "metadata": {},
   "outputs": [],
   "source": [
    "_list = ['returns', 'CAGR', 'volatility', 'MDD', 'sharp']\n",
    "_regime = ['deflation',\t'inflation','recovery',\t'expansion']\n",
    "\n",
    "_dict = []\n",
    "for i in _regime:\n",
    "    temp = {}\n",
    "    for j in _list:\n",
    "        temp[j] = [Metric(portfolio=(1 + regime_df[regime_df[i]==1].sp500_rets).cumprod(), freq='month').numeric_metric()[j]]\n",
    "    _dict.append(pd.DataFrame(temp, index=[f'{i}']).T)\n",
    "    "
   ]
  },
  {
   "cell_type": "code",
   "execution_count": 11,
   "metadata": {},
   "outputs": [
    {
     "data": {
      "text/html": [
       "<div>\n",
       "<style scoped>\n",
       "    .dataframe tbody tr th:only-of-type {\n",
       "        vertical-align: middle;\n",
       "    }\n",
       "\n",
       "    .dataframe tbody tr th {\n",
       "        vertical-align: top;\n",
       "    }\n",
       "\n",
       "    .dataframe thead th {\n",
       "        text-align: right;\n",
       "    }\n",
       "</style>\n",
       "<table border=\"1\" class=\"dataframe\">\n",
       "  <thead>\n",
       "    <tr style=\"text-align: right;\">\n",
       "      <th></th>\n",
       "      <th>SP500</th>\n",
       "      <th>deflation</th>\n",
       "      <th>inflation</th>\n",
       "      <th>recovery</th>\n",
       "      <th>expansion</th>\n",
       "    </tr>\n",
       "  </thead>\n",
       "  <tbody>\n",
       "    <tr>\n",
       "      <th>returns</th>\n",
       "      <td>1594.84</td>\n",
       "      <td>63.88</td>\n",
       "      <td>108.69</td>\n",
       "      <td>495.83</td>\n",
       "      <td>326.88</td>\n",
       "    </tr>\n",
       "    <tr>\n",
       "      <th>CAGR</th>\n",
       "      <td>9.64</td>\n",
       "      <td>-6.42</td>\n",
       "      <td>13.31</td>\n",
       "      <td>26.05</td>\n",
       "      <td>17.11</td>\n",
       "    </tr>\n",
       "    <tr>\n",
       "      <th>volatility</th>\n",
       "      <td>0.15</td>\n",
       "      <td>0.22</td>\n",
       "      <td>0.24</td>\n",
       "      <td>0.12</td>\n",
       "      <td>0.10</td>\n",
       "    </tr>\n",
       "    <tr>\n",
       "      <th>MDD</th>\n",
       "      <td>-0.51</td>\n",
       "      <td>-0.65</td>\n",
       "      <td>-0.13</td>\n",
       "      <td>-0.08</td>\n",
       "      <td>-0.11</td>\n",
       "    </tr>\n",
       "    <tr>\n",
       "      <th>sharp</th>\n",
       "      <td>0.38</td>\n",
       "      <td>-0.48</td>\n",
       "      <td>0.38</td>\n",
       "      <td>1.90</td>\n",
       "      <td>1.27</td>\n",
       "    </tr>\n",
       "  </tbody>\n",
       "</table>\n",
       "</div>"
      ],
      "text/plain": [
       "              SP500 deflation inflation recovery expansion\n",
       "returns     1594.84     63.88    108.69   495.83    326.88\n",
       "CAGR           9.64     -6.42     13.31    26.05     17.11\n",
       "volatility     0.15      0.22      0.24     0.12      0.10\n",
       "MDD           -0.51     -0.65     -0.13    -0.08     -0.11\n",
       "sharp          0.38     -0.48      0.38     1.90      1.27"
      ]
     },
     "execution_count": 11,
     "metadata": {},
     "output_type": "execute_result"
    }
   ],
   "source": [
    "temp = pd.concat(_dict, axis=1)\n",
    "final = pd.concat([sp_bt, temp], axis=1)\n",
    "final"
   ]
  },
  {
   "cell_type": "code",
   "execution_count": 12,
   "metadata": {},
   "outputs": [
    {
     "data": {
      "text/html": [
       "<div>\n",
       "<style scoped>\n",
       "    .dataframe tbody tr th:only-of-type {\n",
       "        vertical-align: middle;\n",
       "    }\n",
       "\n",
       "    .dataframe tbody tr th {\n",
       "        vertical-align: top;\n",
       "    }\n",
       "\n",
       "    .dataframe thead th {\n",
       "        text-align: right;\n",
       "    }\n",
       "</style>\n",
       "<table border=\"1\" class=\"dataframe\">\n",
       "  <thead>\n",
       "    <tr style=\"text-align: right;\">\n",
       "      <th></th>\n",
       "      <th>SP500</th>\n",
       "    </tr>\n",
       "  </thead>\n",
       "  <tbody>\n",
       "    <tr>\n",
       "      <th>returns</th>\n",
       "      <td>1594.84</td>\n",
       "    </tr>\n",
       "    <tr>\n",
       "      <th>CAGR</th>\n",
       "      <td>9.64</td>\n",
       "    </tr>\n",
       "    <tr>\n",
       "      <th>volatility</th>\n",
       "      <td>0.15</td>\n",
       "    </tr>\n",
       "    <tr>\n",
       "      <th>MDD</th>\n",
       "      <td>-0.51</td>\n",
       "    </tr>\n",
       "    <tr>\n",
       "      <th>sharp</th>\n",
       "      <td>0.38</td>\n",
       "    </tr>\n",
       "  </tbody>\n",
       "</table>\n",
       "</div>"
      ],
      "text/plain": [
       "              SP500\n",
       "returns     1594.84\n",
       "CAGR           9.64\n",
       "volatility     0.15\n",
       "MDD           -0.51\n",
       "sharp          0.38"
      ]
     },
     "execution_count": 12,
     "metadata": {},
     "output_type": "execute_result"
    }
   ],
   "source": [
    "sp_bt"
   ]
  },
  {
   "attachments": {},
   "cell_type": "markdown",
   "metadata": {},
   "source": [
    "### sp500 with market regime"
   ]
  },
  {
   "cell_type": "code",
   "execution_count": 13,
   "metadata": {},
   "outputs": [],
   "source": [
    "### 계산 방법에 대한 설명 \n",
    "### 스토리 진행에 대한 간단한 힌트를 제공해서 청취자의 이해를 돕는다. -> 두괄식으로 내용을 설명하고, 이해를 돕는다.\n",
    "### 성과지표를 테이블로 보여준다. -> 테이블을 보여주고, 이해를 돕는다.\n",
    "### 인덱스는 성과지표 개수, 컬럼은 5개(시황 + 아무것도 안했을 때)"
   ]
  },
  {
   "attachments": {},
   "cell_type": "markdown",
   "metadata": {},
   "source": [
    "### sp500 with deflation"
   ]
  },
  {
   "cell_type": "code",
   "execution_count": 14,
   "metadata": {},
   "outputs": [
    {
     "data": {
      "text/plain": [
       "{'returns': '65.66',\n",
       " 'CAGR': '-1.44',\n",
       " 'volatility': '0.10',\n",
       " 'skewness': '-0.79',\n",
       " 'kurtosis': '8.21',\n",
       " 'MDD': '-0.65',\n",
       " 'MDD_duration': '8950.00',\n",
       " 'sharp': '-0.52',\n",
       " 'sortino': '-0.58',\n",
       " 'calmar': '-0.02',\n",
       " 'VaR': '-0.11',\n",
       " 'VaR_ratio': '-0.01',\n",
       " 'CVaR': '-0.13',\n",
       " 'CVaR_ratio': '-0.01',\n",
       " 'hit': '0.53',\n",
       " 'GtP': '0.78'}"
      ]
     },
     "execution_count": 14,
     "metadata": {},
     "output_type": "execute_result"
    },
    {
     "data": {
      "image/png": "[encoded data removed]",
      "text/plain": [
       "<Figure size 640x480 with 1 Axes>"
      ]
     },
     "metadata": {},
     "output_type": "display_data"
    }
   ],
   "source": [
    "#Metric(portfolio=(1 + regime_df.sp500_rets * regime_df.deflation).cumprod(), freq='month').numeric_metric()\n",
    "(1 + regime_df.sp500_rets * regime_df.deflation).cumprod().plot(lw=1)\n",
    "Metric(portfolio=(1 + regime_df.sp500_rets * regime_df.deflation).cumprod(), freq='month').numeric_metric()"
   ]
  },
  {
   "cell_type": "code",
   "execution_count": 15,
   "metadata": {},
   "outputs": [
    {
     "name": "stdout",
     "output_type": "stream",
     "text": [
      "Total Returns: 65.66%\n",
      "CAGR: -1.44%\n",
      "Annualized Volatility: 10.41%\n",
      "Skewness: -0.79\n",
      "Kurtosis: 8.21\n",
      "Max Drawdown: -64.85%\n",
      "Max Drawdown Duration: 8950.00 days\n",
      "Annualized Sharp Ratio: -0.52\n",
      "Annualized Sortino Ratio: -0.58\n",
      "Annualized Calmar Ratio: -0.02\n",
      "Annualized VaR: -0.11\n",
      "Annualized VaR Ratio: -0.01\n",
      "Annualized CVaR: -0.13\n",
      "Annualized CVaR Ratio: -0.01\n",
      "Annualized hit Ratio: 0.53\n",
      "Annualized GtP Ratio: 0.78\n"
     ]
    }
   ],
   "source": [
    "Metric(portfolio=(1 + regime_df.sp500_rets * regime_df.deflation).cumprod(), freq='month').print_report()"
   ]
  },
  {
   "attachments": {},
   "cell_type": "markdown",
   "metadata": {},
   "source": [
    "### sp500 with inflation"
   ]
  },
  {
   "cell_type": "code",
   "execution_count": 16,
   "metadata": {},
   "outputs": [
    {
     "data": {
      "text/plain": [
       "<AxesSubplot: >"
      ]
     },
     "execution_count": 16,
     "metadata": {},
     "output_type": "execute_result"
    },
    {
     "data": {
      "image/png": "[encoded data removed]",
      "text/plain": [
       "<Figure size 640x480 with 1 Axes>"
      ]
     },
     "metadata": {},
     "output_type": "display_data"
    }
   ],
   "source": [
    "(1 + regime_df.sp500_rets * regime_df.inflation).cumprod().plot(lw=1)"
   ]
  },
  {
   "cell_type": "code",
   "execution_count": 17,
   "metadata": {},
   "outputs": [
    {
     "name": "stdout",
     "output_type": "stream",
     "text": [
      "Total Returns: 99.73%\n",
      "CAGR: -0.01%\n",
      "Annualized Volatility: 3.83%\n",
      "Skewness: 0.26\n",
      "Kurtosis: 50.74\n",
      "Max Drawdown: -12.95%\n",
      "Max Drawdown Duration: 184.00 days\n",
      "Annualized Sharp Ratio: -1.05\n",
      "Annualized Sortino Ratio: -1.14\n",
      "Annualized Calmar Ratio: -0.00\n",
      "Annualized VaR: -0.02\n",
      "Annualized VaR Ratio: 0.00\n",
      "Annualized CVaR: -0.07\n",
      "Annualized CVaR Ratio: 0.00\n",
      "Annualized hit Ratio: 0.50\n",
      "Annualized GtP Ratio: 1.07\n"
     ]
    }
   ],
   "source": [
    "Metric(portfolio=(1 + regime_df.sp500_rets * regime_df.inflation).cumprod(), freq='month').print_report()"
   ]
  },
  {
   "attachments": {},
   "cell_type": "markdown",
   "metadata": {},
   "source": [
    "### sp500 with recovery"
   ]
  },
  {
   "cell_type": "code",
   "execution_count": 18,
   "metadata": {},
   "outputs": [
    {
     "data": {
      "text/plain": [
       "<AxesSubplot: >"
      ]
     },
     "execution_count": 18,
     "metadata": {},
     "output_type": "execute_result"
    },
    {
     "data": {
      "image/png": "[encoded data removed]",
      "text/plain": [
       "<Figure size 640x480 with 1 Axes>"
      ]
     },
     "metadata": {},
     "output_type": "display_data"
    }
   ],
   "source": [
    "(1 + regime_df.sp500_rets * regime_df.recovery).cumprod().plot(lw=1)"
   ]
  },
  {
   "cell_type": "code",
   "execution_count": 19,
   "metadata": {},
   "outputs": [
    {
     "name": "stdout",
     "output_type": "stream",
     "text": [
      "Total Returns: 513.48%\n",
      "CAGR: 5.79%\n",
      "Annualized Volatility: 6.39%\n",
      "Skewness: 1.92\n",
      "Kurtosis: 8.44\n",
      "Max Drawdown: -7.95%\n",
      "Max Drawdown Duration: 761.00 days\n",
      "Annualized Sharp Ratio: 0.28\n",
      "Annualized Sortino Ratio: 1.16\n",
      "Annualized Calmar Ratio: 0.73\n",
      "Annualized VaR: -0.04\n",
      "Annualized VaR Ratio: 0.13\n",
      "Annualized CVaR: -0.05\n",
      "Annualized CVaR Ratio: 0.09\n",
      "Annualized hit Ratio: 0.78\n",
      "Annualized GtP Ratio: 1.40\n"
     ]
    }
   ],
   "source": [
    "Metric(portfolio=(1 + regime_df.sp500_rets * regime_df.recovery).cumprod(), freq='month').print_report()"
   ]
  },
  {
   "attachments": {},
   "cell_type": "markdown",
   "metadata": {},
   "source": [
    "### sp500 with expansion"
   ]
  },
  {
   "cell_type": "code",
   "execution_count": 20,
   "metadata": {},
   "outputs": [
    {
     "data": {
      "text/plain": [
       "<AxesSubplot: >"
      ]
     },
     "execution_count": 20,
     "metadata": {},
     "output_type": "execute_result"
    },
    {
     "data": {
      "image/png": "[encoded data removed]",
      "text/plain": [
       "<Figure size 640x480 with 1 Axes>"
      ]
     },
     "metadata": {},
     "output_type": "display_data"
    }
   ],
   "source": [
    "(1 + regime_df.sp500_rets * regime_df.expansion).cumprod().plot(lw=1)"
   ]
  },
  {
   "cell_type": "code",
   "execution_count": 21,
   "metadata": {},
   "outputs": [
    {
     "name": "stdout",
     "output_type": "stream",
     "text": [
      "Total Returns: 326.88%\n",
      "CAGR: 4.16%\n",
      "Annualized Volatility: 5.60%\n",
      "Skewness: 1.28\n",
      "Kurtosis: 4.96\n",
      "Max Drawdown: -10.75%\n",
      "Max Drawdown Duration: 1461.00 days\n",
      "Annualized Sharp Ratio: 0.03\n",
      "Annualized Sortino Ratio: 0.45\n",
      "Annualized Calmar Ratio: 0.39\n",
      "Annualized VaR: -0.04\n",
      "Annualized VaR Ratio: 0.09\n",
      "Annualized CVaR: -0.05\n",
      "Annualized CVaR Ratio: 0.08\n",
      "Annualized hit Ratio: 0.71\n",
      "Annualized GtP Ratio: 1.20\n"
     ]
    }
   ],
   "source": [
    "Metric(portfolio=(1 + regime_df.sp500_rets * regime_df.expansion).cumprod(), freq='month').print_report()"
   ]
  },
  {
   "attachments": {},
   "cell_type": "markdown",
   "metadata": {},
   "source": [
    "- 시황 적용의 필요성 인지\n",
    "- recovery인 경우 가장 성과지표가 좋았다.\n",
    "- 각 국면 별 투자성과가 좋은 자산군을 찾아보자."
   ]
  },
  {
   "attachments": {},
   "cell_type": "markdown",
   "metadata": {},
   "source": [
    "### 자산군\n",
    "    - 주식: sp500 index\n",
    "    - 장기채권: TLT ETF\n",
    "    - 원자재: GSG ETF(tracking S&P GSCI index)\n",
    "    - 달러: UUP index\n",
    "    - 부동산: VNQ ETF\n"
   ]
  },
  {
   "cell_type": "code",
   "execution_count": 22,
   "metadata": {},
   "outputs": [],
   "source": [
    "import bs4 as bs\n",
    "import requests\n",
    "import yfinance as yf\n",
    "import datetime"
   ]
  },
  {
   "cell_type": "code",
   "execution_count": 23,
   "metadata": {},
   "outputs": [
    {
     "name": "stdout",
     "output_type": "stream",
     "text": [
      "[*********************100%***********************]  1 of 1 completed\n",
      "[*********************100%***********************]  1 of 1 completed\n",
      "[*********************100%***********************]  1 of 1 completed\n",
      "[*********************100%***********************]  1 of 1 completed\n",
      "[*********************100%***********************]  1 of 1 completed\n"
     ]
    }
   ],
   "source": [
    "asset_ticker = ['SPY','TLT', 'GSG', 'VNQ', 'UUP']\n",
    "asset_df = asset_indicators(asset_ticker)"
   ]
  },
  {
   "cell_type": "code",
   "execution_count": 24,
   "metadata": {},
   "outputs": [],
   "source": [
    "asset_df = asset_df.loc['2011-01-01':,:].dropna().resample('M').last()"
   ]
  },
  {
   "cell_type": "code",
   "execution_count": 25,
   "metadata": {},
   "outputs": [
    {
     "data": {
      "text/html": [
       "<div>\n",
       "<style scoped>\n",
       "    .dataframe tbody tr th:only-of-type {\n",
       "        vertical-align: middle;\n",
       "    }\n",
       "\n",
       "    .dataframe tbody tr th {\n",
       "        vertical-align: top;\n",
       "    }\n",
       "\n",
       "    .dataframe thead th {\n",
       "        text-align: right;\n",
       "    }\n",
       "</style>\n",
       "<table border=\"1\" class=\"dataframe\">\n",
       "  <thead>\n",
       "    <tr style=\"text-align: right;\">\n",
       "      <th></th>\n",
       "      <th>SPY</th>\n",
       "      <th>TLT</th>\n",
       "      <th>GSG</th>\n",
       "      <th>VNQ</th>\n",
       "      <th>UUP</th>\n",
       "    </tr>\n",
       "  </thead>\n",
       "  <tbody>\n",
       "    <tr>\n",
       "      <th>2011-01-31</th>\n",
       "      <td>102.406509</td>\n",
       "      <td>67.367386</td>\n",
       "      <td>35.160000</td>\n",
       "      <td>35.752136</td>\n",
       "      <td>21.478441</td>\n",
       "    </tr>\n",
       "    <tr>\n",
       "      <th>2011-02-28</th>\n",
       "      <td>105.963837</td>\n",
       "      <td>68.479042</td>\n",
       "      <td>36.090000</td>\n",
       "      <td>37.434372</td>\n",
       "      <td>21.219084</td>\n",
       "    </tr>\n",
       "    <tr>\n",
       "      <th>2011-03-31</th>\n",
       "      <td>105.976562</td>\n",
       "      <td>68.499115</td>\n",
       "      <td>37.349998</td>\n",
       "      <td>36.831417</td>\n",
       "      <td>20.930914</td>\n",
       "    </tr>\n",
       "    <tr>\n",
       "      <th>2011-04-30</th>\n",
       "      <td>109.045784</td>\n",
       "      <td>70.101395</td>\n",
       "      <td>38.939999</td>\n",
       "      <td>38.947964</td>\n",
       "      <td>20.124031</td>\n",
       "    </tr>\n",
       "    <tr>\n",
       "      <th>2011-05-31</th>\n",
       "      <td>107.822906</td>\n",
       "      <td>72.500854</td>\n",
       "      <td>36.270000</td>\n",
       "      <td>39.483391</td>\n",
       "      <td>20.498655</td>\n",
       "    </tr>\n",
       "    <tr>\n",
       "      <th>...</th>\n",
       "      <td>...</td>\n",
       "      <td>...</td>\n",
       "      <td>...</td>\n",
       "      <td>...</td>\n",
       "      <td>...</td>\n",
       "    </tr>\n",
       "    <tr>\n",
       "      <th>2022-10-31</th>\n",
       "      <td>384.444611</td>\n",
       "      <td>95.170639</td>\n",
       "      <td>21.850000</td>\n",
       "      <td>81.823532</td>\n",
       "      <td>29.767994</td>\n",
       "    </tr>\n",
       "    <tr>\n",
       "      <th>2022-11-30</th>\n",
       "      <td>405.816467</td>\n",
       "      <td>101.976341</td>\n",
       "      <td>21.590000</td>\n",
       "      <td>86.852455</td>\n",
       "      <td>28.360384</td>\n",
       "    </tr>\n",
       "    <tr>\n",
       "      <th>2022-12-31</th>\n",
       "      <td>382.429993</td>\n",
       "      <td>99.304520</td>\n",
       "      <td>21.230000</td>\n",
       "      <td>82.480003</td>\n",
       "      <td>27.809999</td>\n",
       "    </tr>\n",
       "    <tr>\n",
       "      <th>2023-01-31</th>\n",
       "      <td>406.480011</td>\n",
       "      <td>106.894997</td>\n",
       "      <td>21.209999</td>\n",
       "      <td>91.059998</td>\n",
       "      <td>27.510000</td>\n",
       "    </tr>\n",
       "    <tr>\n",
       "      <th>2023-02-28</th>\n",
       "      <td>413.980011</td>\n",
       "      <td>103.050003</td>\n",
       "      <td>20.639999</td>\n",
       "      <td>90.400002</td>\n",
       "      <td>28.070000</td>\n",
       "    </tr>\n",
       "  </tbody>\n",
       "</table>\n",
       "<p>146 rows × 5 columns</p>\n",
       "</div>"
      ],
      "text/plain": [
       "                   SPY         TLT        GSG        VNQ        UUP\n",
       "2011-01-31  102.406509   67.367386  35.160000  35.752136  21.478441\n",
       "2011-02-28  105.963837   68.479042  36.090000  37.434372  21.219084\n",
       "2011-03-31  105.976562   68.499115  37.349998  36.831417  20.930914\n",
       "2011-04-30  109.045784   70.101395  38.939999  38.947964  20.124031\n",
       "2011-05-31  107.822906   72.500854  36.270000  39.483391  20.498655\n",
       "...                ...         ...        ...        ...        ...\n",
       "2022-10-31  384.444611   95.170639  21.850000  81.823532  29.767994\n",
       "2022-11-30  405.816467  101.976341  21.590000  86.852455  28.360384\n",
       "2022-12-31  382.429993   99.304520  21.230000  82.480003  27.809999\n",
       "2023-01-31  406.480011  106.894997  21.209999  91.059998  27.510000\n",
       "2023-02-28  413.980011  103.050003  20.639999  90.400002  28.070000\n",
       "\n",
       "[146 rows x 5 columns]"
      ]
     },
     "execution_count": 25,
     "metadata": {},
     "output_type": "execute_result"
    }
   ],
   "source": [
    "asset_df"
   ]
  },
  {
   "cell_type": "code",
   "execution_count": 26,
   "metadata": {},
   "outputs": [],
   "source": [
    "ma_regime_df = pd.merge(asset_df.pct_change(), regime_df, left_index=True, right_index=True, how='left').dropna()\n",
    "ma_regime_df\n",
    "\n",
    "multi_asset_tickers = ['SPY', 'TLT', 'GSG', 'VNQ', 'UUP']"
   ]
  },
  {
   "cell_type": "code",
   "execution_count": 27,
   "metadata": {},
   "outputs": [
    {
     "ename": "KeyError",
     "evalue": "('deflation', 'inflation', 'recovery', 'expansion')",
     "output_type": "error",
     "traceback": [
      "\u001b[0;31m---------------------------------------------------------------------------\u001b[0m",
      "\u001b[0;31mKeyError\u001b[0m                                  Traceback (most recent call last)",
      "File \u001b[0;32m/usr/local/Caskroom/miniforge/base/envs/finance/lib/python3.9/site-packages/pandas/core/indexes/base.py:3803\u001b[0m, in \u001b[0;36mIndex.get_loc\u001b[0;34m(self, key, method, tolerance)\u001b[0m\n\u001b[1;32m   3802\u001b[0m \u001b[39mtry\u001b[39;00m:\n\u001b[0;32m-> 3803\u001b[0m     \u001b[39mreturn\u001b[39;00m \u001b[39mself\u001b[39;49m\u001b[39m.\u001b[39;49m_engine\u001b[39m.\u001b[39;49mget_loc(casted_key)\n\u001b[1;32m   3804\u001b[0m \u001b[39mexcept\u001b[39;00m \u001b[39mKeyError\u001b[39;00m \u001b[39mas\u001b[39;00m err:\n",
      "File \u001b[0;32m/usr/local/Caskroom/miniforge/base/envs/finance/lib/python3.9/site-packages/pandas/_libs/index.pyx:138\u001b[0m, in \u001b[0;36mpandas._libs.index.IndexEngine.get_loc\u001b[0;34m()\u001b[0m\n",
      "File \u001b[0;32m/usr/local/Caskroom/miniforge/base/envs/finance/lib/python3.9/site-packages/pandas/_libs/index.pyx:165\u001b[0m, in \u001b[0;36mpandas._libs.index.IndexEngine.get_loc\u001b[0;34m()\u001b[0m\n",
      "File \u001b[0;32mpandas/_libs/hashtable_class_helper.pxi:5745\u001b[0m, in \u001b[0;36mpandas._libs.hashtable.PyObjectHashTable.get_item\u001b[0;34m()\u001b[0m\n",
      "File \u001b[0;32mpandas/_libs/hashtable_class_helper.pxi:5753\u001b[0m, in \u001b[0;36mpandas._libs.hashtable.PyObjectHashTable.get_item\u001b[0;34m()\u001b[0m\n",
      "\u001b[0;31mKeyError\u001b[0m: ('deflation', 'inflation', 'recovery', 'expansion')",
      "\nThe above exception was the direct cause of the following exception:\n",
      "\u001b[0;31mKeyError\u001b[0m                                  Traceback (most recent call last)",
      "Cell \u001b[0;32mIn[27], line 1\u001b[0m\n\u001b[0;32m----> 1\u001b[0m ma_regime_df[\u001b[39m'\u001b[39;49m\u001b[39mdeflation\u001b[39;49m\u001b[39m'\u001b[39;49m,\t\u001b[39m'\u001b[39;49m\u001b[39minflation\u001b[39;49m\u001b[39m'\u001b[39;49m,\t\u001b[39m'\u001b[39;49m\u001b[39mrecovery\u001b[39;49m\u001b[39m'\u001b[39;49m,\t\u001b[39m'\u001b[39;49m\u001b[39mexpansion\u001b[39;49m\u001b[39m'\u001b[39;49m]\n",
      "File \u001b[0;32m/usr/local/Caskroom/miniforge/base/envs/finance/lib/python3.9/site-packages/pandas/core/frame.py:3805\u001b[0m, in \u001b[0;36mDataFrame.__getitem__\u001b[0;34m(self, key)\u001b[0m\n\u001b[1;32m   3803\u001b[0m \u001b[39mif\u001b[39;00m \u001b[39mself\u001b[39m\u001b[39m.\u001b[39mcolumns\u001b[39m.\u001b[39mnlevels \u001b[39m>\u001b[39m \u001b[39m1\u001b[39m:\n\u001b[1;32m   3804\u001b[0m     \u001b[39mreturn\u001b[39;00m \u001b[39mself\u001b[39m\u001b[39m.\u001b[39m_getitem_multilevel(key)\n\u001b[0;32m-> 3805\u001b[0m indexer \u001b[39m=\u001b[39m \u001b[39mself\u001b[39;49m\u001b[39m.\u001b[39;49mcolumns\u001b[39m.\u001b[39;49mget_loc(key)\n\u001b[1;32m   3806\u001b[0m \u001b[39mif\u001b[39;00m is_integer(indexer):\n\u001b[1;32m   3807\u001b[0m     indexer \u001b[39m=\u001b[39m [indexer]\n",
      "File \u001b[0;32m/usr/local/Caskroom/miniforge/base/envs/finance/lib/python3.9/site-packages/pandas/core/indexes/base.py:3805\u001b[0m, in \u001b[0;36mIndex.get_loc\u001b[0;34m(self, key, method, tolerance)\u001b[0m\n\u001b[1;32m   3803\u001b[0m     \u001b[39mreturn\u001b[39;00m \u001b[39mself\u001b[39m\u001b[39m.\u001b[39m_engine\u001b[39m.\u001b[39mget_loc(casted_key)\n\u001b[1;32m   3804\u001b[0m \u001b[39mexcept\u001b[39;00m \u001b[39mKeyError\u001b[39;00m \u001b[39mas\u001b[39;00m err:\n\u001b[0;32m-> 3805\u001b[0m     \u001b[39mraise\u001b[39;00m \u001b[39mKeyError\u001b[39;00m(key) \u001b[39mfrom\u001b[39;00m \u001b[39merr\u001b[39;00m\n\u001b[1;32m   3806\u001b[0m \u001b[39mexcept\u001b[39;00m \u001b[39mTypeError\u001b[39;00m:\n\u001b[1;32m   3807\u001b[0m     \u001b[39m# If we have a listlike key, _check_indexing_error will raise\u001b[39;00m\n\u001b[1;32m   3808\u001b[0m     \u001b[39m#  InvalidIndexError. Otherwise we fall through and re-raise\u001b[39;00m\n\u001b[1;32m   3809\u001b[0m     \u001b[39m#  the TypeError.\u001b[39;00m\n\u001b[1;32m   3810\u001b[0m     \u001b[39mself\u001b[39m\u001b[39m.\u001b[39m_check_indexing_error(key)\n",
      "\u001b[0;31mKeyError\u001b[0m: ('deflation', 'inflation', 'recovery', 'expansion')"
     ]
    }
   ],
   "source": [
    "ma_regime_df['deflation',\t'inflation',\t'recovery',\t'expansion']"
   ]
  },
  {
   "attachments": {},
   "cell_type": "markdown",
   "metadata": {},
   "source": [
    "### 회복국면"
   ]
  },
  {
   "cell_type": "code",
   "execution_count": 28,
   "metadata": {},
   "outputs": [
    {
     "data": {
      "text/plain": [
       "<AxesSubplot: >"
      ]
     },
     "execution_count": 28,
     "metadata": {},
     "output_type": "execute_result"
    },
    {
     "data": {
      "image/png": "[encoded data removed]",
      "text/plain": [
       "<Figure size 640x480 with 1 Axes>"
      ]
     },
     "metadata": {},
     "output_type": "display_data"
    }
   ],
   "source": [
    "(1+ma_regime_df[multi_asset_tickers].mul(ma_regime_df['recovery'], axis=0)).cumprod().plot(lw=1)"
   ]
  },
  {
   "cell_type": "code",
   "execution_count": 29,
   "metadata": {},
   "outputs": [],
   "source": [
    "dict_ = {}\n",
    "for ticker in multi_asset_tickers:\n",
    "    dict_[ticker] = Metric(portfolio=(1 + ma_regime_df[ticker] * ma_regime_df.recovery).cumprod(), freq='month').numeric_metric()"
   ]
  },
  {
   "cell_type": "code",
   "execution_count": 30,
   "metadata": {},
   "outputs": [
    {
     "data": {
      "text/html": [
       "<div>\n",
       "<style scoped>\n",
       "    .dataframe tbody tr th:only-of-type {\n",
       "        vertical-align: middle;\n",
       "    }\n",
       "\n",
       "    .dataframe tbody tr th {\n",
       "        vertical-align: top;\n",
       "    }\n",
       "\n",
       "    .dataframe thead th {\n",
       "        text-align: right;\n",
       "    }\n",
       "</style>\n",
       "<table border=\"1\" class=\"dataframe\">\n",
       "  <thead>\n",
       "    <tr style=\"text-align: right;\">\n",
       "      <th></th>\n",
       "      <th>SPY</th>\n",
       "      <th>TLT</th>\n",
       "      <th>GSG</th>\n",
       "      <th>VNQ</th>\n",
       "      <th>UUP</th>\n",
       "    </tr>\n",
       "  </thead>\n",
       "  <tbody>\n",
       "    <tr>\n",
       "      <th>returns</th>\n",
       "      <td>190.57</td>\n",
       "      <td>90.26</td>\n",
       "      <td>140.97</td>\n",
       "      <td>149.21</td>\n",
       "      <td>90.95</td>\n",
       "    </tr>\n",
       "    <tr>\n",
       "      <th>CAGR</th>\n",
       "      <td>5.52</td>\n",
       "      <td>-0.85</td>\n",
       "      <td>2.90</td>\n",
       "      <td>3.39</td>\n",
       "      <td>-0.79</td>\n",
       "    </tr>\n",
       "    <tr>\n",
       "      <th>volatility</th>\n",
       "      <td>0.06</td>\n",
       "      <td>0.05</td>\n",
       "      <td>0.07</td>\n",
       "      <td>0.06</td>\n",
       "      <td>0.03</td>\n",
       "    </tr>\n",
       "    <tr>\n",
       "      <th>skewness</th>\n",
       "      <td>3.12</td>\n",
       "      <td>-0.64</td>\n",
       "      <td>1.13</td>\n",
       "      <td>1.89</td>\n",
       "      <td>-0.14</td>\n",
       "    </tr>\n",
       "    <tr>\n",
       "      <th>kurtosis</th>\n",
       "      <td>14.32</td>\n",
       "      <td>10.46</td>\n",
       "      <td>11.40</td>\n",
       "      <td>8.73</td>\n",
       "      <td>7.50</td>\n",
       "    </tr>\n",
       "    <tr>\n",
       "      <th>MDD</th>\n",
       "      <td>-0.06</td>\n",
       "      <td>-0.16</td>\n",
       "      <td>-0.11</td>\n",
       "      <td>-0.12</td>\n",
       "      <td>-0.18</td>\n",
       "    </tr>\n",
       "    <tr>\n",
       "      <th>MDD_duration</th>\n",
       "      <td>761.00</td>\n",
       "      <td>2375.00</td>\n",
       "      <td>1736.00</td>\n",
       "      <td>1430.00</td>\n",
       "      <td>2222.00</td>\n",
       "    </tr>\n",
       "    <tr>\n",
       "      <th>sharp</th>\n",
       "      <td>0.27</td>\n",
       "      <td>-0.92</td>\n",
       "      <td>-0.15</td>\n",
       "      <td>-0.10</td>\n",
       "      <td>-1.61</td>\n",
       "    </tr>\n",
       "    <tr>\n",
       "      <th>sortino</th>\n",
       "      <td>1.67</td>\n",
       "      <td>-0.99</td>\n",
       "      <td>-0.02</td>\n",
       "      <td>0.14</td>\n",
       "      <td>-1.78</td>\n",
       "    </tr>\n",
       "    <tr>\n",
       "      <th>calmar</th>\n",
       "      <td>0.90</td>\n",
       "      <td>-0.05</td>\n",
       "      <td>0.28</td>\n",
       "      <td>0.27</td>\n",
       "      <td>-0.04</td>\n",
       "    </tr>\n",
       "    <tr>\n",
       "      <th>VaR</th>\n",
       "      <td>-0.02</td>\n",
       "      <td>-0.05</td>\n",
       "      <td>-0.04</td>\n",
       "      <td>-0.04</td>\n",
       "      <td>-0.03</td>\n",
       "    </tr>\n",
       "    <tr>\n",
       "      <th>VaR_ratio</th>\n",
       "      <td>0.21</td>\n",
       "      <td>-0.01</td>\n",
       "      <td>0.06</td>\n",
       "      <td>0.08</td>\n",
       "      <td>-0.02</td>\n",
       "    </tr>\n",
       "    <tr>\n",
       "      <th>CVaR</th>\n",
       "      <td>-0.03</td>\n",
       "      <td>-0.07</td>\n",
       "      <td>-0.07</td>\n",
       "      <td>-0.05</td>\n",
       "      <td>-0.03</td>\n",
       "    </tr>\n",
       "    <tr>\n",
       "      <th>CVaR_ratio</th>\n",
       "      <td>0.15</td>\n",
       "      <td>-0.01</td>\n",
       "      <td>0.04</td>\n",
       "      <td>0.06</td>\n",
       "      <td>-0.02</td>\n",
       "    </tr>\n",
       "    <tr>\n",
       "      <th>hit</th>\n",
       "      <td>0.81</td>\n",
       "      <td>0.47</td>\n",
       "      <td>0.58</td>\n",
       "      <td>0.58</td>\n",
       "      <td>0.37</td>\n",
       "    </tr>\n",
       "    <tr>\n",
       "      <th>GtP</th>\n",
       "      <td>1.59</td>\n",
       "      <td>0.91</td>\n",
       "      <td>1.35</td>\n",
       "      <td>1.73</td>\n",
       "      <td>1.17</td>\n",
       "    </tr>\n",
       "  </tbody>\n",
       "</table>\n",
       "</div>"
      ],
      "text/plain": [
       "                 SPY      TLT      GSG      VNQ      UUP\n",
       "returns       190.57    90.26   140.97   149.21    90.95\n",
       "CAGR            5.52    -0.85     2.90     3.39    -0.79\n",
       "volatility      0.06     0.05     0.07     0.06     0.03\n",
       "skewness        3.12    -0.64     1.13     1.89    -0.14\n",
       "kurtosis       14.32    10.46    11.40     8.73     7.50\n",
       "MDD            -0.06    -0.16    -0.11    -0.12    -0.18\n",
       "MDD_duration  761.00  2375.00  1736.00  1430.00  2222.00\n",
       "sharp           0.27    -0.92    -0.15    -0.10    -1.61\n",
       "sortino         1.67    -0.99    -0.02     0.14    -1.78\n",
       "calmar          0.90    -0.05     0.28     0.27    -0.04\n",
       "VaR            -0.02    -0.05    -0.04    -0.04    -0.03\n",
       "VaR_ratio       0.21    -0.01     0.06     0.08    -0.02\n",
       "CVaR           -0.03    -0.07    -0.07    -0.05    -0.03\n",
       "CVaR_ratio      0.15    -0.01     0.04     0.06    -0.02\n",
       "hit             0.81     0.47     0.58     0.58     0.37\n",
       "GtP             1.59     0.91     1.35     1.73     1.17"
      ]
     },
     "execution_count": 30,
     "metadata": {},
     "output_type": "execute_result"
    }
   ],
   "source": [
    "pd.DataFrame(dict_)"
   ]
  },
  {
   "cell_type": "code",
   "execution_count": 31,
   "metadata": {},
   "outputs": [],
   "source": [
    "_list = ['returns', 'CAGR', 'volatility', 'MDD', 'sharp']\n",
    "_regime = ['deflation',\t'inflation','recovery',\t'expansion']\n",
    "multi_asset_tickers = ['SPY', 'TLT', 'GSG', 'VNQ', 'UUP']\n",
    "\n",
    "wow = {}\n",
    "for ticker in multi_asset_tickers:\n",
    "    _dict = []\n",
    "    for i in _regime:\n",
    "        temp = {}\n",
    "        for j in _list:\n",
    "            temp[j] = [Metric(portfolio=(1 + ma_regime_df[ma_regime_df[i]==1][ticker]).cumprod(), freq='month').numeric_metric()[j]]\n",
    "        _dict.append(pd.DataFrame(temp, index=[f'{ticker}: {i}']).T)\n",
    "    wow[ticker] = _dict"
   ]
  },
  {
   "cell_type": "code",
   "execution_count": 32,
   "metadata": {},
   "outputs": [],
   "source": [
    "total = pd.concat([pd.concat([wow['SPY'][0], wow['SPY'][1], wow['SPY'][2], wow['SPY'][3]], axis=1).T,\n",
    "           pd.concat([wow['TLT'][0], wow['TLT'][1], wow['TLT'][2], wow['TLT'][3]], axis=1).T,\n",
    "           pd.concat([wow['GSG'][0], wow['GSG'][1], wow['GSG'][2], wow['GSG'][3]], axis=1).T,\n",
    "           pd.concat([wow['VNQ'][0], wow['VNQ'][1], wow['VNQ'][2], wow['VNQ'][3]], axis=1).T,\n",
    "           pd.concat([wow['UUP'][0], wow['UUP'][1], wow['UUP'][2], wow['UUP'][3]], axis=1).T])"
   ]
  },
  {
   "cell_type": "code",
   "execution_count": 33,
   "metadata": {},
   "outputs": [
    {
     "data": {
      "text/html": [
       "<div>\n",
       "<style scoped>\n",
       "    .dataframe tbody tr th:only-of-type {\n",
       "        vertical-align: middle;\n",
       "    }\n",
       "\n",
       "    .dataframe tbody tr th {\n",
       "        vertical-align: top;\n",
       "    }\n",
       "\n",
       "    .dataframe thead th {\n",
       "        text-align: right;\n",
       "    }\n",
       "</style>\n",
       "<table border=\"1\" class=\"dataframe\">\n",
       "  <thead>\n",
       "    <tr style=\"text-align: right;\">\n",
       "      <th></th>\n",
       "      <th>returns</th>\n",
       "      <th>CAGR</th>\n",
       "      <th>volatility</th>\n",
       "      <th>MDD</th>\n",
       "      <th>sharp</th>\n",
       "    </tr>\n",
       "  </thead>\n",
       "  <tbody>\n",
       "    <tr>\n",
       "      <th>SPY: expansion</th>\n",
       "      <td>174.23</td>\n",
       "      <td>21.65</td>\n",
       "      <td>0.08</td>\n",
       "      <td>-0.06</td>\n",
       "      <td>2.15</td>\n",
       "    </tr>\n",
       "    <tr>\n",
       "      <th>TLT: expansion</th>\n",
       "      <td>95.11</td>\n",
       "      <td>-1.76</td>\n",
       "      <td>0.10</td>\n",
       "      <td>-0.19</td>\n",
       "      <td>-0.57</td>\n",
       "    </tr>\n",
       "    <tr>\n",
       "      <th>GSG: expansion</th>\n",
       "      <td>132.80</td>\n",
       "      <td>10.53</td>\n",
       "      <td>0.13</td>\n",
       "      <td>-0.17</td>\n",
       "      <td>0.50</td>\n",
       "    </tr>\n",
       "    <tr>\n",
       "      <th>VNQ: expansion</th>\n",
       "      <td>124.42</td>\n",
       "      <td>8.02</td>\n",
       "      <td>0.13</td>\n",
       "      <td>-0.17</td>\n",
       "      <td>0.30</td>\n",
       "    </tr>\n",
       "    <tr>\n",
       "      <th>UUP: expansion</th>\n",
       "      <td>110.79</td>\n",
       "      <td>3.68</td>\n",
       "      <td>0.06</td>\n",
       "      <td>-0.05</td>\n",
       "      <td>-0.05</td>\n",
       "    </tr>\n",
       "  </tbody>\n",
       "</table>\n",
       "</div>"
      ],
      "text/plain": [
       "               returns   CAGR volatility    MDD  sharp\n",
       "SPY: expansion  174.23  21.65       0.08  -0.06   2.15\n",
       "TLT: expansion   95.11  -1.76       0.10  -0.19  -0.57\n",
       "GSG: expansion  132.80  10.53       0.13  -0.17   0.50\n",
       "VNQ: expansion  124.42   8.02       0.13  -0.17   0.30\n",
       "UUP: expansion  110.79   3.68       0.06  -0.05  -0.05"
      ]
     },
     "execution_count": 33,
     "metadata": {},
     "output_type": "execute_result"
    }
   ],
   "source": [
    "total[::4]\n",
    "total[1::4]\n",
    "total[2::4]\n",
    "total[3::4]"
   ]
  },
  {
   "attachments": {},
   "cell_type": "markdown",
   "metadata": {},
   "source": [
    "### 결과\n",
    "     - recovery: 저성장/성장 상승 추세/저인플레이션, 저성장/성장 상승 추세/고인플레이션\n",
    "     - 경제가 회복하는 국면\n",
    "     - 주식과 부동산 등 위험자산이 가장 좋은 성과를 보임\n",
    "     - 경제와 인플레이션이 점차 회복되어 채권금리가 상승 -> 장기채권은 불리\n",
    "     - 저성장 -> 원자재 역시 횡보하는 경향을 보임\n",
    "       - 예외: 코로나 이후의 급등"
   ]
  },
  {
   "attachments": {},
   "cell_type": "markdown",
   "metadata": {},
   "source": [
    "### 과열국면"
   ]
  },
  {
   "cell_type": "code",
   "execution_count": 34,
   "metadata": {},
   "outputs": [
    {
     "data": {
      "text/plain": [
       "<AxesSubplot: >"
      ]
     },
     "execution_count": 34,
     "metadata": {},
     "output_type": "execute_result"
    },
    {
     "data": {
      "image/png": "[encoded data removed]",
      "text/plain": [
       "<Figure size 640x480 with 1 Axes>"
      ]
     },
     "metadata": {},
     "output_type": "display_data"
    }
   ],
   "source": [
    "(1+ma_regime_df[multi_asset_tickers].mul(ma_regime_df['expansion'], axis=0)).cumprod().plot(lw=1)"
   ]
  },
  {
   "cell_type": "code",
   "execution_count": 35,
   "metadata": {},
   "outputs": [
    {
     "name": "stdout",
     "output_type": "stream",
     "text": [
      "SPY\n",
      "\n",
      "TLT\n",
      "\n",
      "GSG\n",
      "\n",
      "VNQ\n",
      "\n",
      "UUP\n",
      "\n"
     ]
    }
   ],
   "source": [
    "for ticker in multi_asset_tickers:\n",
    "    print(ticker)\n",
    "    Metric(portfolio=(1 + ma_regime_df[ticker] * ma_regime_df.expansion).cumprod(), freq='month').numeric_metric()\n",
    "    print()"
   ]
  },
  {
   "attachments": {},
   "cell_type": "markdown",
   "metadata": {},
   "source": [
    "### 결과\n",
    "      - expansion: 고성장/성장 상승 추세/고인플레이션, 고성장/성장 하락 추세/고인플레이션\n",
    "      - 경기가 피크를 찍는 국면\n",
    "      - 연준은 과열을 막기 위해 긴축정책을 시행\n",
    "      - 결국 경기는 점차 둔화되기 시작\n",
    "      - 고성장으로 주식도 좋은 성과를 보임\n",
    "      - 고성장 고인플레인션 국면 -> 원자재 주식 다음으로 좋은 성과\n",
    "        - 예외: 2013년 국제원자재가격은 신흥국의 수요 둔화, 생산 호조, 달러화 강세 및 투기자금 유입 감소 등으로 전반적으로 하향 안정되는 모습\n",
    "        - https://www.bok.or.kr/portal/bbs/P0000528/view.do?nttId=196279&menuNo=200434&pageIndex="
   ]
  },
  {
   "attachments": {},
   "cell_type": "markdown",
   "metadata": {},
   "source": [
    "### 인플레이션 국면"
   ]
  },
  {
   "cell_type": "code",
   "execution_count": 36,
   "metadata": {},
   "outputs": [
    {
     "data": {
      "text/html": [
       "<div>\n",
       "<style scoped>\n",
       "    .dataframe tbody tr th:only-of-type {\n",
       "        vertical-align: middle;\n",
       "    }\n",
       "\n",
       "    .dataframe tbody tr th {\n",
       "        vertical-align: top;\n",
       "    }\n",
       "\n",
       "    .dataframe thead th {\n",
       "        text-align: right;\n",
       "    }\n",
       "</style>\n",
       "<table border=\"1\" class=\"dataframe\">\n",
       "  <thead>\n",
       "    <tr style=\"text-align: right;\">\n",
       "      <th></th>\n",
       "      <th>SPY</th>\n",
       "      <th>TLT</th>\n",
       "      <th>GSG</th>\n",
       "      <th>VNQ</th>\n",
       "      <th>UUP</th>\n",
       "      <th>sp500_rets</th>\n",
       "      <th>deflation</th>\n",
       "      <th>inflation</th>\n",
       "      <th>recovery</th>\n",
       "      <th>expansion</th>\n",
       "    </tr>\n",
       "  </thead>\n",
       "  <tbody>\n",
       "    <tr>\n",
       "      <th>2011-02-28</th>\n",
       "      <td>0.034737</td>\n",
       "      <td>0.016501</td>\n",
       "      <td>0.026451</td>\n",
       "      <td>0.047053</td>\n",
       "      <td>-0.012075</td>\n",
       "      <td>0.034737</td>\n",
       "      <td>0.0</td>\n",
       "      <td>0.0</td>\n",
       "      <td>0.0</td>\n",
       "      <td>1.0</td>\n",
       "    </tr>\n",
       "    <tr>\n",
       "      <th>2011-03-31</th>\n",
       "      <td>0.000120</td>\n",
       "      <td>0.000293</td>\n",
       "      <td>0.034913</td>\n",
       "      <td>-0.016107</td>\n",
       "      <td>-0.013581</td>\n",
       "      <td>0.000120</td>\n",
       "      <td>0.0</td>\n",
       "      <td>0.0</td>\n",
       "      <td>0.0</td>\n",
       "      <td>1.0</td>\n",
       "    </tr>\n",
       "    <tr>\n",
       "      <th>2011-04-30</th>\n",
       "      <td>0.028961</td>\n",
       "      <td>0.023391</td>\n",
       "      <td>0.042570</td>\n",
       "      <td>0.057466</td>\n",
       "      <td>-0.038550</td>\n",
       "      <td>0.028962</td>\n",
       "      <td>0.0</td>\n",
       "      <td>0.0</td>\n",
       "      <td>0.0</td>\n",
       "      <td>0.0</td>\n",
       "    </tr>\n",
       "    <tr>\n",
       "      <th>2011-05-31</th>\n",
       "      <td>-0.011214</td>\n",
       "      <td>0.034228</td>\n",
       "      <td>-0.068567</td>\n",
       "      <td>0.013747</td>\n",
       "      <td>0.018616</td>\n",
       "      <td>-0.011214</td>\n",
       "      <td>0.0</td>\n",
       "      <td>0.0</td>\n",
       "      <td>0.0</td>\n",
       "      <td>0.0</td>\n",
       "    </tr>\n",
       "    <tr>\n",
       "      <th>2011-06-30</th>\n",
       "      <td>-0.016870</td>\n",
       "      <td>-0.023230</td>\n",
       "      <td>-0.059553</td>\n",
       "      <td>-0.032993</td>\n",
       "      <td>-0.005623</td>\n",
       "      <td>-0.016870</td>\n",
       "      <td>0.0</td>\n",
       "      <td>0.0</td>\n",
       "      <td>0.0</td>\n",
       "      <td>0.0</td>\n",
       "    </tr>\n",
       "    <tr>\n",
       "      <th>...</th>\n",
       "      <td>...</td>\n",
       "      <td>...</td>\n",
       "      <td>...</td>\n",
       "      <td>...</td>\n",
       "      <td>...</td>\n",
       "      <td>...</td>\n",
       "      <td>...</td>\n",
       "      <td>...</td>\n",
       "      <td>...</td>\n",
       "      <td>...</td>\n",
       "    </tr>\n",
       "    <tr>\n",
       "      <th>2022-09-30</th>\n",
       "      <td>-0.092446</td>\n",
       "      <td>-0.082351</td>\n",
       "      <td>-0.075056</td>\n",
       "      <td>-0.128713</td>\n",
       "      <td>0.035726</td>\n",
       "      <td>-0.092446</td>\n",
       "      <td>0.0</td>\n",
       "      <td>1.0</td>\n",
       "      <td>0.0</td>\n",
       "      <td>0.0</td>\n",
       "    </tr>\n",
       "    <tr>\n",
       "      <th>2022-10-31</th>\n",
       "      <td>0.081276</td>\n",
       "      <td>-0.059644</td>\n",
       "      <td>0.061710</td>\n",
       "      <td>0.035051</td>\n",
       "      <td>-0.003980</td>\n",
       "      <td>0.081276</td>\n",
       "      <td>0.0</td>\n",
       "      <td>1.0</td>\n",
       "      <td>0.0</td>\n",
       "      <td>0.0</td>\n",
       "    </tr>\n",
       "    <tr>\n",
       "      <th>2022-11-30</th>\n",
       "      <td>0.055592</td>\n",
       "      <td>0.071511</td>\n",
       "      <td>-0.011899</td>\n",
       "      <td>0.061461</td>\n",
       "      <td>-0.047286</td>\n",
       "      <td>0.055592</td>\n",
       "      <td>0.0</td>\n",
       "      <td>1.0</td>\n",
       "      <td>0.0</td>\n",
       "      <td>0.0</td>\n",
       "    </tr>\n",
       "    <tr>\n",
       "      <th>2022-12-31</th>\n",
       "      <td>-0.057628</td>\n",
       "      <td>-0.026200</td>\n",
       "      <td>-0.016674</td>\n",
       "      <td>-0.050343</td>\n",
       "      <td>-0.019407</td>\n",
       "      <td>-0.057628</td>\n",
       "      <td>0.0</td>\n",
       "      <td>1.0</td>\n",
       "      <td>0.0</td>\n",
       "      <td>0.0</td>\n",
       "    </tr>\n",
       "    <tr>\n",
       "      <th>2023-01-31</th>\n",
       "      <td>0.062887</td>\n",
       "      <td>0.076436</td>\n",
       "      <td>-0.000942</td>\n",
       "      <td>0.104025</td>\n",
       "      <td>-0.010787</td>\n",
       "      <td>0.062887</td>\n",
       "      <td>0.0</td>\n",
       "      <td>1.0</td>\n",
       "      <td>0.0</td>\n",
       "      <td>0.0</td>\n",
       "    </tr>\n",
       "  </tbody>\n",
       "</table>\n",
       "<p>144 rows × 10 columns</p>\n",
       "</div>"
      ],
      "text/plain": [
       "                 SPY       TLT       GSG       VNQ       UUP  sp500_rets  \\\n",
       "2011-02-28  0.034737  0.016501  0.026451  0.047053 -0.012075    0.034737   \n",
       "2011-03-31  0.000120  0.000293  0.034913 -0.016107 -0.013581    0.000120   \n",
       "2011-04-30  0.028961  0.023391  0.042570  0.057466 -0.038550    0.028962   \n",
       "2011-05-31 -0.011214  0.034228 -0.068567  0.013747  0.018616   -0.011214   \n",
       "2011-06-30 -0.016870 -0.023230 -0.059553 -0.032993 -0.005623   -0.016870   \n",
       "...              ...       ...       ...       ...       ...         ...   \n",
       "2022-09-30 -0.092446 -0.082351 -0.075056 -0.128713  0.035726   -0.092446   \n",
       "2022-10-31  0.081276 -0.059644  0.061710  0.035051 -0.003980    0.081276   \n",
       "2022-11-30  0.055592  0.071511 -0.011899  0.061461 -0.047286    0.055592   \n",
       "2022-12-31 -0.057628 -0.026200 -0.016674 -0.050343 -0.019407   -0.057628   \n",
       "2023-01-31  0.062887  0.076436 -0.000942  0.104025 -0.010787    0.062887   \n",
       "\n",
       "            deflation  inflation  recovery  expansion  \n",
       "2011-02-28        0.0        0.0       0.0        1.0  \n",
       "2011-03-31        0.0        0.0       0.0        1.0  \n",
       "2011-04-30        0.0        0.0       0.0        0.0  \n",
       "2011-05-31        0.0        0.0       0.0        0.0  \n",
       "2011-06-30        0.0        0.0       0.0        0.0  \n",
       "...               ...        ...       ...        ...  \n",
       "2022-09-30        0.0        1.0       0.0        0.0  \n",
       "2022-10-31        0.0        1.0       0.0        0.0  \n",
       "2022-11-30        0.0        1.0       0.0        0.0  \n",
       "2022-12-31        0.0        1.0       0.0        0.0  \n",
       "2023-01-31        0.0        1.0       0.0        0.0  \n",
       "\n",
       "[144 rows x 10 columns]"
      ]
     },
     "execution_count": 36,
     "metadata": {},
     "output_type": "execute_result"
    }
   ],
   "source": [
    "ma_regime_df"
   ]
  },
  {
   "cell_type": "code",
   "execution_count": 37,
   "metadata": {},
   "outputs": [
    {
     "data": {
      "text/plain": [
       "<AxesSubplot: >"
      ]
     },
     "execution_count": 37,
     "metadata": {},
     "output_type": "execute_result"
    },
    {
     "data": {
      "image/png": "[encoded data removed]",
      "text/plain": [
       "<Figure size 640x480 with 1 Axes>"
      ]
     },
     "metadata": {},
     "output_type": "display_data"
    }
   ],
   "source": [
    "(1+ma_regime_df[multi_asset_tickers].mul(ma_regime_df['inflation'], axis=0)).cumprod().plot(lw=1)"
   ]
  },
  {
   "cell_type": "code",
   "execution_count": null,
   "metadata": {},
   "outputs": [],
   "source": [
    "for ticker in multi_asset_tickers:\n",
    "    print(ticker)\n",
    "    Metric(portfolio=(1 + ma_regime_df[ticker] * ma_regime_df.inflation).cumprod(), freq='month').print_report()\n",
    "    print()"
   ]
  },
  {
   "cell_type": "code",
   "execution_count": null,
   "metadata": {},
   "outputs": [],
   "source": [
    "ma_regime_df[ma_regime_df.inflation != 0]"
   ]
  },
  {
   "cell_type": "code",
   "execution_count": null,
   "metadata": {},
   "outputs": [],
   "source": [
    "ma_regime_df.inflation.iloc[-8:]\n",
    "ma_regime_df.iloc[-8:]"
   ]
  },
  {
   "attachments": {},
   "cell_type": "markdown",
   "metadata": {},
   "source": [
    "### 결과\n",
    "    - inflation: 저성장/성장 하락 추세/고인플레이션\n",
    "    - 높은 인플레이션 유지되고 있지만 성장이 둔화 또는 침체되는 국면\n",
    "    - 연준은 높은 인플레이션을 제어하기 위해 공적적으로 기준금리를 인상하게 되고 경기 둔화 폭이 확대\n",
    "    - 높은 인플레이션으로 인해 원자재 가격이 일시적으로 크게 상승할 수 있지만 경기 둔화로 인한 수요 감소 폭이 커질 경우 급격한 조정을 받는다.\n",
    "    - 달러 인덱스만 수익 발생 -> 회복기에서 상승, 후퇴기에 하락, 위축기에 상승. 하지만 달러는 안전자산의 역할도 하기 때문에 경제 위축기에 상승하는 모습을 보이기도 한다.  "
   ]
  },
  {
   "attachments": {},
   "cell_type": "markdown",
   "metadata": {},
   "source": [
    "### 위축국면"
   ]
  },
  {
   "cell_type": "code",
   "execution_count": 174,
   "metadata": {},
   "outputs": [
    {
     "data": {
      "text/plain": [
       "<AxesSubplot: >"
      ]
     },
     "execution_count": 174,
     "metadata": {},
     "output_type": "execute_result"
    },
    {
     "data": {
      "image/png": "[encoded data removed]",
      "text/plain": [
       "<Figure size 640x480 with 1 Axes>"
      ]
     },
     "metadata": {},
     "output_type": "display_data"
    }
   ],
   "source": [
    "(1+ma_regime_df[multi_asset_tickers].mul(ma_regime_df['deflation'], axis=0)).cumprod().plot(lw=1)"
   ]
  },
  {
   "cell_type": "code",
   "execution_count": null,
   "metadata": {},
   "outputs": [],
   "source": [
    "for ticker in multi_asset_tickers:\n",
    "    print(ticker)\n",
    "    Metric(portfolio=(1 + ma_regime_df[ticker] * ma_regime_df.deflation).cumprod(), freq='month').print_report()\n",
    "    print()"
   ]
  },
  {
   "attachments": {},
   "cell_type": "markdown",
   "metadata": {},
   "source": [
    "### 결과\n",
    "    - deflation: 저성장/성장 하락 추세/저인플레이션\n",
    "    - 성장과 인플레이션이 모두 낮게 유지되는 국면\n",
    "    - 위축 국면이 길어질수록 급격한 수요 감소와 디레버리징이 나타나게 되고 경기침체가 발생\n",
    "    - 모든 위험 자산 가격이 크게 하락\n",
    "    - 안전사잔인 장기채권과 달러가 가장 좋은 성과를 보임"
   ]
  },
  {
   "attachments": {},
   "cell_type": "markdown",
   "metadata": {},
   "source": [
    "### 종합\n",
    "    - 회복국면\n",
    "      - buy 주식, 부동산\n",
    "      - sell 장기채권\n",
    "    - 과열국면\n",
    "      - buy 주식, 원자재\n",
    "      - sell 장기 채권\n",
    "    - 인플레이션\n",
    "      - buy 달러\n",
    "      - sell 주식\n",
    "    - 위축국면\n",
    "      - buy 장기채권\n",
    "      - sell 주식, 부동산, 원자재\n",
    "    \n",
    "    - 추가 인사이트\n",
    "      - 원자재는 거시경제의 영향과 수요와 공급(미시경제)의 영향 역시 많이 받는다. \n",
    "      -> 신문,기사 등의 영향을 추가하기 위해 NLP 사용해볼 수 있듯  "
   ]
  },
  {
   "cell_type": "markdown",
   "metadata": {},
   "source": [
    "### 마지막으로 각 국면별 성과가 가장 좋은 자산군에 투자한다고 가정하고 백테스트 진행해보자"
   ]
  },
  {
   "cell_type": "code",
   "execution_count": 159,
   "metadata": {},
   "outputs": [
    {
     "data": {
      "text/html": [
       "<div>\n",
       "<style scoped>\n",
       "    .dataframe tbody tr th:only-of-type {\n",
       "        vertical-align: middle;\n",
       "    }\n",
       "\n",
       "    .dataframe tbody tr th {\n",
       "        vertical-align: top;\n",
       "    }\n",
       "\n",
       "    .dataframe thead th {\n",
       "        text-align: right;\n",
       "    }\n",
       "</style>\n",
       "<table border=\"1\" class=\"dataframe\">\n",
       "  <thead>\n",
       "    <tr style=\"text-align: right;\">\n",
       "      <th></th>\n",
       "      <th>SPY</th>\n",
       "      <th>TLT</th>\n",
       "      <th>GSG</th>\n",
       "      <th>VNQ</th>\n",
       "      <th>UUP</th>\n",
       "      <th>sp500_rets</th>\n",
       "      <th>deflation</th>\n",
       "      <th>inflation</th>\n",
       "      <th>recovery</th>\n",
       "      <th>expansion</th>\n",
       "    </tr>\n",
       "  </thead>\n",
       "  <tbody>\n",
       "    <tr>\n",
       "      <th>2011-02-28</th>\n",
       "      <td>0.034738</td>\n",
       "      <td>0.016502</td>\n",
       "      <td>0.026451</td>\n",
       "      <td>0.047053</td>\n",
       "      <td>-0.012075</td>\n",
       "      <td>0.034737</td>\n",
       "      <td>0.0</td>\n",
       "      <td>0.0</td>\n",
       "      <td>0.0</td>\n",
       "      <td>1.0</td>\n",
       "    </tr>\n",
       "    <tr>\n",
       "      <th>2011-03-31</th>\n",
       "      <td>0.000120</td>\n",
       "      <td>0.000293</td>\n",
       "      <td>0.034913</td>\n",
       "      <td>-0.016107</td>\n",
       "      <td>-0.013581</td>\n",
       "      <td>0.000120</td>\n",
       "      <td>0.0</td>\n",
       "      <td>0.0</td>\n",
       "      <td>0.0</td>\n",
       "      <td>1.0</td>\n",
       "    </tr>\n",
       "    <tr>\n",
       "      <th>2011-04-30</th>\n",
       "      <td>0.028961</td>\n",
       "      <td>0.023391</td>\n",
       "      <td>0.042570</td>\n",
       "      <td>0.057465</td>\n",
       "      <td>-0.038550</td>\n",
       "      <td>0.028961</td>\n",
       "      <td>0.0</td>\n",
       "      <td>0.0</td>\n",
       "      <td>0.0</td>\n",
       "      <td>0.0</td>\n",
       "    </tr>\n",
       "    <tr>\n",
       "      <th>2011-05-31</th>\n",
       "      <td>-0.011215</td>\n",
       "      <td>0.034228</td>\n",
       "      <td>-0.068567</td>\n",
       "      <td>0.013747</td>\n",
       "      <td>0.018616</td>\n",
       "      <td>-0.011214</td>\n",
       "      <td>0.0</td>\n",
       "      <td>0.0</td>\n",
       "      <td>0.0</td>\n",
       "      <td>0.0</td>\n",
       "    </tr>\n",
       "    <tr>\n",
       "      <th>2011-06-30</th>\n",
       "      <td>-0.016870</td>\n",
       "      <td>-0.023230</td>\n",
       "      <td>-0.059553</td>\n",
       "      <td>-0.032992</td>\n",
       "      <td>-0.005623</td>\n",
       "      <td>-0.016870</td>\n",
       "      <td>0.0</td>\n",
       "      <td>0.0</td>\n",
       "      <td>0.0</td>\n",
       "      <td>0.0</td>\n",
       "    </tr>\n",
       "    <tr>\n",
       "      <th>...</th>\n",
       "      <td>...</td>\n",
       "      <td>...</td>\n",
       "      <td>...</td>\n",
       "      <td>...</td>\n",
       "      <td>...</td>\n",
       "      <td>...</td>\n",
       "      <td>...</td>\n",
       "      <td>...</td>\n",
       "      <td>...</td>\n",
       "      <td>...</td>\n",
       "    </tr>\n",
       "    <tr>\n",
       "      <th>2022-09-30</th>\n",
       "      <td>-0.092446</td>\n",
       "      <td>-0.082351</td>\n",
       "      <td>-0.075056</td>\n",
       "      <td>-0.128713</td>\n",
       "      <td>0.035726</td>\n",
       "      <td>-0.092446</td>\n",
       "      <td>0.0</td>\n",
       "      <td>1.0</td>\n",
       "      <td>0.0</td>\n",
       "      <td>0.0</td>\n",
       "    </tr>\n",
       "    <tr>\n",
       "      <th>2022-10-31</th>\n",
       "      <td>0.081276</td>\n",
       "      <td>-0.059644</td>\n",
       "      <td>0.061710</td>\n",
       "      <td>0.035051</td>\n",
       "      <td>-0.003980</td>\n",
       "      <td>0.081276</td>\n",
       "      <td>0.0</td>\n",
       "      <td>1.0</td>\n",
       "      <td>0.0</td>\n",
       "      <td>0.0</td>\n",
       "    </tr>\n",
       "    <tr>\n",
       "      <th>2022-11-30</th>\n",
       "      <td>0.055592</td>\n",
       "      <td>0.071511</td>\n",
       "      <td>-0.011899</td>\n",
       "      <td>0.061461</td>\n",
       "      <td>-0.047286</td>\n",
       "      <td>0.055592</td>\n",
       "      <td>0.0</td>\n",
       "      <td>1.0</td>\n",
       "      <td>0.0</td>\n",
       "      <td>0.0</td>\n",
       "    </tr>\n",
       "    <tr>\n",
       "      <th>2022-12-31</th>\n",
       "      <td>-0.057628</td>\n",
       "      <td>-0.026200</td>\n",
       "      <td>-0.016674</td>\n",
       "      <td>-0.050343</td>\n",
       "      <td>-0.019407</td>\n",
       "      <td>-0.057628</td>\n",
       "      <td>0.0</td>\n",
       "      <td>1.0</td>\n",
       "      <td>0.0</td>\n",
       "      <td>0.0</td>\n",
       "    </tr>\n",
       "    <tr>\n",
       "      <th>2023-01-31</th>\n",
       "      <td>0.062887</td>\n",
       "      <td>0.076436</td>\n",
       "      <td>-0.000942</td>\n",
       "      <td>0.104025</td>\n",
       "      <td>-0.010787</td>\n",
       "      <td>0.062887</td>\n",
       "      <td>0.0</td>\n",
       "      <td>1.0</td>\n",
       "      <td>0.0</td>\n",
       "      <td>0.0</td>\n",
       "    </tr>\n",
       "  </tbody>\n",
       "</table>\n",
       "<p>144 rows × 10 columns</p>\n",
       "</div>"
      ],
      "text/plain": [
       "                 SPY       TLT       GSG       VNQ       UUP  sp500_rets  \\\n",
       "2011-02-28  0.034738  0.016502  0.026451  0.047053 -0.012075    0.034737   \n",
       "2011-03-31  0.000120  0.000293  0.034913 -0.016107 -0.013581    0.000120   \n",
       "2011-04-30  0.028961  0.023391  0.042570  0.057465 -0.038550    0.028961   \n",
       "2011-05-31 -0.011215  0.034228 -0.068567  0.013747  0.018616   -0.011214   \n",
       "2011-06-30 -0.016870 -0.023230 -0.059553 -0.032992 -0.005623   -0.016870   \n",
       "...              ...       ...       ...       ...       ...         ...   \n",
       "2022-09-30 -0.092446 -0.082351 -0.075056 -0.128713  0.035726   -0.092446   \n",
       "2022-10-31  0.081276 -0.059644  0.061710  0.035051 -0.003980    0.081276   \n",
       "2022-11-30  0.055592  0.071511 -0.011899  0.061461 -0.047286    0.055592   \n",
       "2022-12-31 -0.057628 -0.026200 -0.016674 -0.050343 -0.019407   -0.057628   \n",
       "2023-01-31  0.062887  0.076436 -0.000942  0.104025 -0.010787    0.062887   \n",
       "\n",
       "            deflation  inflation  recovery  expansion  \n",
       "2011-02-28        0.0        0.0       0.0        1.0  \n",
       "2011-03-31        0.0        0.0       0.0        1.0  \n",
       "2011-04-30        0.0        0.0       0.0        0.0  \n",
       "2011-05-31        0.0        0.0       0.0        0.0  \n",
       "2011-06-30        0.0        0.0       0.0        0.0  \n",
       "...               ...        ...       ...        ...  \n",
       "2022-09-30        0.0        1.0       0.0        0.0  \n",
       "2022-10-31        0.0        1.0       0.0        0.0  \n",
       "2022-11-30        0.0        1.0       0.0        0.0  \n",
       "2022-12-31        0.0        1.0       0.0        0.0  \n",
       "2023-01-31        0.0        1.0       0.0        0.0  \n",
       "\n",
       "[144 rows x 10 columns]"
      ]
     },
     "execution_count": 159,
     "metadata": {},
     "output_type": "execute_result"
    }
   ],
   "source": [
    "ma_regime_df"
   ]
  },
  {
   "cell_type": "code",
   "execution_count": 160,
   "metadata": {},
   "outputs": [
    {
     "data": {
      "text/plain": [
       "<AxesSubplot: >"
      ]
     },
     "execution_count": 160,
     "metadata": {},
     "output_type": "execute_result"
    },
    {
     "data": {
      "image/png": "[encoded data removed]",
      "text/plain": [
       "<Figure size 640x480 with 1 Axes>"
      ]
     },
     "metadata": {},
     "output_type": "display_data"
    }
   ],
   "source": [
    "(1 + ma_regime_df['SPY']).cumprod().plot(lw=1)"
   ]
  },
  {
   "cell_type": "code",
   "execution_count": 161,
   "metadata": {},
   "outputs": [
    {
     "data": {
      "text/plain": [
       "{'returns': '3.84',\n",
       " 'CAGR': '0.12',\n",
       " 'volatility': '0.15',\n",
       " 'skewness': '-0.37',\n",
       " 'kurtosis': '0.81',\n",
       " 'MDD': '-0.24',\n",
       " 'MDD_duration': '396.00',\n",
       " 'sharp': '0.54',\n",
       " 'sortino': '1.07',\n",
       " 'calmar': '0.50',\n",
       " 'VaR': '-0.09',\n",
       " 'VaR_ratio': '0.11',\n",
       " 'CVaR': '-0.11',\n",
       " 'CVaR_ratio': '0.09',\n",
       " 'hit': '0.69',\n",
       " 'GtP': '0.86'}"
      ]
     },
     "execution_count": 161,
     "metadata": {},
     "output_type": "execute_result"
    }
   ],
   "source": [
    "Metric(portfolio=(1 + ma_regime_df['SPY']).cumprod(), freq='month').numeric_metric()"
   ]
  },
  {
   "cell_type": "code",
   "execution_count": 162,
   "metadata": {},
   "outputs": [
    {
     "name": "stdout",
     "output_type": "stream",
     "text": [
      "36\n",
      "34\n",
      "33\n",
      "8\n"
     ]
    }
   ],
   "source": [
    "print(len(ma_regime_df.loc[(ma_regime_df.recovery == 1)]['SPY']))\n",
    "print(len(ma_regime_df.loc[(ma_regime_df.expansion == 1)]['SPY']))\n",
    "print(len(ma_regime_df.loc[(ma_regime_df.deflation == 1)]['TLT']))\n",
    "print(len(ma_regime_df.loc[(ma_regime_df.inflation == 1)]['UUP']))"
   ]
  },
  {
   "cell_type": "code",
   "execution_count": 163,
   "metadata": {},
   "outputs": [
    {
     "data": {
      "text/plain": [
       "2011-11-30   -0.004064\n",
       "2011-12-31    0.010448\n",
       "2012-01-31    0.046374\n",
       "2012-02-29    0.043405\n",
       "2012-03-31    0.032164\n",
       "                ...   \n",
       "2022-09-30    0.035726\n",
       "2022-10-31   -0.003980\n",
       "2022-11-30   -0.047286\n",
       "2022-12-31   -0.019407\n",
       "2023-01-31   -0.010787\n",
       "Length: 111, dtype: float64"
      ]
     },
     "execution_count": 163,
     "metadata": {},
     "output_type": "execute_result"
    }
   ],
   "source": [
    "best_regime = pd.concat([\n",
    "                        ma_regime_df.loc[(ma_regime_df.recovery == 1)]['SPY'], \n",
    "                        ma_regime_df.loc[(ma_regime_df.expansion == 1)]['SPY'],\n",
    "                        ma_regime_df.loc[(ma_regime_df.deflation == 1)]['TLT'],\n",
    "                        ma_regime_df.loc[(ma_regime_df.inflation == 1)]['UUP'],\n",
    "                        ], ignore_index=False, axis=0)\n",
    "\n",
    "best_regime"
   ]
  },
  {
   "cell_type": "code",
   "execution_count": 164,
   "metadata": {},
   "outputs": [
    {
     "data": {
      "text/plain": [
       "DatetimeIndex(['2011-11-30', '2011-12-31', '2012-01-31', '2012-02-29',\n",
       "               '2012-03-31', '2012-04-30', '2012-10-31', '2012-11-30',\n",
       "               '2012-12-31', '2013-01-31',\n",
       "               ...\n",
       "               '2020-04-30', '2020-05-31', '2022-06-30', '2022-07-31',\n",
       "               '2022-08-31', '2022-09-30', '2022-10-31', '2022-11-30',\n",
       "               '2022-12-31', '2023-01-31'],\n",
       "              dtype='datetime64[ns]', length=111, freq=None)"
      ]
     },
     "execution_count": 164,
     "metadata": {},
     "output_type": "execute_result"
    }
   ],
   "source": [
    "type(best_regime.index)\n",
    "type(ma_regime_df.index)\n",
    "\n",
    "best_regime.index = pd.to_datetime(best_regime.index)\n",
    "best_regime.index"
   ]
  },
  {
   "cell_type": "code",
   "execution_count": 165,
   "metadata": {},
   "outputs": [
    {
     "data": {
      "text/plain": [
       "DatetimeIndex(['2011-04-30', '2011-05-31', '2011-06-30', '2013-12-31',\n",
       "               '2014-01-31', '2014-02-28', '2014-10-31', '2014-11-30',\n",
       "               '2014-12-31', '2015-01-31', '2015-02-28', '2015-03-31',\n",
       "               '2015-04-30', '2015-05-31', '2015-06-30', '2015-07-31',\n",
       "               '2018-06-30', '2018-07-31', '2018-08-31', '2018-09-30',\n",
       "               '2018-10-31', '2018-11-30', '2018-12-31', '2021-08-31',\n",
       "               '2021-09-30', '2021-10-31', '2021-11-30', '2021-12-31',\n",
       "               '2022-01-31', '2022-02-28', '2022-03-31', '2022-04-30',\n",
       "               '2022-05-31'],\n",
       "              dtype='datetime64[ns]', freq=None)"
      ]
     },
     "execution_count": 165,
     "metadata": {},
     "output_type": "execute_result"
    }
   ],
   "source": [
    "not_explained = ma_regime_df.index.difference(best_regime.index)\n",
    "not_explained"
   ]
  },
  {
   "cell_type": "code",
   "execution_count": 166,
   "metadata": {},
   "outputs": [],
   "source": [
    "not_explained = ma_regime_df.index.difference(best_regime.index)\n",
    "not_explained_df = pd.Series({'port_val':0}, index=not_explained)"
   ]
  },
  {
   "cell_type": "code",
   "execution_count": 167,
   "metadata": {},
   "outputs": [
    {
     "name": "stderr",
     "output_type": "stream",
     "text": [
      "/var/folders/6m/p0mfz7q566zcnpddq0xg_r740000gn/T/ipykernel_8459/2470937050.py:1: FutureWarning: The series.append method is deprecated and will be removed from pandas in a future version. Use pandas.concat instead.\n",
      "  total_regime = best_regime.append(not_explained_df).sort_index().fillna(0)\n"
     ]
    }
   ],
   "source": [
    "total_regime = best_regime.append(not_explained_df).sort_index().fillna(0)"
   ]
  },
  {
   "cell_type": "code",
   "execution_count": 168,
   "metadata": {},
   "outputs": [
    {
     "data": {
      "text/plain": [
       "<AxesSubplot: >"
      ]
     },
     "execution_count": 168,
     "metadata": {},
     "output_type": "execute_result"
    },
    {
     "data": {
      "image/png": "[encoded data removed]",
      "text/plain": [
       "<Figure size 640x480 with 1 Axes>"
      ]
     },
     "metadata": {},
     "output_type": "display_data"
    }
   ],
   "source": [
    "(1 + total_regime).cumprod().plot(lw=1)"
   ]
  },
  {
   "cell_type": "code",
   "execution_count": 173,
   "metadata": {},
   "outputs": [
    {
     "data": {
      "text/html": [
       "<div>\n",
       "<style scoped>\n",
       "    .dataframe tbody tr th:only-of-type {\n",
       "        vertical-align: middle;\n",
       "    }\n",
       "\n",
       "    .dataframe tbody tr th {\n",
       "        vertical-align: top;\n",
       "    }\n",
       "\n",
       "    .dataframe thead th {\n",
       "        text-align: right;\n",
       "    }\n",
       "</style>\n",
       "<table border=\"1\" class=\"dataframe\">\n",
       "  <thead>\n",
       "    <tr style=\"text-align: right;\">\n",
       "      <th></th>\n",
       "      <th>regime</th>\n",
       "    </tr>\n",
       "  </thead>\n",
       "  <tbody>\n",
       "    <tr>\n",
       "      <th>returns</th>\n",
       "      <td>6.99</td>\n",
       "    </tr>\n",
       "    <tr>\n",
       "      <th>CAGR</th>\n",
       "      <td>0.18</td>\n",
       "    </tr>\n",
       "    <tr>\n",
       "      <th>volatility</th>\n",
       "      <td>0.10</td>\n",
       "    </tr>\n",
       "    <tr>\n",
       "      <th>MDD</th>\n",
       "      <td>-0.08</td>\n",
       "    </tr>\n",
       "    <tr>\n",
       "      <th>sharp</th>\n",
       "      <td>1.31</td>\n",
       "    </tr>\n",
       "  </tbody>\n",
       "</table>\n",
       "</div>"
      ],
      "text/plain": [
       "           regime\n",
       "returns      6.99\n",
       "CAGR         0.18\n",
       "volatility   0.10\n",
       "MDD         -0.08\n",
       "sharp        1.31"
      ]
     },
     "execution_count": 173,
     "metadata": {},
     "output_type": "execute_result"
    }
   ],
   "source": [
    "_list = ['returns', 'CAGR', 'volatility', 'MDD','sharp']\n",
    "tot_re = Metric(portfolio=(1 + total_regime).cumprod(), freq='month').numeric_metric()\n",
    "_dict = {}\n",
    "for i in _list:\n",
    "    _dict[i] = [tot_re[i]]\n",
    "\n",
    "tot_re = pd.DataFrame(_dict, index=['regime']).T\n",
    "tot_re"
   ]
  },
  {
   "cell_type": "code",
   "execution_count": 170,
   "metadata": {},
   "outputs": [
    {
     "data": {
      "text/html": [
       "<div>\n",
       "<style scoped>\n",
       "    .dataframe tbody tr th:only-of-type {\n",
       "        vertical-align: middle;\n",
       "    }\n",
       "\n",
       "    .dataframe tbody tr th {\n",
       "        vertical-align: top;\n",
       "    }\n",
       "\n",
       "    .dataframe thead th {\n",
       "        text-align: right;\n",
       "    }\n",
       "</style>\n",
       "<table border=\"1\" class=\"dataframe\">\n",
       "  <thead>\n",
       "    <tr style=\"text-align: right;\">\n",
       "      <th></th>\n",
       "      <th>returns</th>\n",
       "      <th>CAGR</th>\n",
       "      <th>volatility</th>\n",
       "      <th>skewness</th>\n",
       "      <th>kurtosis</th>\n",
       "      <th>MDD</th>\n",
       "      <th>MDD_duration</th>\n",
       "      <th>sharp</th>\n",
       "      <th>sortino</th>\n",
       "      <th>calmar</th>\n",
       "      <th>VaR</th>\n",
       "      <th>VaR_ratio</th>\n",
       "      <th>CVaR</th>\n",
       "      <th>CVaR_ratio</th>\n",
       "      <th>hit</th>\n",
       "      <th>GtP</th>\n",
       "    </tr>\n",
       "  </thead>\n",
       "  <tbody>\n",
       "    <tr>\n",
       "      <th>total_regime</th>\n",
       "      <td>6.99</td>\n",
       "      <td>0.18</td>\n",
       "      <td>0.10</td>\n",
       "      <td>1.20</td>\n",
       "      <td>2.20</td>\n",
       "      <td>-0.08</td>\n",
       "      <td>487.00</td>\n",
       "      <td>1.31</td>\n",
       "      <td>4.70</td>\n",
       "      <td>2.21</td>\n",
       "      <td>-0.04</td>\n",
       "      <td>0.37</td>\n",
       "      <td>-0.04</td>\n",
       "      <td>0.33</td>\n",
       "      <td>0.71</td>\n",
       "      <td>1.92</td>\n",
       "    </tr>\n",
       "  </tbody>\n",
       "</table>\n",
       "</div>"
      ],
      "text/plain": [
       "             returns  CAGR volatility skewness kurtosis    MDD MDD_duration  \\\n",
       "total_regime    6.99  0.18       0.10     1.20     2.20  -0.08       487.00   \n",
       "\n",
       "             sharp sortino calmar    VaR VaR_ratio   CVaR CVaR_ratio   hit  \\\n",
       "total_regime  1.31    4.70   2.21  -0.04      0.37  -0.04       0.33  0.71   \n",
       "\n",
       "               GtP  \n",
       "total_regime  1.92  "
      ]
     },
     "execution_count": 170,
     "metadata": {},
     "output_type": "execute_result"
    }
   ],
   "source": [
    "pd.DataFrame(Metric(portfolio=(1 + total_regime).cumprod(), freq='month').numeric_metric(), index=['total_regime'])"
   ]
  },
  {
   "attachments": {},
   "cell_type": "markdown",
   "metadata": {},
   "source": [
    "### 결론 \n",
    "- 단순 지수 투자보다 시황을 반영하는 것이 투자 성과를 개선\n",
    "- 각 시황마다 지수들은 상이한 움직임을 보이고 이를 활용해 투자하는 것은 중요하다"
   ]
  },
  {
   "cell_type": "markdown",
   "metadata": {},
   "source": []
  },
  {
   "cell_type": "markdown",
   "metadata": {},
   "source": []
  }
 ],
 "metadata": {
  "kernelspec": {
   "display_name": "finance",
   "language": "python",
   "name": "python3"
  },
  "language_info": {
   "codemirror_mode": {
    "name": "ipython",
    "version": 3
   },
   "file_extension": ".py",
   "mimetype": "text/x-python",
   "name": "python",
   "nbconvert_exporter": "python",
   "pygments_lexer": "ipython3",
   "version": "3.9.16"
  },
  "orig_nbformat": 4,
  "vscode": {
   "interpreter": {
    "hash": "605875af7a169c5ca2aeb0f1f2e7d92fe4ae7c7b303d27e649722fe946b16cf9"
   }
  }
 },
 "nbformat": 4,
 "nbformat_minor": 2
}
