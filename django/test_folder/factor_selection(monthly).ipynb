{
 "cells": [
  {
   "cell_type": "code",
   "execution_count": 1,
   "metadata": {},
   "outputs": [],
   "source": [
    "from econ_regime.econ_regime import *\n",
    "from price.macro_info import get_econ_info\n",
    "from price.price_processing import *\n",
    "from strategy.factors.momentum import *\n",
    "from strategy.factors.volatility import *\n",
    "from strategy.factors.beta import *\n",
    "from strategy.optimize.cross_sectional import *\n",
    "from backtest.metric import *\n",
    "\n",
    "import pandas as pd\n",
    "import numpy as np\n",
    "import statsmodels.api as sm\n",
    "import bs4 as bs\n",
    "import requests\n",
    "import datetime as dt\n",
    "import pickle5 as pickle\n",
    "import seaborn as sns"
   ]
  },
  {
   "cell_type": "code",
   "execution_count": 2,
   "metadata": {},
   "outputs": [],
   "source": [
    "sp500_daily_ret = pd.read_csv('result/sp500_daily_rets.csv', index_col=0)\n",
    "beta_daily_rets = pd.read_csv('result/beta_daily_rets.csv', index_col=0)\n",
    "mom_daily_rets = pd.read_csv('result/mom_daily_rets.csv', index_col=0)\n",
    "vol_daily_rets = pd.read_csv('result/vol_daily_rets.csv', index_col=0)"
   ]
  },
  {
   "cell_type": "code",
   "execution_count": 3,
   "metadata": {},
   "outputs": [],
   "source": [
    "factor_daily_df = pd.concat([sp500_daily_ret, beta_daily_rets, mom_daily_rets, vol_daily_rets], axis=1)\n",
    "factor_daily_df.columns = ['sp500', 'beta', 'mom', 'vol']\n",
    "factor_daily_df.index = pd.to_datetime(factor_daily_df.index)\n",
    "factor_daily_df.index.name = 'date_time'\n",
    "factor_daily_df.fillna(0, inplace=True)\n",
    "\n",
    "factor_monthly_rets = factor_daily_df.resample('M').last()"
   ]
  },
  {
   "cell_type": "code",
   "execution_count": 4,
   "metadata": {},
   "outputs": [],
   "source": [
    "invest_price = (1 + factor_daily_df).cumprod().ffill()\n",
    "invest_price = add_cash(invest_price, 252, 0.04)\n",
    "invest_price\n",
    "\n",
    "rebal_list = rebal_dates(invest_price, period='month')\n",
    "rebal_price_df = price_on_rebal(invest_price, rebal_list)"
   ]
  },
  {
   "cell_type": "code",
   "execution_count": 5,
   "metadata": {},
   "outputs": [],
   "source": [
    "monthly_index = rebal_dates(factor_daily_df, period='month')"
   ]
  },
  {
   "cell_type": "code",
   "execution_count": 6,
   "metadata": {},
   "outputs": [],
   "source": [
    "def rolling_sharpe(rets_df, monthly_index):\n",
    "    sharp_df = pd.DataFrame()\n",
    "    for index in monthly_index:\n",
    "        df = rets_df.loc[:index, :]\n",
    "        df = df.iloc[-252:, :] if len(df) >= 252 else df\n",
    "        \n",
    "        weights = np.array([i for i in range(1, len(df)+1)])\n",
    "        weights = weights / weights.mean()\n",
    "\n",
    "        df = df.apply(lambda x: x * weights, axis=0)\n",
    "\n",
    "        temp = df.rolling(len(df)).mean() / df.rolling(len(df)).std()\n",
    "        #print(type(temp.dropna(axis=0)))\n",
    "        sharp_df = pd.concat([sharp_df,temp.dropna(axis=0)], axis=0)\n",
    "        \n",
    "    return sharp_df\n",
    "\n",
    "def max_to_1(row):\n",
    "    max_value = row.max()\n",
    "    row[row == max_value] = 1\n",
    "    row[row != 1] = 0\n",
    "    return row"
   ]
  },
  {
   "cell_type": "code",
   "execution_count": 7,
   "metadata": {},
   "outputs": [],
   "source": [
    "rolling_sharp_df = rolling_sharpe(factor_daily_df, rebal_list)"
   ]
  },
  {
   "cell_type": "code",
   "execution_count": 8,
   "metadata": {},
   "outputs": [],
   "source": [
    "signal = rolling_sharp_df.apply(max_to_1, axis=1)\n",
    "signal.shift(1).fillna(0, inplace=True)"
   ]
  },
  {
   "cell_type": "code",
   "execution_count": 9,
   "metadata": {},
   "outputs": [
    {
     "ename": "TypeError",
     "evalue": "__init__() got an unexpected keyword argument 'rebal_price'",
     "output_type": "error",
     "traceback": [
      "\u001b[0;31m---------------------------------------------------------------------------\u001b[0m",
      "\u001b[0;31mTypeError\u001b[0m                                 Traceback (most recent call last)",
      "Cell \u001b[0;32mIn[9], line 1\u001b[0m\n\u001b[0;32m----> 1\u001b[0m regime_weight \u001b[39m=\u001b[39m Equalizer(signal\u001b[39m=\u001b[39;49msignal, rebal_price\u001b[39m=\u001b[39;49mfactor_monthly_rets, param\u001b[39m=\u001b[39;49m\u001b[39m12\u001b[39;49m)\u001b[39m.\u001b[39mew()\n\u001b[1;32m      2\u001b[0m regime_weight \u001b[39m=\u001b[39m regime_weight\u001b[39m.\u001b[39mfillna(\u001b[39m0\u001b[39m)\n\u001b[1;32m      3\u001b[0m regime_weight\u001b[39m.\u001b[39misna()\u001b[39m.\u001b[39mall()\n",
      "\u001b[0;31mTypeError\u001b[0m: __init__() got an unexpected keyword argument 'rebal_price'"
     ]
    }
   ],
   "source": [
    "regime_weight = Equalizer(signal=signal, rebal_price=factor_monthly_rets, param=12).ew()\n",
    "regime_weight = regime_weight.fillna(0)\n",
    "regime_weight.isna().all()"
   ]
  },
  {
   "cell_type": "code",
   "execution_count": 10,
   "metadata": {},
   "outputs": [
    {
     "ename": "NameError",
     "evalue": "name 'regime_weight' is not defined",
     "output_type": "error",
     "traceback": [
      "\u001b[0;31m---------------------------------------------------------------------------\u001b[0m",
      "\u001b[0;31mNameError\u001b[0m                                 Traceback (most recent call last)",
      "Cell \u001b[0;32mIn[10], line 1\u001b[0m\n\u001b[0;32m----> 1\u001b[0m regime_port \u001b[39m=\u001b[39m calculate_portvals(price_df\u001b[39m=\u001b[39minvest_price, weight_df\u001b[39m=\u001b[39mregime_weight, signal_df\u001b[39m=\u001b[39msignal, long_only\u001b[39m=\u001b[39m\u001b[39mTrue\u001b[39;00m)\n",
      "\u001b[0;31mNameError\u001b[0m: name 'regime_weight' is not defined"
     ]
    }
   ],
   "source": [
    "regime_port = calculate_portvals(price_df=invest_price, weight_df=regime_weight, signal_df=signal, long_only=True)"
   ]
  },
  {
   "cell_type": "code",
   "execution_count": 11,
   "metadata": {},
   "outputs": [
    {
     "ename": "NameError",
     "evalue": "name 'regime_port' is not defined",
     "output_type": "error",
     "traceback": [
      "\u001b[0;31m---------------------------------------------------------------------------\u001b[0m",
      "\u001b[0;31mNameError\u001b[0m                                 Traceback (most recent call last)",
      "Cell \u001b[0;32mIn[11], line 1\u001b[0m\n\u001b[0;32m----> 1\u001b[0m port_rets(regime_port, \u001b[39mTrue\u001b[39;00m)\u001b[39m.\u001b[39mplot(lw\u001b[39m=\u001b[39m\u001b[39m1\u001b[39m)\n\u001b[1;32m      2\u001b[0m Metric(portfolio\u001b[39m=\u001b[39mport_rets(regime_port, \u001b[39mTrue\u001b[39;00m))\u001b[39m.\u001b[39mprint_report()\n",
      "\u001b[0;31mNameError\u001b[0m: name 'regime_port' is not defined"
     ]
    }
   ],
   "source": [
    "port_rets(regime_port, True).plot(lw=1)\n",
    "Metric(portfolio=port_rets(regime_port, True)).print_report()"
   ]
  },
  {
   "cell_type": "code",
   "execution_count": null,
   "metadata": {},
   "outputs": [],
   "source": []
  }
 ],
 "metadata": {
  "kernelspec": {
   "display_name": "finance",
   "language": "python",
   "name": "python3"
  },
  "language_info": {
   "codemirror_mode": {
    "name": "ipython",
    "version": 3
   },
   "file_extension": ".py",
   "mimetype": "text/x-python",
   "name": "python",
   "nbconvert_exporter": "python",
   "pygments_lexer": "ipython3",
   "version": "3.9.16"
  },
  "orig_nbformat": 4,
  "vscode": {
   "interpreter": {
    "hash": "605875af7a169c5ca2aeb0f1f2e7d92fe4ae7c7b303d27e649722fe946b16cf9"
   }
  }
 },
 "nbformat": 4,
 "nbformat_minor": 2
}
