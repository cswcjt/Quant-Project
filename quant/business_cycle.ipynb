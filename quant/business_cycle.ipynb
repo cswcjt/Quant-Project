{
 "cells": [
  {
   "attachments": {},
   "cell_type": "markdown",
   "metadata": {},
   "source": [
    "### 시황을 고려한 투자의 중요성\n",
    "- 증시를 경제 사이클에 따라 분류\n",
    "- 각 시황별 주식, 채권, 원자재, 달러의 대표 지수의 성과지표를 비교분석해본다."
   ]
  },
  {
   "cell_type": "code",
   "execution_count": 1,
   "metadata": {},
   "outputs": [],
   "source": [
    "import pandas as pd\n",
    "import numpy as np\n",
    "import matplotlib.pyplot as plt\n",
    "#import plotly.express as px\n",
    "import time\n",
    "\n",
    "plt.style.use('fivethirtyeight')\n",
    "color_pal = plt.rcParams[\"axes.prop_cycle\"].by_key()[\"color\"]\n",
    "\n",
    "import yfinance as yf\n",
    "from fredapi import Fred\n",
    "\n",
    "import sys\n",
    "sys.path.append(\"/Users/jtchoi/Library/CloudStorage/GoogleDrive-jungtaek0227@gmail.com/My Drive/quant/Quant-Project/quant\")\n",
    "from backtest.metric import *\n",
    "from econ_regime.econ_regime import *"
   ]
  },
  {
   "attachments": {},
   "cell_type": "markdown",
   "metadata": {},
   "source": [
    "### 데이터 로드"
   ]
  },
  {
   "cell_type": "code",
   "execution_count": 2,
   "metadata": {},
   "outputs": [
    {
     "name": "stdout",
     "output_type": "stream",
     "text": [
      "[*********************100%***********************]  1 of 1 completed\n"
     ]
    }
   ],
   "source": [
    "sp500 = yf.download('SPY')['Adj Close']\n",
    "sp500.index = pd.to_datetime(pd.to_datetime(sp500.index).date)\n",
    "sp500 = sp500.resample('M').last()\n",
    "sp500 = sp500.iloc[:-2]"
   ]
  },
  {
   "cell_type": "code",
   "execution_count": 3,
   "metadata": {},
   "outputs": [
    {
     "data": {
      "text/plain": [
       "1993-01-31     25.218222\n",
       "1993-02-28     25.487267\n",
       "1993-03-31     26.058167\n",
       "1993-04-30     25.391388\n",
       "1993-05-31     26.076183\n",
       "                 ...    \n",
       "2022-08-31    391.764313\n",
       "2022-09-30    355.547302\n",
       "2022-10-31    384.444611\n",
       "2022-11-30    405.816467\n",
       "2022-12-31    382.429993\n",
       "Freq: M, Name: Adj Close, Length: 360, dtype: float64"
      ]
     },
     "execution_count": 3,
     "metadata": {},
     "output_type": "execute_result"
    }
   ],
   "source": [
    "sp500"
   ]
  },
  {
   "attachments": {},
   "cell_type": "markdown",
   "metadata": {},
   "source": [
    "### 미국경제를 디플레이션, 인플레이션, 회복기, 확장기로 분류\n",
    "\n",
    "    - 정의:\n",
    "      - OECD 미국 경기선행지수: 장단기금리차, 종합주가지수, 제조업 업황지수, 제조업 주간노동시간, 소비자신뢰지수, 내구재 신규주문, 주택착공건수\n",
    "      - OECD 경기선행지수 100pt를 기준으로 고성장과 저성장으로 나눔\n",
    "      - OECD 경기선행지수를 바탕으로 성장 상승 및 하락 추세 반영\n",
    "      - Core PCE 물가지수 2.5%를 기준으로 고인플레이션과 저인플레이션으로 나눔\n",
    "\n",
    "    - 국면:\n",
    "      - deflation: 저성장/성장 하락 추세/저인플레이션\n",
    "      - inflation: 저성장/성장 하락 추세/고인플레이션\n",
    "      - recovery: 저성장/성장 상승 추세/저인플레이션, 저성장/성장 상승 추세/고인플레이션\n",
    "      - expansion: 고성장/성장 상승 추세/고인플레이션, 고성장/성장 하락 추세/고인플레이션"
   ]
  },
  {
   "cell_type": "code",
   "execution_count": 4,
   "metadata": {},
   "outputs": [
    {
     "data": {
      "text/html": [
       "<div>\n",
       "<style scoped>\n",
       "    .dataframe tbody tr th:only-of-type {\n",
       "        vertical-align: middle;\n",
       "    }\n",
       "\n",
       "    .dataframe tbody tr th {\n",
       "        vertical-align: top;\n",
       "    }\n",
       "\n",
       "    .dataframe thead th {\n",
       "        text-align: right;\n",
       "    }\n",
       "</style>\n",
       "<table border=\"1\" class=\"dataframe\">\n",
       "  <thead>\n",
       "    <tr style=\"text-align: right;\">\n",
       "      <th></th>\n",
       "      <th>deflation</th>\n",
       "      <th>inflation</th>\n",
       "      <th>recovery</th>\n",
       "      <th>expansion</th>\n",
       "    </tr>\n",
       "  </thead>\n",
       "  <tbody>\n",
       "    <tr>\n",
       "      <th>1994-01-01</th>\n",
       "      <td>0</td>\n",
       "      <td>0</td>\n",
       "      <td>0</td>\n",
       "      <td>1</td>\n",
       "    </tr>\n",
       "    <tr>\n",
       "      <th>1994-02-01</th>\n",
       "      <td>0</td>\n",
       "      <td>0</td>\n",
       "      <td>0</td>\n",
       "      <td>1</td>\n",
       "    </tr>\n",
       "    <tr>\n",
       "      <th>1994-03-01</th>\n",
       "      <td>0</td>\n",
       "      <td>0</td>\n",
       "      <td>0</td>\n",
       "      <td>1</td>\n",
       "    </tr>\n",
       "    <tr>\n",
       "      <th>1994-04-01</th>\n",
       "      <td>0</td>\n",
       "      <td>0</td>\n",
       "      <td>0</td>\n",
       "      <td>1</td>\n",
       "    </tr>\n",
       "    <tr>\n",
       "      <th>1994-05-01</th>\n",
       "      <td>0</td>\n",
       "      <td>0</td>\n",
       "      <td>0</td>\n",
       "      <td>1</td>\n",
       "    </tr>\n",
       "    <tr>\n",
       "      <th>...</th>\n",
       "      <td>...</td>\n",
       "      <td>...</td>\n",
       "      <td>...</td>\n",
       "      <td>...</td>\n",
       "    </tr>\n",
       "    <tr>\n",
       "      <th>2022-08-01</th>\n",
       "      <td>0</td>\n",
       "      <td>1</td>\n",
       "      <td>0</td>\n",
       "      <td>0</td>\n",
       "    </tr>\n",
       "    <tr>\n",
       "      <th>2022-09-01</th>\n",
       "      <td>0</td>\n",
       "      <td>1</td>\n",
       "      <td>0</td>\n",
       "      <td>0</td>\n",
       "    </tr>\n",
       "    <tr>\n",
       "      <th>2022-10-01</th>\n",
       "      <td>0</td>\n",
       "      <td>1</td>\n",
       "      <td>0</td>\n",
       "      <td>0</td>\n",
       "    </tr>\n",
       "    <tr>\n",
       "      <th>2022-11-01</th>\n",
       "      <td>0</td>\n",
       "      <td>1</td>\n",
       "      <td>0</td>\n",
       "      <td>0</td>\n",
       "    </tr>\n",
       "    <tr>\n",
       "      <th>2022-12-01</th>\n",
       "      <td>0</td>\n",
       "      <td>1</td>\n",
       "      <td>0</td>\n",
       "      <td>0</td>\n",
       "    </tr>\n",
       "  </tbody>\n",
       "</table>\n",
       "<p>348 rows × 4 columns</p>\n",
       "</div>"
      ],
      "text/plain": [
       "            deflation  inflation  recovery  expansion\n",
       "1994-01-01          0          0         0          1\n",
       "1994-02-01          0          0         0          1\n",
       "1994-03-01          0          0         0          1\n",
       "1994-04-01          0          0         0          1\n",
       "1994-05-01          0          0         0          1\n",
       "...               ...        ...       ...        ...\n",
       "2022-08-01          0          1         0          0\n",
       "2022-09-01          0          1         0          0\n",
       "2022-10-01          0          1         0          0\n",
       "2022-11-01          0          1         0          0\n",
       "2022-12-01          0          1         0          0\n",
       "\n",
       "[348 rows x 4 columns]"
      ]
     },
     "execution_count": 4,
     "metadata": {},
     "output_type": "execute_result"
    }
   ],
   "source": [
    "regime_df = business_cycle()\n",
    "regime_df"
   ]
  },
  {
   "cell_type": "code",
   "execution_count": 5,
   "metadata": {},
   "outputs": [
    {
     "data": {
      "text/html": [
       "<div>\n",
       "<style scoped>\n",
       "    .dataframe tbody tr th:only-of-type {\n",
       "        vertical-align: middle;\n",
       "    }\n",
       "\n",
       "    .dataframe tbody tr th {\n",
       "        vertical-align: top;\n",
       "    }\n",
       "\n",
       "    .dataframe thead th {\n",
       "        text-align: right;\n",
       "    }\n",
       "</style>\n",
       "<table border=\"1\" class=\"dataframe\">\n",
       "  <thead>\n",
       "    <tr style=\"text-align: right;\">\n",
       "      <th></th>\n",
       "      <th>sp500_rets</th>\n",
       "      <th>deflation</th>\n",
       "      <th>inflation</th>\n",
       "      <th>recovery</th>\n",
       "      <th>expansion</th>\n",
       "    </tr>\n",
       "  </thead>\n",
       "  <tbody>\n",
       "    <tr>\n",
       "      <th>1994-01-31</th>\n",
       "      <td>0.034877</td>\n",
       "      <td>0.0</td>\n",
       "      <td>0.0</td>\n",
       "      <td>0.0</td>\n",
       "      <td>1.0</td>\n",
       "    </tr>\n",
       "    <tr>\n",
       "      <th>1994-02-28</th>\n",
       "      <td>-0.029164</td>\n",
       "      <td>0.0</td>\n",
       "      <td>0.0</td>\n",
       "      <td>0.0</td>\n",
       "      <td>1.0</td>\n",
       "    </tr>\n",
       "    <tr>\n",
       "      <th>1994-03-31</th>\n",
       "      <td>-0.041901</td>\n",
       "      <td>0.0</td>\n",
       "      <td>0.0</td>\n",
       "      <td>0.0</td>\n",
       "      <td>1.0</td>\n",
       "    </tr>\n",
       "    <tr>\n",
       "      <th>1994-04-30</th>\n",
       "      <td>0.011212</td>\n",
       "      <td>0.0</td>\n",
       "      <td>0.0</td>\n",
       "      <td>0.0</td>\n",
       "      <td>1.0</td>\n",
       "    </tr>\n",
       "    <tr>\n",
       "      <th>1994-05-31</th>\n",
       "      <td>0.015939</td>\n",
       "      <td>0.0</td>\n",
       "      <td>0.0</td>\n",
       "      <td>0.0</td>\n",
       "      <td>1.0</td>\n",
       "    </tr>\n",
       "    <tr>\n",
       "      <th>...</th>\n",
       "      <td>...</td>\n",
       "      <td>...</td>\n",
       "      <td>...</td>\n",
       "      <td>...</td>\n",
       "      <td>...</td>\n",
       "    </tr>\n",
       "    <tr>\n",
       "      <th>2022-08-31</th>\n",
       "      <td>-0.040802</td>\n",
       "      <td>0.0</td>\n",
       "      <td>1.0</td>\n",
       "      <td>0.0</td>\n",
       "      <td>0.0</td>\n",
       "    </tr>\n",
       "    <tr>\n",
       "      <th>2022-09-30</th>\n",
       "      <td>-0.092446</td>\n",
       "      <td>0.0</td>\n",
       "      <td>1.0</td>\n",
       "      <td>0.0</td>\n",
       "      <td>0.0</td>\n",
       "    </tr>\n",
       "    <tr>\n",
       "      <th>2022-10-31</th>\n",
       "      <td>0.081276</td>\n",
       "      <td>0.0</td>\n",
       "      <td>1.0</td>\n",
       "      <td>0.0</td>\n",
       "      <td>0.0</td>\n",
       "    </tr>\n",
       "    <tr>\n",
       "      <th>2022-11-30</th>\n",
       "      <td>0.055592</td>\n",
       "      <td>0.0</td>\n",
       "      <td>1.0</td>\n",
       "      <td>0.0</td>\n",
       "      <td>0.0</td>\n",
       "    </tr>\n",
       "    <tr>\n",
       "      <th>2022-12-31</th>\n",
       "      <td>-0.057628</td>\n",
       "      <td>0.0</td>\n",
       "      <td>1.0</td>\n",
       "      <td>0.0</td>\n",
       "      <td>0.0</td>\n",
       "    </tr>\n",
       "  </tbody>\n",
       "</table>\n",
       "<p>348 rows × 5 columns</p>\n",
       "</div>"
      ],
      "text/plain": [
       "            sp500_rets  deflation  inflation  recovery  expansion\n",
       "1994-01-31    0.034877        0.0        0.0       0.0        1.0\n",
       "1994-02-28   -0.029164        0.0        0.0       0.0        1.0\n",
       "1994-03-31   -0.041901        0.0        0.0       0.0        1.0\n",
       "1994-04-30    0.011212        0.0        0.0       0.0        1.0\n",
       "1994-05-31    0.015939        0.0        0.0       0.0        1.0\n",
       "...                ...        ...        ...       ...        ...\n",
       "2022-08-31   -0.040802        0.0        1.0       0.0        0.0\n",
       "2022-09-30   -0.092446        0.0        1.0       0.0        0.0\n",
       "2022-10-31    0.081276        0.0        1.0       0.0        0.0\n",
       "2022-11-30    0.055592        0.0        1.0       0.0        0.0\n",
       "2022-12-31   -0.057628        0.0        1.0       0.0        0.0\n",
       "\n",
       "[348 rows x 5 columns]"
      ]
     },
     "execution_count": 5,
     "metadata": {},
     "output_type": "execute_result"
    }
   ],
   "source": [
    "regime_df.index = sp500.loc['1994':].index\n",
    "regime_df = pd.concat([sp500.pct_change(), regime_df], axis=1).dropna()\n",
    "regime_df.columns = ['sp500_rets', 'deflation', 'inflation', 'recovery', 'expansion']\n",
    "regime_df"
   ]
  },
  {
   "attachments": {},
   "cell_type": "markdown",
   "metadata": {},
   "source": [
    "### 국면별 sp500 index의 성과지표를 확인\n",
    "    - 1. sp500에 그대로 투자한 경우\n",
    "    - 2. sp500에 국면을 반영한 투자의 성과지표들"
   ]
  },
  {
   "attachments": {},
   "cell_type": "markdown",
   "metadata": {},
   "source": [
    "### sp500 w/o market regime "
   ]
  },
  {
   "cell_type": "code",
   "execution_count": 6,
   "metadata": {},
   "outputs": [
    {
     "data": {
      "text/plain": [
       "<AxesSubplot: title={'center': 'S&P 500'}>"
      ]
     },
     "execution_count": 6,
     "metadata": {},
     "output_type": "execute_result"
    },
    {
     "data": {
      "image/png": "[encoded data removed]",
      "text/plain": [
       "<Figure size 640x480 with 1 Axes>"
      ]
     },
     "metadata": {},
     "output_type": "display_data"
    }
   ],
   "source": [
    "(1 + sp500.pct_change()).cumprod().plot(title='S&P 500', lw=1)"
   ]
  },
  {
   "cell_type": "code",
   "execution_count": 7,
   "metadata": {},
   "outputs": [
    {
     "name": "stdout",
     "output_type": "stream",
     "text": [
      "Annualized Return: 9.45%\n",
      "Annualized Volatility: 14.94%\n",
      "Skewness: -0.58\n",
      "Kurtosis: 0.99\n",
      "Max Drawdown: -50.78%\n",
      "Max Drawdown Duration: 2252 days\n",
      "Annualized Sharp Ratio: 0.36\n",
      "Annualized Sortino Ratio: -0.24\n",
      "Annualized Calmar Ratio: 0.19\n",
      "Annualized VaR: -0.11\n",
      "Annualized VaR Ratio: 0.08\n",
      "Annualized CVaR: -0.13\n",
      "Annualized CVaR Ratio: 0.06\n",
      "Annualized hit Ratio: 0.65\n",
      "Annualized GtP Ratio: 0.90\n"
     ]
    }
   ],
   "source": [
    "Metric(portfolio=(1 + sp500.pct_change()).cumprod(), freq='month').print_report()"
   ]
  },
  {
   "attachments": {},
   "cell_type": "markdown",
   "metadata": {},
   "source": [
    "### sp500 with market regime"
   ]
  },
  {
   "cell_type": "code",
   "execution_count": 6,
   "metadata": {},
   "outputs": [],
   "source": [
    "### 계산 방법에 대한 설명 \n",
    "### 스토리 진행에 대한 간단한 힌트를 제공해서 청취자의 이해를 돕는다. -> 두괄식으로 내용을 설명하고, 이해를 돕는다.\n",
    "### 성과지표를 테이블로 보여준다. -> 테이블을 보여주고, 이해를 돕는다.\n",
    "### 인덱스는 성과지표 개수, 컬럼은 5개(시황 + 아무것도 안했을 때)"
   ]
  },
  {
   "attachments": {},
   "cell_type": "markdown",
   "metadata": {},
   "source": [
    "### sp500 with deflation"
   ]
  },
  {
   "cell_type": "code",
   "execution_count": 8,
   "metadata": {},
   "outputs": [
    {
     "data": {
      "text/plain": [
       "<AxesSubplot: >"
      ]
     },
     "execution_count": 8,
     "metadata": {},
     "output_type": "execute_result"
    },
    {
     "data": {
      "image/png": "[encoded data removed]",
      "text/plain": [
       "<Figure size 640x480 with 1 Axes>"
      ]
     },
     "metadata": {},
     "output_type": "display_data"
    }
   ],
   "source": [
    "(1 + regime_df.sp500_rets * regime_df.deflation).cumprod().plot(lw=1)"
   ]
  },
  {
   "cell_type": "code",
   "execution_count": 9,
   "metadata": {},
   "outputs": [
    {
     "name": "stdout",
     "output_type": "stream",
     "text": [
      "Annualized Return: -1.44%\n",
      "Annualized Volatility: 10.42%\n",
      "Skewness: -0.79\n",
      "Kurtosis: 8.18\n",
      "Max Drawdown: -64.85%\n",
      "Max Drawdown Duration: 8919 days\n",
      "Annualized Sharp Ratio: -0.52\n",
      "Annualized Sortino Ratio: -0.40\n",
      "Annualized Calmar Ratio: -0.02\n",
      "Annualized VaR: -0.11\n",
      "Annualized VaR Ratio: -0.01\n",
      "Annualized CVaR: -0.13\n",
      "Annualized CVaR Ratio: -0.01\n",
      "Annualized hit Ratio: 0.53\n",
      "Annualized GtP Ratio: 0.78\n"
     ]
    }
   ],
   "source": [
    "Metric(portfolio=(1 + regime_df.sp500_rets * regime_df.deflation).cumprod(), freq='month').print_report()"
   ]
  },
  {
   "attachments": {},
   "cell_type": "markdown",
   "metadata": {},
   "source": [
    "### sp500 with inflation"
   ]
  },
  {
   "cell_type": "code",
   "execution_count": 10,
   "metadata": {},
   "outputs": [
    {
     "data": {
      "text/plain": [
       "<AxesSubplot: >"
      ]
     },
     "execution_count": 10,
     "metadata": {},
     "output_type": "execute_result"
    },
    {
     "data": {
      "image/png": "[encoded data removed]",
      "text/plain": [
       "<Figure size 640x480 with 1 Axes>"
      ]
     },
     "metadata": {},
     "output_type": "display_data"
    }
   ],
   "source": [
    "(1 + regime_df.sp500_rets * regime_df.inflation).cumprod().plot(lw=1)"
   ]
  },
  {
   "cell_type": "code",
   "execution_count": 11,
   "metadata": {},
   "outputs": [
    {
     "name": "stdout",
     "output_type": "stream",
     "text": [
      "Annualized Return: -0.21%\n",
      "Annualized Volatility: 3.65%\n",
      "Skewness: -0.26\n",
      "Kurtosis: 58.43\n",
      "Max Drawdown: -12.95%\n",
      "Max Drawdown Duration: 153 days\n",
      "Annualized Sharp Ratio: -1.15\n",
      "Annualized Sortino Ratio: -1.14\n",
      "Annualized Calmar Ratio: -0.02\n",
      "Annualized VaR: -0.02\n",
      "Annualized VaR Ratio: -0.01\n",
      "Annualized CVaR: -0.07\n",
      "Annualized CVaR Ratio: -0.00\n",
      "Annualized hit Ratio: 0.50\n",
      "Annualized GtP Ratio: 0.85\n"
     ]
    }
   ],
   "source": [
    "Metric(portfolio=(1 + regime_df.sp500_rets * regime_df.inflation).cumprod(), freq='month').print_report()"
   ]
  },
  {
   "attachments": {},
   "cell_type": "markdown",
   "metadata": {},
   "source": [
    "### sp500 with recovery"
   ]
  },
  {
   "cell_type": "code",
   "execution_count": 12,
   "metadata": {},
   "outputs": [
    {
     "data": {
      "text/plain": [
       "<AxesSubplot: >"
      ]
     },
     "execution_count": 12,
     "metadata": {},
     "output_type": "execute_result"
    },
    {
     "data": {
      "image/png": "[encoded data removed]",
      "text/plain": [
       "<Figure size 640x480 with 1 Axes>"
      ]
     },
     "metadata": {},
     "output_type": "display_data"
    }
   ],
   "source": [
    "(1 + regime_df.sp500_rets * regime_df.recovery).cumprod().plot(lw=1)"
   ]
  },
  {
   "cell_type": "code",
   "execution_count": 13,
   "metadata": {},
   "outputs": [
    {
     "name": "stdout",
     "output_type": "stream",
     "text": [
      "Annualized Return: 5.80%\n",
      "Annualized Volatility: 6.40%\n",
      "Skewness: 1.91\n",
      "Kurtosis: 8.40\n",
      "Max Drawdown: -7.95%\n",
      "Max Drawdown Duration: 730 days\n",
      "Annualized Sharp Ratio: 0.28\n",
      "Annualized Sortino Ratio: -1.19\n",
      "Annualized Calmar Ratio: 0.73\n",
      "Annualized VaR: -0.04\n",
      "Annualized VaR Ratio: 0.13\n",
      "Annualized CVaR: -0.05\n",
      "Annualized CVaR Ratio: 0.09\n",
      "Annualized hit Ratio: 0.78\n",
      "Annualized GtP Ratio: 1.40\n"
     ]
    }
   ],
   "source": [
    "Metric(portfolio=(1 + regime_df.sp500_rets * regime_df.recovery).cumprod(), freq='month').print_report()"
   ]
  },
  {
   "attachments": {},
   "cell_type": "markdown",
   "metadata": {},
   "source": [
    "### sp500 with expansion"
   ]
  },
  {
   "cell_type": "code",
   "execution_count": 14,
   "metadata": {},
   "outputs": [
    {
     "data": {
      "text/plain": [
       "<AxesSubplot: >"
      ]
     },
     "execution_count": 14,
     "metadata": {},
     "output_type": "execute_result"
    },
    {
     "data": {
      "image/png": "[encoded data removed]",
      "text/plain": [
       "<Figure size 640x480 with 1 Axes>"
      ]
     },
     "metadata": {},
     "output_type": "display_data"
    }
   ],
   "source": [
    "(1 + regime_df.sp500_rets * regime_df.expansion).cumprod().plot(lw=1)"
   ]
  },
  {
   "cell_type": "code",
   "execution_count": 15,
   "metadata": {},
   "outputs": [
    {
     "name": "stdout",
     "output_type": "stream",
     "text": [
      "Annualized Return: 4.17%\n",
      "Annualized Volatility: 5.61%\n",
      "Skewness: 1.28\n",
      "Kurtosis: 4.93\n",
      "Max Drawdown: -10.75%\n",
      "Max Drawdown Duration: 1461 days\n",
      "Annualized Sharp Ratio: 0.03\n",
      "Annualized Sortino Ratio: -1.13\n",
      "Annualized Calmar Ratio: 0.39\n",
      "Annualized VaR: -0.04\n",
      "Annualized VaR Ratio: 0.09\n",
      "Annualized CVaR: -0.05\n",
      "Annualized CVaR Ratio: 0.08\n",
      "Annualized hit Ratio: 0.71\n",
      "Annualized GtP Ratio: 1.20\n"
     ]
    }
   ],
   "source": [
    "Metric(portfolio=(1 + regime_df.sp500_rets * regime_df.expansion).cumprod(), freq='month').print_report()"
   ]
  },
  {
   "attachments": {},
   "cell_type": "markdown",
   "metadata": {},
   "source": [
    "- 시황 적용의 필요성 인지\n",
    "- recovery인 경우 가장 성과지표가 좋았다.\n",
    "- 각 국면 별 투자성과가 좋은 자산군을 찾아보자."
   ]
  },
  {
   "attachments": {},
   "cell_type": "markdown",
   "metadata": {},
   "source": [
    "### 자산군\n",
    "    - 주식: sp500 index\n",
    "    - 장기채권: TLT ETF\n",
    "    - 원자재: GSG ETF(tracking S&P GSCI index)\n",
    "    - 달러: UUP index\n",
    "    - 부동산: VNQ ETF\n"
   ]
  },
  {
   "cell_type": "code",
   "execution_count": 16,
   "metadata": {},
   "outputs": [],
   "source": [
    "import bs4 as bs\n",
    "import requests\n",
    "import yfinance as yf\n",
    "import datetime"
   ]
  },
  {
   "cell_type": "code",
   "execution_count": 17,
   "metadata": {},
   "outputs": [
    {
     "name": "stdout",
     "output_type": "stream",
     "text": [
      "[*********************100%***********************]  1 of 1 completed\n",
      "[*********************100%***********************]  1 of 1 completed\n",
      "[*********************100%***********************]  1 of 1 completed\n",
      "[*********************100%***********************]  1 of 1 completed\n",
      "[*********************100%***********************]  1 of 1 completed\n"
     ]
    }
   ],
   "source": [
    "asset_ticker = ['SPY','TLT', 'GSG', 'VNQ', 'UUP']\n",
    "asset_df = asset_indicators(asset_ticker)"
   ]
  },
  {
   "cell_type": "code",
   "execution_count": 18,
   "metadata": {},
   "outputs": [],
   "source": [
    "asset_df = asset_df.loc['2008-01-01':,:].dropna().resample('M').last()"
   ]
  },
  {
   "cell_type": "code",
   "execution_count": 19,
   "metadata": {},
   "outputs": [
    {
     "data": {
      "text/html": [
       "<div>\n",
       "<style scoped>\n",
       "    .dataframe tbody tr th:only-of-type {\n",
       "        vertical-align: middle;\n",
       "    }\n",
       "\n",
       "    .dataframe tbody tr th {\n",
       "        vertical-align: top;\n",
       "    }\n",
       "\n",
       "    .dataframe thead th {\n",
       "        text-align: right;\n",
       "    }\n",
       "</style>\n",
       "<table border=\"1\" class=\"dataframe\">\n",
       "  <thead>\n",
       "    <tr style=\"text-align: right;\">\n",
       "      <th></th>\n",
       "      <th>SPY</th>\n",
       "      <th>TLT</th>\n",
       "      <th>GSG</th>\n",
       "      <th>VNQ</th>\n",
       "      <th>UUP</th>\n",
       "    </tr>\n",
       "  </thead>\n",
       "  <tbody>\n",
       "    <tr>\n",
       "      <th>2008-01-31</th>\n",
       "      <td>102.328529</td>\n",
       "      <td>62.151608</td>\n",
       "      <td>52.500000</td>\n",
       "      <td>32.629059</td>\n",
       "      <td>22.365517</td>\n",
       "    </tr>\n",
       "    <tr>\n",
       "      <th>2008-02-29</th>\n",
       "      <td>99.684105</td>\n",
       "      <td>61.868626</td>\n",
       "      <td>58.410000</td>\n",
       "      <td>31.590994</td>\n",
       "      <td>21.897980</td>\n",
       "    </tr>\n",
       "    <tr>\n",
       "      <th>2008-03-31</th>\n",
       "      <td>98.792694</td>\n",
       "      <td>63.191891</td>\n",
       "      <td>57.860001</td>\n",
       "      <td>33.639759</td>\n",
       "      <td>21.373192</td>\n",
       "    </tr>\n",
       "    <tr>\n",
       "      <th>2008-04-30</th>\n",
       "      <td>103.501419</td>\n",
       "      <td>61.620773</td>\n",
       "      <td>62.599998</td>\n",
       "      <td>35.785728</td>\n",
       "      <td>21.573565</td>\n",
       "    </tr>\n",
       "    <tr>\n",
       "      <th>2008-05-31</th>\n",
       "      <td>105.065941</td>\n",
       "      <td>59.964218</td>\n",
       "      <td>67.900002</td>\n",
       "      <td>35.710232</td>\n",
       "      <td>21.668980</td>\n",
       "    </tr>\n",
       "    <tr>\n",
       "      <th>...</th>\n",
       "      <td>...</td>\n",
       "      <td>...</td>\n",
       "      <td>...</td>\n",
       "      <td>...</td>\n",
       "      <td>...</td>\n",
       "    </tr>\n",
       "    <tr>\n",
       "      <th>2022-10-31</th>\n",
       "      <td>384.444611</td>\n",
       "      <td>95.170647</td>\n",
       "      <td>21.850000</td>\n",
       "      <td>81.823532</td>\n",
       "      <td>29.767994</td>\n",
       "    </tr>\n",
       "    <tr>\n",
       "      <th>2022-11-30</th>\n",
       "      <td>405.816467</td>\n",
       "      <td>101.976341</td>\n",
       "      <td>21.590000</td>\n",
       "      <td>86.852455</td>\n",
       "      <td>28.360384</td>\n",
       "    </tr>\n",
       "    <tr>\n",
       "      <th>2022-12-31</th>\n",
       "      <td>382.429993</td>\n",
       "      <td>99.304520</td>\n",
       "      <td>21.230000</td>\n",
       "      <td>82.480003</td>\n",
       "      <td>27.809999</td>\n",
       "    </tr>\n",
       "    <tr>\n",
       "      <th>2023-01-31</th>\n",
       "      <td>406.480011</td>\n",
       "      <td>106.894997</td>\n",
       "      <td>21.209999</td>\n",
       "      <td>91.059998</td>\n",
       "      <td>27.510000</td>\n",
       "    </tr>\n",
       "    <tr>\n",
       "      <th>2023-02-28</th>\n",
       "      <td>410.649994</td>\n",
       "      <td>105.559998</td>\n",
       "      <td>20.680000</td>\n",
       "      <td>90.639999</td>\n",
       "      <td>27.930000</td>\n",
       "    </tr>\n",
       "  </tbody>\n",
       "</table>\n",
       "<p>182 rows × 5 columns</p>\n",
       "</div>"
      ],
      "text/plain": [
       "                   SPY         TLT        GSG        VNQ        UUP\n",
       "2008-01-31  102.328529   62.151608  52.500000  32.629059  22.365517\n",
       "2008-02-29   99.684105   61.868626  58.410000  31.590994  21.897980\n",
       "2008-03-31   98.792694   63.191891  57.860001  33.639759  21.373192\n",
       "2008-04-30  103.501419   61.620773  62.599998  35.785728  21.573565\n",
       "2008-05-31  105.065941   59.964218  67.900002  35.710232  21.668980\n",
       "...                ...         ...        ...        ...        ...\n",
       "2022-10-31  384.444611   95.170647  21.850000  81.823532  29.767994\n",
       "2022-11-30  405.816467  101.976341  21.590000  86.852455  28.360384\n",
       "2022-12-31  382.429993   99.304520  21.230000  82.480003  27.809999\n",
       "2023-01-31  406.480011  106.894997  21.209999  91.059998  27.510000\n",
       "2023-02-28  410.649994  105.559998  20.680000  90.639999  27.930000\n",
       "\n",
       "[182 rows x 5 columns]"
      ]
     },
     "execution_count": 19,
     "metadata": {},
     "output_type": "execute_result"
    }
   ],
   "source": [
    "asset_df"
   ]
  },
  {
   "cell_type": "code",
   "execution_count": 20,
   "metadata": {},
   "outputs": [],
   "source": [
    "ma_regime_df = pd.merge(asset_df.pct_change(), regime_df, left_index=True, right_index=True, how='left').dropna()\n",
    "ma_regime_df\n",
    "\n",
    "multi_asset_tickers = ['SPY', 'TLT', 'GSG', 'VNQ', 'UUP']"
   ]
  },
  {
   "attachments": {},
   "cell_type": "markdown",
   "metadata": {},
   "source": [
    "### 회복국면"
   ]
  },
  {
   "cell_type": "code",
   "execution_count": 21,
   "metadata": {},
   "outputs": [
    {
     "data": {
      "text/plain": [
       "<AxesSubplot: >"
      ]
     },
     "execution_count": 21,
     "metadata": {},
     "output_type": "execute_result"
    },
    {
     "data": {
      "image/png": "[encoded data removed]",
      "text/plain": [
       "<Figure size 640x480 with 1 Axes>"
      ]
     },
     "metadata": {},
     "output_type": "display_data"
    }
   ],
   "source": [
    "(1+ma_regime_df[multi_asset_tickers].mul(ma_regime_df['recovery'], axis=0)).cumprod().plot(lw=1)"
   ]
  },
  {
   "cell_type": "code",
   "execution_count": 22,
   "metadata": {},
   "outputs": [
    {
     "name": "stdout",
     "output_type": "stream",
     "text": [
      "SPY\n",
      "Annualized Return: 6.87%\n",
      "Annualized Volatility: 6.84%\n",
      "Skewness: 1.62\n",
      "Kurtosis: 7.63\n",
      "Max Drawdown: -7.95%\n",
      "Max Drawdown Duration: 730 days\n",
      "Annualized Sharp Ratio: 0.42\n",
      "Annualized Sortino Ratio: -1.06\n",
      "Annualized Calmar Ratio: 0.86\n",
      "Annualized VaR: -0.04\n",
      "Annualized VaR Ratio: 0.16\n",
      "Annualized CVaR: -0.06\n",
      "Annualized CVaR Ratio: 0.10\n",
      "Annualized hit Ratio: 0.78\n",
      "Annualized GtP Ratio: 1.39\n",
      "\n",
      "TLT\n",
      "Annualized Return: -1.17%\n",
      "Annualized Volatility: 5.75%\n",
      "Skewness: -0.64\n",
      "Kurtosis: 7.10\n",
      "Max Drawdown: -18.37%\n",
      "Max Drawdown Duration: 4475 days\n",
      "Annualized Sharp Ratio: -0.90\n",
      "Annualized Sortino Ratio: -0.72\n",
      "Annualized Calmar Ratio: -0.06\n",
      "Annualized VaR: -0.05\n",
      "Annualized VaR Ratio: -0.02\n",
      "Annualized CVaR: -0.07\n",
      "Annualized CVaR Ratio: -0.01\n",
      "Annualized hit Ratio: 0.48\n",
      "Annualized GtP Ratio: 0.85\n",
      "\n",
      "GSG\n",
      "Annualized Return: 4.00%\n",
      "Annualized Volatility: 10.10%\n",
      "Skewness: 1.92\n",
      "Kurtosis: 20.24\n",
      "Max Drawdown: -13.60%\n",
      "Max Drawdown Duration: 1736 days\n",
      "Annualized Sharp Ratio: -0.00\n",
      "Annualized Sortino Ratio: -0.52\n",
      "Annualized Calmar Ratio: 0.29\n",
      "Annualized VaR: -0.09\n",
      "Annualized VaR Ratio: 0.04\n",
      "Annualized CVaR: -0.12\n",
      "Annualized CVaR Ratio: 0.03\n",
      "Annualized hit Ratio: 0.63\n",
      "Annualized GtP Ratio: 1.15\n",
      "\n",
      "VNQ\n",
      "Annualized Return: 6.67%\n",
      "Annualized Volatility: 8.95%\n",
      "Skewness: 2.08\n",
      "Kurtosis: 7.45\n",
      "Max Drawdown: -12.44%\n",
      "Max Drawdown Duration: 1430 days\n",
      "Annualized Sharp Ratio: 0.30\n",
      "Annualized Sortino Ratio: -0.81\n",
      "Annualized Calmar Ratio: 0.54\n",
      "Annualized VaR: -0.05\n",
      "Annualized VaR Ratio: 0.11\n",
      "Annualized CVaR: -0.06\n",
      "Annualized CVaR Ratio: 0.10\n",
      "Annualized hit Ratio: 0.62\n",
      "Annualized GtP Ratio: 1.90\n",
      "\n",
      "UUP\n",
      "Annualized Return: -0.67%\n",
      "Annualized Volatility: 4.16%\n",
      "Skewness: 0.20\n",
      "Kurtosis: 10.03\n",
      "Max Drawdown: -17.55%\n",
      "Max Drawdown Duration: 2191 days\n",
      "Annualized Sharp Ratio: -1.12\n",
      "Annualized Sortino Ratio: -1.07\n",
      "Annualized Calmar Ratio: -0.04\n",
      "Annualized VaR: -0.03\n",
      "Annualized VaR Ratio: -0.01\n",
      "Annualized CVaR: -0.05\n",
      "Annualized CVaR Ratio: -0.01\n",
      "Annualized hit Ratio: 0.41\n",
      "Annualized GtP Ratio: 1.17\n",
      "\n"
     ]
    }
   ],
   "source": [
    "for ticker in multi_asset_tickers:\n",
    "    print(ticker)\n",
    "    Metric(portfolio=(1 + ma_regime_df[ticker] * ma_regime_df.recovery).cumprod(), freq='month').print_report()\n",
    "    print()"
   ]
  },
  {
   "attachments": {},
   "cell_type": "markdown",
   "metadata": {},
   "source": [
    "### 결과\n",
    "     - recovery: 저성장/성장 상승 추세/저인플레이션, 저성장/성장 상승 추세/고인플레이션\n",
    "     - 경제가 회복하는 국면\n",
    "     - 주식과 부동산 등 위험자산이 가장 좋은 성과를 보임\n",
    "     - 경제와 인플레이션이 점차 회복되어 채권금리가 상승 -> 장기채권은 불리\n",
    "     - 저성장 -> 원자재 역시 횡보하는 경향을 보임\n",
    "       - 예외: 코로나 이후의 급등"
   ]
  },
  {
   "attachments": {},
   "cell_type": "markdown",
   "metadata": {},
   "source": [
    "### 과열국면"
   ]
  },
  {
   "cell_type": "code",
   "execution_count": 23,
   "metadata": {},
   "outputs": [
    {
     "data": {
      "text/plain": [
       "<AxesSubplot: >"
      ]
     },
     "execution_count": 23,
     "metadata": {},
     "output_type": "execute_result"
    },
    {
     "data": {
      "image/png": "[encoded data removed]",
      "text/plain": [
       "<Figure size 640x480 with 1 Axes>"
      ]
     },
     "metadata": {},
     "output_type": "display_data"
    }
   ],
   "source": [
    "(1+ma_regime_df[multi_asset_tickers].mul(ma_regime_df['expansion'], axis=0)).cumprod().plot(lw=1)"
   ]
  },
  {
   "cell_type": "code",
   "execution_count": 24,
   "metadata": {},
   "outputs": [
    {
     "name": "stdout",
     "output_type": "stream",
     "text": [
      "SPY\n",
      "Annualized Return: 4.19%\n",
      "Annualized Volatility: 4.31%\n",
      "Skewness: 1.90\n",
      "Kurtosis: 6.15\n",
      "Max Drawdown: -6.28%\n",
      "Max Drawdown Duration: 1124 days\n",
      "Annualized Sharp Ratio: 0.04\n",
      "Annualized Sortino Ratio: -1.93\n",
      "Annualized Calmar Ratio: 0.67\n",
      "Annualized VaR: -0.03\n",
      "Annualized VaR Ratio: 0.13\n",
      "Annualized CVaR: -0.03\n",
      "Annualized CVaR Ratio: 0.11\n",
      "Annualized hit Ratio: 0.83\n",
      "Annualized GtP Ratio: 1.17\n",
      "\n",
      "TLT\n",
      "Annualized Return: -0.44%\n",
      "Annualized Volatility: 4.46%\n",
      "Skewness: -0.97\n",
      "Kurtosis: 10.10\n",
      "Max Drawdown: -18.84%\n",
      "Max Drawdown Duration: 3532 days\n",
      "Annualized Sharp Ratio: -0.99\n",
      "Annualized Sortino Ratio: -0.91\n",
      "Annualized Calmar Ratio: -0.02\n",
      "Annualized VaR: -0.05\n",
      "Annualized VaR Ratio: -0.01\n",
      "Annualized CVaR: -0.06\n",
      "Annualized CVaR Ratio: -0.00\n",
      "Annualized hit Ratio: 0.54\n",
      "Annualized GtP Ratio: 0.75\n",
      "\n",
      "GSG\n",
      "Annualized Return: 2.31%\n",
      "Annualized Volatility: 5.84%\n",
      "Skewness: 1.50\n",
      "Kurtosis: 12.31\n",
      "Max Drawdown: -16.92%\n",
      "Max Drawdown Duration: 1885 days\n",
      "Annualized Sharp Ratio: -0.29\n",
      "Annualized Sortino Ratio: -0.93\n",
      "Annualized Calmar Ratio: 0.14\n",
      "Annualized VaR: -0.05\n",
      "Annualized VaR Ratio: 0.04\n",
      "Annualized CVaR: -0.06\n",
      "Annualized CVaR Ratio: 0.03\n",
      "Annualized hit Ratio: 0.60\n",
      "Annualized GtP Ratio: 1.34\n",
      "\n",
      "VNQ\n",
      "Annualized Return: 2.01%\n",
      "Annualized Volatility: 6.03%\n",
      "Skewness: -0.19\n",
      "Kurtosis: 8.76\n",
      "Max Drawdown: -17.32%\n",
      "Max Drawdown Duration: 2892 days\n",
      "Annualized Sharp Ratio: -0.33\n",
      "Annualized Sortino Ratio: -0.75\n",
      "Annualized Calmar Ratio: 0.12\n",
      "Annualized VaR: -0.06\n",
      "Annualized VaR Ratio: 0.03\n",
      "Annualized CVaR: -0.07\n",
      "Annualized CVaR Ratio: 0.02\n",
      "Annualized hit Ratio: 0.69\n",
      "Annualized GtP Ratio: 0.82\n",
      "\n",
      "UUP\n",
      "Annualized Return: 0.50%\n",
      "Annualized Volatility: 2.74%\n",
      "Skewness: 0.98\n",
      "Kurtosis: 8.57\n",
      "Max Drawdown: -5.32%\n",
      "Max Drawdown Duration: 790 days\n",
      "Annualized Sharp Ratio: -1.28\n",
      "Annualized Sortino Ratio: -1.85\n",
      "Annualized Calmar Ratio: 0.09\n",
      "Annualized VaR: -0.02\n",
      "Annualized VaR Ratio: 0.02\n",
      "Annualized CVaR: -0.03\n",
      "Annualized CVaR Ratio: 0.02\n",
      "Annualized hit Ratio: 0.53\n",
      "Annualized GtP Ratio: 1.21\n",
      "\n"
     ]
    }
   ],
   "source": [
    "for ticker in multi_asset_tickers:\n",
    "    print(ticker)\n",
    "    Metric(portfolio=(1 + ma_regime_df[ticker] * ma_regime_df.expansion).cumprod(), freq='month').print_report()\n",
    "    print()"
   ]
  },
  {
   "attachments": {},
   "cell_type": "markdown",
   "metadata": {},
   "source": [
    "### 결과\n",
    "      - expansion: 고성장/성장 상승 추세/고인플레이션, 고성장/성장 하락 추세/고인플레이션\n",
    "      - 경기가 피크를 찍는 국면\n",
    "      - 연준은 과열을 막기 위해 긴축정책을 시행\n",
    "      - 결국 경기는 점차 둔화되기 시작\n",
    "      - 고성장으로 주식도 좋은 성과를 보임\n",
    "      - 고성장 고인플레인션 국면 -> 원자재 주식 다음으로 좋은 성과\n",
    "        - 예외: 2013년 국제원자재가격은 신흥국의 수요 둔화, 생산 호조, 달러화 강세 및 투기자금 유입 감소 등으로 전반적으로 하향 안정되는 모습\n",
    "        - https://www.bok.or.kr/portal/bbs/P0000528/view.do?nttId=196279&menuNo=200434&pageIndex="
   ]
  },
  {
   "attachments": {},
   "cell_type": "markdown",
   "metadata": {},
   "source": [
    "### 인플레이션 국면"
   ]
  },
  {
   "cell_type": "code",
   "execution_count": 51,
   "metadata": {},
   "outputs": [
    {
     "data": {
      "text/html": [
       "<div>\n",
       "<style scoped>\n",
       "    .dataframe tbody tr th:only-of-type {\n",
       "        vertical-align: middle;\n",
       "    }\n",
       "\n",
       "    .dataframe tbody tr th {\n",
       "        vertical-align: top;\n",
       "    }\n",
       "\n",
       "    .dataframe thead th {\n",
       "        text-align: right;\n",
       "    }\n",
       "</style>\n",
       "<table border=\"1\" class=\"dataframe\">\n",
       "  <thead>\n",
       "    <tr style=\"text-align: right;\">\n",
       "      <th></th>\n",
       "      <th>SPY</th>\n",
       "      <th>TLT</th>\n",
       "      <th>GSG</th>\n",
       "      <th>VNQ</th>\n",
       "      <th>UUP</th>\n",
       "      <th>sp500_rets</th>\n",
       "      <th>deflation</th>\n",
       "      <th>inflation</th>\n",
       "      <th>recovery</th>\n",
       "      <th>expansion</th>\n",
       "    </tr>\n",
       "  </thead>\n",
       "  <tbody>\n",
       "    <tr>\n",
       "      <th>2008-02-29</th>\n",
       "      <td>-0.025842</td>\n",
       "      <td>-0.004553</td>\n",
       "      <td>0.112571</td>\n",
       "      <td>-0.031814</td>\n",
       "      <td>-0.020904</td>\n",
       "      <td>-0.025842</td>\n",
       "      <td>0.0</td>\n",
       "      <td>0.0</td>\n",
       "      <td>0.0</td>\n",
       "      <td>0.0</td>\n",
       "    </tr>\n",
       "    <tr>\n",
       "      <th>2008-03-31</th>\n",
       "      <td>-0.008942</td>\n",
       "      <td>0.021388</td>\n",
       "      <td>-0.009416</td>\n",
       "      <td>0.064853</td>\n",
       "      <td>-0.023965</td>\n",
       "      <td>-0.008942</td>\n",
       "      <td>0.0</td>\n",
       "      <td>0.0</td>\n",
       "      <td>0.0</td>\n",
       "      <td>0.0</td>\n",
       "    </tr>\n",
       "    <tr>\n",
       "      <th>2008-04-30</th>\n",
       "      <td>0.047663</td>\n",
       "      <td>-0.024863</td>\n",
       "      <td>0.081922</td>\n",
       "      <td>0.063793</td>\n",
       "      <td>0.009375</td>\n",
       "      <td>0.047662</td>\n",
       "      <td>0.0</td>\n",
       "      <td>0.0</td>\n",
       "      <td>0.0</td>\n",
       "      <td>0.0</td>\n",
       "    </tr>\n",
       "    <tr>\n",
       "      <th>2008-05-31</th>\n",
       "      <td>0.015116</td>\n",
       "      <td>-0.026883</td>\n",
       "      <td>0.084665</td>\n",
       "      <td>-0.002110</td>\n",
       "      <td>0.004423</td>\n",
       "      <td>0.015117</td>\n",
       "      <td>0.0</td>\n",
       "      <td>0.0</td>\n",
       "      <td>0.0</td>\n",
       "      <td>0.0</td>\n",
       "    </tr>\n",
       "    <tr>\n",
       "      <th>2008-06-30</th>\n",
       "      <td>-0.083576</td>\n",
       "      <td>0.026536</td>\n",
       "      <td>0.103240</td>\n",
       "      <td>-0.106153</td>\n",
       "      <td>-0.009687</td>\n",
       "      <td>-0.083576</td>\n",
       "      <td>0.0</td>\n",
       "      <td>0.0</td>\n",
       "      <td>0.0</td>\n",
       "      <td>0.0</td>\n",
       "    </tr>\n",
       "    <tr>\n",
       "      <th>...</th>\n",
       "      <td>...</td>\n",
       "      <td>...</td>\n",
       "      <td>...</td>\n",
       "      <td>...</td>\n",
       "      <td>...</td>\n",
       "      <td>...</td>\n",
       "      <td>...</td>\n",
       "      <td>...</td>\n",
       "      <td>...</td>\n",
       "      <td>...</td>\n",
       "    </tr>\n",
       "    <tr>\n",
       "      <th>2022-08-31</th>\n",
       "      <td>-0.040802</td>\n",
       "      <td>-0.045531</td>\n",
       "      <td>-0.029655</td>\n",
       "      <td>-0.060125</td>\n",
       "      <td>0.028985</td>\n",
       "      <td>-0.040802</td>\n",
       "      <td>0.0</td>\n",
       "      <td>1.0</td>\n",
       "      <td>0.0</td>\n",
       "      <td>0.0</td>\n",
       "    </tr>\n",
       "    <tr>\n",
       "      <th>2022-09-30</th>\n",
       "      <td>-0.092446</td>\n",
       "      <td>-0.082351</td>\n",
       "      <td>-0.075056</td>\n",
       "      <td>-0.128713</td>\n",
       "      <td>0.035726</td>\n",
       "      <td>-0.092446</td>\n",
       "      <td>0.0</td>\n",
       "      <td>1.0</td>\n",
       "      <td>0.0</td>\n",
       "      <td>0.0</td>\n",
       "    </tr>\n",
       "    <tr>\n",
       "      <th>2022-10-31</th>\n",
       "      <td>0.081276</td>\n",
       "      <td>-0.059644</td>\n",
       "      <td>0.061710</td>\n",
       "      <td>0.035051</td>\n",
       "      <td>-0.003980</td>\n",
       "      <td>0.081276</td>\n",
       "      <td>0.0</td>\n",
       "      <td>1.0</td>\n",
       "      <td>0.0</td>\n",
       "      <td>0.0</td>\n",
       "    </tr>\n",
       "    <tr>\n",
       "      <th>2022-11-30</th>\n",
       "      <td>0.055592</td>\n",
       "      <td>0.071510</td>\n",
       "      <td>-0.011899</td>\n",
       "      <td>0.061461</td>\n",
       "      <td>-0.047286</td>\n",
       "      <td>0.055592</td>\n",
       "      <td>0.0</td>\n",
       "      <td>1.0</td>\n",
       "      <td>0.0</td>\n",
       "      <td>0.0</td>\n",
       "    </tr>\n",
       "    <tr>\n",
       "      <th>2022-12-31</th>\n",
       "      <td>-0.057628</td>\n",
       "      <td>-0.026200</td>\n",
       "      <td>-0.016674</td>\n",
       "      <td>-0.050343</td>\n",
       "      <td>-0.019407</td>\n",
       "      <td>-0.057628</td>\n",
       "      <td>0.0</td>\n",
       "      <td>1.0</td>\n",
       "      <td>0.0</td>\n",
       "      <td>0.0</td>\n",
       "    </tr>\n",
       "  </tbody>\n",
       "</table>\n",
       "<p>179 rows × 10 columns</p>\n",
       "</div>"
      ],
      "text/plain": [
       "                 SPY       TLT       GSG       VNQ       UUP  sp500_rets  \\\n",
       "2008-02-29 -0.025842 -0.004553  0.112571 -0.031814 -0.020904   -0.025842   \n",
       "2008-03-31 -0.008942  0.021388 -0.009416  0.064853 -0.023965   -0.008942   \n",
       "2008-04-30  0.047663 -0.024863  0.081922  0.063793  0.009375    0.047662   \n",
       "2008-05-31  0.015116 -0.026883  0.084665 -0.002110  0.004423    0.015117   \n",
       "2008-06-30 -0.083576  0.026536  0.103240 -0.106153 -0.009687   -0.083576   \n",
       "...              ...       ...       ...       ...       ...         ...   \n",
       "2022-08-31 -0.040802 -0.045531 -0.029655 -0.060125  0.028985   -0.040802   \n",
       "2022-09-30 -0.092446 -0.082351 -0.075056 -0.128713  0.035726   -0.092446   \n",
       "2022-10-31  0.081276 -0.059644  0.061710  0.035051 -0.003980    0.081276   \n",
       "2022-11-30  0.055592  0.071510 -0.011899  0.061461 -0.047286    0.055592   \n",
       "2022-12-31 -0.057628 -0.026200 -0.016674 -0.050343 -0.019407   -0.057628   \n",
       "\n",
       "            deflation  inflation  recovery  expansion  \n",
       "2008-02-29        0.0        0.0       0.0        0.0  \n",
       "2008-03-31        0.0        0.0       0.0        0.0  \n",
       "2008-04-30        0.0        0.0       0.0        0.0  \n",
       "2008-05-31        0.0        0.0       0.0        0.0  \n",
       "2008-06-30        0.0        0.0       0.0        0.0  \n",
       "...               ...        ...       ...        ...  \n",
       "2022-08-31        0.0        1.0       0.0        0.0  \n",
       "2022-09-30        0.0        1.0       0.0        0.0  \n",
       "2022-10-31        0.0        1.0       0.0        0.0  \n",
       "2022-11-30        0.0        1.0       0.0        0.0  \n",
       "2022-12-31        0.0        1.0       0.0        0.0  \n",
       "\n",
       "[179 rows x 10 columns]"
      ]
     },
     "execution_count": 51,
     "metadata": {},
     "output_type": "execute_result"
    }
   ],
   "source": [
    "ma_regime_df"
   ]
  },
  {
   "cell_type": "code",
   "execution_count": 25,
   "metadata": {},
   "outputs": [
    {
     "data": {
      "text/plain": [
       "<AxesSubplot: >"
      ]
     },
     "execution_count": 25,
     "metadata": {},
     "output_type": "execute_result"
    },
    {
     "data": {
      "image/png": "[encoded data removed]",
      "text/plain": [
       "<Figure size 640x480 with 1 Axes>"
      ]
     },
     "metadata": {},
     "output_type": "display_data"
    }
   ],
   "source": [
    "(1+ma_regime_df[multi_asset_tickers].mul(ma_regime_df['inflation'], axis=0)).cumprod().plot(lw=1)"
   ]
  },
  {
   "cell_type": "code",
   "execution_count": 26,
   "metadata": {},
   "outputs": [
    {
     "name": "stdout",
     "output_type": "stream",
     "text": [
      "SPY\n",
      "Annualized Return: -0.41%\n",
      "Annualized Volatility: 5.09%\n",
      "Skewness: -0.17\n",
      "Kurtosis: 29.00\n",
      "Max Drawdown: -12.95%\n",
      "Max Drawdown Duration: 153 days\n",
      "Annualized Sharp Ratio: -0.87\n",
      "Annualized Sortino Ratio: -0.82\n",
      "Annualized Calmar Ratio: -0.03\n",
      "Annualized VaR: -0.06\n",
      "Annualized VaR Ratio: -0.00\n",
      "Annualized CVaR: -0.09\n",
      "Annualized CVaR Ratio: -0.00\n",
      "Annualized hit Ratio: 0.50\n",
      "Annualized GtP Ratio: 0.85\n",
      "\n",
      "TLT\n",
      "Annualized Return: -1.09%\n",
      "Annualized Volatility: 3.61%\n",
      "Skewness: -2.34\n",
      "Kurtosis: 40.51\n",
      "Max Drawdown: -18.59%\n",
      "Max Drawdown Duration: 245 days\n",
      "Annualized Sharp Ratio: -1.41\n",
      "Annualized Sortino Ratio: -1.01\n",
      "Annualized Calmar Ratio: -0.06\n",
      "Annualized VaR: -0.05\n",
      "Annualized VaR Ratio: -0.02\n",
      "Annualized CVaR: -0.07\n",
      "Annualized CVaR Ratio: -0.01\n",
      "Annualized hit Ratio: 0.25\n",
      "Annualized GtP Ratio: 1.15\n",
      "\n",
      "GSG\n",
      "Annualized Return: -0.73%\n",
      "Annualized Volatility: 3.68%\n",
      "Skewness: -2.20\n",
      "Kurtosis: 39.56\n",
      "Max Drawdown: -17.81%\n",
      "Max Drawdown Duration: 214 days\n",
      "Annualized Sharp Ratio: -1.29\n",
      "Annualized Sortino Ratio: -1.03\n",
      "Annualized Calmar Ratio: -0.04\n",
      "Annualized VaR: -0.04\n",
      "Annualized VaR Ratio: -0.01\n",
      "Annualized CVaR: -0.08\n",
      "Annualized CVaR Ratio: -0.01\n",
      "Annualized hit Ratio: 0.25\n",
      "Annualized GtP Ratio: 1.64\n",
      "\n",
      "VNQ\n",
      "Annualized Return: -1.33%\n",
      "Annualized Volatility: 5.37%\n",
      "Skewness: -2.98\n",
      "Kurtosis: 36.55\n",
      "Max Drawdown: -21.54%\n",
      "Max Drawdown Duration: 245 days\n",
      "Annualized Sharp Ratio: -0.99\n",
      "Annualized Sortino Ratio: -0.68\n",
      "Annualized Calmar Ratio: -0.06\n",
      "Annualized VaR: -0.06\n",
      "Annualized VaR Ratio: -0.02\n",
      "Annualized CVaR: -0.10\n",
      "Annualized CVaR Ratio: -0.01\n",
      "Annualized hit Ratio: 0.38\n",
      "Annualized GtP Ratio: 0.84\n",
      "\n",
      "UUP\n",
      "Annualized Return: 0.12%\n",
      "Annualized Volatility: 1.98%\n",
      "Skewness: -0.75\n",
      "Kurtosis: 41.16\n",
      "Max Drawdown: -6.95%\n",
      "Max Drawdown Duration: 92 days\n",
      "Annualized Sharp Ratio: -1.96\n",
      "Annualized Sortino Ratio: -2.20\n",
      "Annualized Calmar Ratio: 0.02\n",
      "Annualized VaR: -0.01\n",
      "Annualized VaR Ratio: 0.01\n",
      "Annualized CVaR: -0.03\n",
      "Annualized CVaR Ratio: 0.00\n",
      "Annualized hit Ratio: 0.50\n",
      "Annualized GtP Ratio: 1.24\n",
      "\n"
     ]
    }
   ],
   "source": [
    "for ticker in multi_asset_tickers:\n",
    "    print(ticker)\n",
    "    Metric(portfolio=(1 + ma_regime_df[ticker] * ma_regime_df.inflation).cumprod(), freq='month').print_report()\n",
    "    print()"
   ]
  },
  {
   "cell_type": "code",
   "execution_count": 27,
   "metadata": {},
   "outputs": [
    {
     "data": {
      "text/html": [
       "<div>\n",
       "<style scoped>\n",
       "    .dataframe tbody tr th:only-of-type {\n",
       "        vertical-align: middle;\n",
       "    }\n",
       "\n",
       "    .dataframe tbody tr th {\n",
       "        vertical-align: top;\n",
       "    }\n",
       "\n",
       "    .dataframe thead th {\n",
       "        text-align: right;\n",
       "    }\n",
       "</style>\n",
       "<table border=\"1\" class=\"dataframe\">\n",
       "  <thead>\n",
       "    <tr style=\"text-align: right;\">\n",
       "      <th></th>\n",
       "      <th>SPY</th>\n",
       "      <th>TLT</th>\n",
       "      <th>GSG</th>\n",
       "      <th>VNQ</th>\n",
       "      <th>UUP</th>\n",
       "      <th>sp500_rets</th>\n",
       "      <th>deflation</th>\n",
       "      <th>inflation</th>\n",
       "      <th>recovery</th>\n",
       "      <th>expansion</th>\n",
       "    </tr>\n",
       "  </thead>\n",
       "  <tbody>\n",
       "    <tr>\n",
       "      <th>2022-05-31</th>\n",
       "      <td>0.002257</td>\n",
       "      <td>-0.022533</td>\n",
       "      <td>0.057432</td>\n",
       "      <td>-0.046854</td>\n",
       "      <td>-0.013058</td>\n",
       "      <td>0.002257</td>\n",
       "      <td>0.0</td>\n",
       "      <td>1.0</td>\n",
       "      <td>0.0</td>\n",
       "      <td>0.0</td>\n",
       "    </tr>\n",
       "    <tr>\n",
       "      <th>2022-06-30</th>\n",
       "      <td>-0.082460</td>\n",
       "      <td>-0.012745</td>\n",
       "      <td>-0.077476</td>\n",
       "      <td>-0.074489</td>\n",
       "      <td>0.027563</td>\n",
       "      <td>-0.082460</td>\n",
       "      <td>0.0</td>\n",
       "      <td>1.0</td>\n",
       "      <td>0.0</td>\n",
       "      <td>0.0</td>\n",
       "    </tr>\n",
       "    <tr>\n",
       "      <th>2022-07-31</th>\n",
       "      <td>0.092087</td>\n",
       "      <td>0.024310</td>\n",
       "      <td>-0.007359</td>\n",
       "      <td>0.086160</td>\n",
       "      <td>0.011803</td>\n",
       "      <td>0.092087</td>\n",
       "      <td>0.0</td>\n",
       "      <td>1.0</td>\n",
       "      <td>0.0</td>\n",
       "      <td>0.0</td>\n",
       "    </tr>\n",
       "    <tr>\n",
       "      <th>2022-08-31</th>\n",
       "      <td>-0.040802</td>\n",
       "      <td>-0.045531</td>\n",
       "      <td>-0.029655</td>\n",
       "      <td>-0.060125</td>\n",
       "      <td>0.028985</td>\n",
       "      <td>-0.040802</td>\n",
       "      <td>0.0</td>\n",
       "      <td>1.0</td>\n",
       "      <td>0.0</td>\n",
       "      <td>0.0</td>\n",
       "    </tr>\n",
       "    <tr>\n",
       "      <th>2022-09-30</th>\n",
       "      <td>-0.092446</td>\n",
       "      <td>-0.082351</td>\n",
       "      <td>-0.075056</td>\n",
       "      <td>-0.128713</td>\n",
       "      <td>0.035726</td>\n",
       "      <td>-0.092446</td>\n",
       "      <td>0.0</td>\n",
       "      <td>1.0</td>\n",
       "      <td>0.0</td>\n",
       "      <td>0.0</td>\n",
       "    </tr>\n",
       "    <tr>\n",
       "      <th>2022-10-31</th>\n",
       "      <td>0.081276</td>\n",
       "      <td>-0.059644</td>\n",
       "      <td>0.061710</td>\n",
       "      <td>0.035051</td>\n",
       "      <td>-0.003980</td>\n",
       "      <td>0.081276</td>\n",
       "      <td>0.0</td>\n",
       "      <td>1.0</td>\n",
       "      <td>0.0</td>\n",
       "      <td>0.0</td>\n",
       "    </tr>\n",
       "    <tr>\n",
       "      <th>2022-11-30</th>\n",
       "      <td>0.055592</td>\n",
       "      <td>0.071510</td>\n",
       "      <td>-0.011899</td>\n",
       "      <td>0.061461</td>\n",
       "      <td>-0.047286</td>\n",
       "      <td>0.055592</td>\n",
       "      <td>0.0</td>\n",
       "      <td>1.0</td>\n",
       "      <td>0.0</td>\n",
       "      <td>0.0</td>\n",
       "    </tr>\n",
       "    <tr>\n",
       "      <th>2022-12-31</th>\n",
       "      <td>-0.057628</td>\n",
       "      <td>-0.026200</td>\n",
       "      <td>-0.016674</td>\n",
       "      <td>-0.050343</td>\n",
       "      <td>-0.019407</td>\n",
       "      <td>-0.057628</td>\n",
       "      <td>0.0</td>\n",
       "      <td>1.0</td>\n",
       "      <td>0.0</td>\n",
       "      <td>0.0</td>\n",
       "    </tr>\n",
       "  </tbody>\n",
       "</table>\n",
       "</div>"
      ],
      "text/plain": [
       "                 SPY       TLT       GSG       VNQ       UUP  sp500_rets  \\\n",
       "2022-05-31  0.002257 -0.022533  0.057432 -0.046854 -0.013058    0.002257   \n",
       "2022-06-30 -0.082460 -0.012745 -0.077476 -0.074489  0.027563   -0.082460   \n",
       "2022-07-31  0.092087  0.024310 -0.007359  0.086160  0.011803    0.092087   \n",
       "2022-08-31 -0.040802 -0.045531 -0.029655 -0.060125  0.028985   -0.040802   \n",
       "2022-09-30 -0.092446 -0.082351 -0.075056 -0.128713  0.035726   -0.092446   \n",
       "2022-10-31  0.081276 -0.059644  0.061710  0.035051 -0.003980    0.081276   \n",
       "2022-11-30  0.055592  0.071510 -0.011899  0.061461 -0.047286    0.055592   \n",
       "2022-12-31 -0.057628 -0.026200 -0.016674 -0.050343 -0.019407   -0.057628   \n",
       "\n",
       "            deflation  inflation  recovery  expansion  \n",
       "2022-05-31        0.0        1.0       0.0        0.0  \n",
       "2022-06-30        0.0        1.0       0.0        0.0  \n",
       "2022-07-31        0.0        1.0       0.0        0.0  \n",
       "2022-08-31        0.0        1.0       0.0        0.0  \n",
       "2022-09-30        0.0        1.0       0.0        0.0  \n",
       "2022-10-31        0.0        1.0       0.0        0.0  \n",
       "2022-11-30        0.0        1.0       0.0        0.0  \n",
       "2022-12-31        0.0        1.0       0.0        0.0  "
      ]
     },
     "execution_count": 27,
     "metadata": {},
     "output_type": "execute_result"
    }
   ],
   "source": [
    "ma_regime_df[ma_regime_df.inflation != 0]"
   ]
  },
  {
   "cell_type": "code",
   "execution_count": 28,
   "metadata": {},
   "outputs": [
    {
     "data": {
      "text/html": [
       "<div>\n",
       "<style scoped>\n",
       "    .dataframe tbody tr th:only-of-type {\n",
       "        vertical-align: middle;\n",
       "    }\n",
       "\n",
       "    .dataframe tbody tr th {\n",
       "        vertical-align: top;\n",
       "    }\n",
       "\n",
       "    .dataframe thead th {\n",
       "        text-align: right;\n",
       "    }\n",
       "</style>\n",
       "<table border=\"1\" class=\"dataframe\">\n",
       "  <thead>\n",
       "    <tr style=\"text-align: right;\">\n",
       "      <th></th>\n",
       "      <th>SPY</th>\n",
       "      <th>TLT</th>\n",
       "      <th>GSG</th>\n",
       "      <th>VNQ</th>\n",
       "      <th>UUP</th>\n",
       "      <th>sp500_rets</th>\n",
       "      <th>deflation</th>\n",
       "      <th>inflation</th>\n",
       "      <th>recovery</th>\n",
       "      <th>expansion</th>\n",
       "    </tr>\n",
       "  </thead>\n",
       "  <tbody>\n",
       "    <tr>\n",
       "      <th>2022-05-31</th>\n",
       "      <td>0.002257</td>\n",
       "      <td>-0.022533</td>\n",
       "      <td>0.057432</td>\n",
       "      <td>-0.046854</td>\n",
       "      <td>-0.013058</td>\n",
       "      <td>0.002257</td>\n",
       "      <td>0.0</td>\n",
       "      <td>1.0</td>\n",
       "      <td>0.0</td>\n",
       "      <td>0.0</td>\n",
       "    </tr>\n",
       "    <tr>\n",
       "      <th>2022-06-30</th>\n",
       "      <td>-0.082460</td>\n",
       "      <td>-0.012745</td>\n",
       "      <td>-0.077476</td>\n",
       "      <td>-0.074489</td>\n",
       "      <td>0.027563</td>\n",
       "      <td>-0.082460</td>\n",
       "      <td>0.0</td>\n",
       "      <td>1.0</td>\n",
       "      <td>0.0</td>\n",
       "      <td>0.0</td>\n",
       "    </tr>\n",
       "    <tr>\n",
       "      <th>2022-07-31</th>\n",
       "      <td>0.092087</td>\n",
       "      <td>0.024310</td>\n",
       "      <td>-0.007359</td>\n",
       "      <td>0.086160</td>\n",
       "      <td>0.011803</td>\n",
       "      <td>0.092087</td>\n",
       "      <td>0.0</td>\n",
       "      <td>1.0</td>\n",
       "      <td>0.0</td>\n",
       "      <td>0.0</td>\n",
       "    </tr>\n",
       "    <tr>\n",
       "      <th>2022-08-31</th>\n",
       "      <td>-0.040802</td>\n",
       "      <td>-0.045531</td>\n",
       "      <td>-0.029655</td>\n",
       "      <td>-0.060125</td>\n",
       "      <td>0.028985</td>\n",
       "      <td>-0.040802</td>\n",
       "      <td>0.0</td>\n",
       "      <td>1.0</td>\n",
       "      <td>0.0</td>\n",
       "      <td>0.0</td>\n",
       "    </tr>\n",
       "    <tr>\n",
       "      <th>2022-09-30</th>\n",
       "      <td>-0.092446</td>\n",
       "      <td>-0.082351</td>\n",
       "      <td>-0.075056</td>\n",
       "      <td>-0.128713</td>\n",
       "      <td>0.035726</td>\n",
       "      <td>-0.092446</td>\n",
       "      <td>0.0</td>\n",
       "      <td>1.0</td>\n",
       "      <td>0.0</td>\n",
       "      <td>0.0</td>\n",
       "    </tr>\n",
       "    <tr>\n",
       "      <th>2022-10-31</th>\n",
       "      <td>0.081276</td>\n",
       "      <td>-0.059644</td>\n",
       "      <td>0.061710</td>\n",
       "      <td>0.035051</td>\n",
       "      <td>-0.003980</td>\n",
       "      <td>0.081276</td>\n",
       "      <td>0.0</td>\n",
       "      <td>1.0</td>\n",
       "      <td>0.0</td>\n",
       "      <td>0.0</td>\n",
       "    </tr>\n",
       "    <tr>\n",
       "      <th>2022-11-30</th>\n",
       "      <td>0.055592</td>\n",
       "      <td>0.071510</td>\n",
       "      <td>-0.011899</td>\n",
       "      <td>0.061461</td>\n",
       "      <td>-0.047286</td>\n",
       "      <td>0.055592</td>\n",
       "      <td>0.0</td>\n",
       "      <td>1.0</td>\n",
       "      <td>0.0</td>\n",
       "      <td>0.0</td>\n",
       "    </tr>\n",
       "    <tr>\n",
       "      <th>2022-12-31</th>\n",
       "      <td>-0.057628</td>\n",
       "      <td>-0.026200</td>\n",
       "      <td>-0.016674</td>\n",
       "      <td>-0.050343</td>\n",
       "      <td>-0.019407</td>\n",
       "      <td>-0.057628</td>\n",
       "      <td>0.0</td>\n",
       "      <td>1.0</td>\n",
       "      <td>0.0</td>\n",
       "      <td>0.0</td>\n",
       "    </tr>\n",
       "  </tbody>\n",
       "</table>\n",
       "</div>"
      ],
      "text/plain": [
       "                 SPY       TLT       GSG       VNQ       UUP  sp500_rets  \\\n",
       "2022-05-31  0.002257 -0.022533  0.057432 -0.046854 -0.013058    0.002257   \n",
       "2022-06-30 -0.082460 -0.012745 -0.077476 -0.074489  0.027563   -0.082460   \n",
       "2022-07-31  0.092087  0.024310 -0.007359  0.086160  0.011803    0.092087   \n",
       "2022-08-31 -0.040802 -0.045531 -0.029655 -0.060125  0.028985   -0.040802   \n",
       "2022-09-30 -0.092446 -0.082351 -0.075056 -0.128713  0.035726   -0.092446   \n",
       "2022-10-31  0.081276 -0.059644  0.061710  0.035051 -0.003980    0.081276   \n",
       "2022-11-30  0.055592  0.071510 -0.011899  0.061461 -0.047286    0.055592   \n",
       "2022-12-31 -0.057628 -0.026200 -0.016674 -0.050343 -0.019407   -0.057628   \n",
       "\n",
       "            deflation  inflation  recovery  expansion  \n",
       "2022-05-31        0.0        1.0       0.0        0.0  \n",
       "2022-06-30        0.0        1.0       0.0        0.0  \n",
       "2022-07-31        0.0        1.0       0.0        0.0  \n",
       "2022-08-31        0.0        1.0       0.0        0.0  \n",
       "2022-09-30        0.0        1.0       0.0        0.0  \n",
       "2022-10-31        0.0        1.0       0.0        0.0  \n",
       "2022-11-30        0.0        1.0       0.0        0.0  \n",
       "2022-12-31        0.0        1.0       0.0        0.0  "
      ]
     },
     "execution_count": 28,
     "metadata": {},
     "output_type": "execute_result"
    }
   ],
   "source": [
    "ma_regime_df.inflation.iloc[-8:]\n",
    "ma_regime_df.iloc[-8:]"
   ]
  },
  {
   "attachments": {},
   "cell_type": "markdown",
   "metadata": {},
   "source": [
    "### 결과\n",
    "    - inflation: 저성장/성장 하락 추세/고인플레이션\n",
    "    - 높은 인플레이션 유지되고 있지만 성장이 둔화 또는 침체되는 국면\n",
    "    - 연준은 높은 인플레이션을 제어하기 위해 공적적으로 기준금리를 인상하게 되고 경기 둔화 폭이 확대\n",
    "    - 높은 인플레이션으로 인해 원자재 가격이 일시적으로 크게 상승할 수 있지만 경기 둔화로 인한 수요 감소 폭이 커질 경우 급격한 조정을 받는다.\n",
    "    - 달러 인덱스만 수익 발생 -> 회복기에서 상승, 후퇴기에 하락, 위축기에 상승. 하지만 달러는 안전자산의 역할도 하기 때문에 경제 위축기에 상승하는 모습을 보이기도 한다.  "
   ]
  },
  {
   "attachments": {},
   "cell_type": "markdown",
   "metadata": {},
   "source": [
    "### 위축국면"
   ]
  },
  {
   "cell_type": "code",
   "execution_count": 29,
   "metadata": {},
   "outputs": [
    {
     "data": {
      "text/plain": [
       "<AxesSubplot: >"
      ]
     },
     "execution_count": 29,
     "metadata": {},
     "output_type": "execute_result"
    },
    {
     "data": {
      "image/png": "[encoded data removed]",
      "text/plain": [
       "<Figure size 640x480 with 1 Axes>"
      ]
     },
     "metadata": {},
     "output_type": "display_data"
    }
   ],
   "source": [
    "(1+ma_regime_df[multi_asset_tickers].mul(ma_regime_df['deflation'], axis=0)).cumprod().plot(lw=1)"
   ]
  },
  {
   "cell_type": "code",
   "execution_count": 30,
   "metadata": {},
   "outputs": [
    {
     "name": "stdout",
     "output_type": "stream",
     "text": [
      "SPY\n",
      "Annualized Return: -1.00%\n",
      "Annualized Volatility: 11.60%\n",
      "Skewness: -0.50\n",
      "Kurtosis: 7.04\n",
      "Max Drawdown: -41.80%\n",
      "Max Drawdown Duration: 5235 days\n",
      "Annualized Sharp Ratio: -0.43\n",
      "Annualized Sortino Ratio: -0.37\n",
      "Annualized Calmar Ratio: -0.02\n",
      "Annualized VaR: -0.11\n",
      "Annualized VaR Ratio: -0.00\n",
      "Annualized CVaR: -0.15\n",
      "Annualized CVaR Ratio: -0.00\n",
      "Annualized hit Ratio: 0.54\n",
      "Annualized GtP Ratio: 0.81\n",
      "\n",
      "TLT\n",
      "Annualized Return: 6.39%\n",
      "Annualized Volatility: 10.12%\n",
      "Skewness: 1.88\n",
      "Kurtosis: 10.28\n",
      "Max Drawdown: -17.13%\n",
      "Max Drawdown Duration: 1248 days\n",
      "Annualized Sharp Ratio: 0.24\n",
      "Annualized Sortino Ratio: -0.65\n",
      "Annualized Calmar Ratio: 0.37\n",
      "Annualized VaR: -0.05\n",
      "Annualized VaR Ratio: 0.12\n",
      "Annualized CVaR: -0.10\n",
      "Annualized CVaR Ratio: 0.06\n",
      "Annualized hit Ratio: 0.54\n",
      "Annualized GtP Ratio: 2.58\n",
      "\n",
      "GSG\n",
      "Annualized Return: -9.76%\n",
      "Annualized Volatility: 16.64%\n",
      "Skewness: -2.74\n",
      "Kurtosis: 16.03\n",
      "Max Drawdown: -81.33%\n",
      "Max Drawdown Duration: 5266 days\n",
      "Annualized Sharp Ratio: -0.83\n",
      "Annualized Sortino Ratio: -0.31\n",
      "Annualized Calmar Ratio: -0.12\n",
      "Annualized VaR: -0.18\n",
      "Annualized VaR Ratio: -0.04\n",
      "Annualized CVaR: -0.30\n",
      "Annualized CVaR Ratio: -0.02\n",
      "Annualized hit Ratio: 0.43\n",
      "Annualized GtP Ratio: 0.56\n",
      "\n",
      "VNQ\n",
      "Annualized Return: -2.46%\n",
      "Annualized Volatility: 18.27%\n",
      "Skewness: -0.96\n",
      "Kurtosis: 17.70\n",
      "Max Drawdown: -59.69%\n",
      "Max Drawdown Duration: 5235 days\n",
      "Annualized Sharp Ratio: -0.35\n",
      "Annualized Sortino Ratio: -0.24\n",
      "Annualized Calmar Ratio: -0.04\n",
      "Annualized VaR: -0.21\n",
      "Annualized VaR Ratio: -0.00\n",
      "Annualized CVaR: -0.27\n",
      "Annualized CVaR Ratio: -0.00\n",
      "Annualized hit Ratio: 0.57\n",
      "Annualized GtP Ratio: 0.72\n",
      "\n",
      "UUP\n",
      "Annualized Return: 0.32%\n",
      "Annualized Volatility: 5.15%\n",
      "Skewness: 0.99\n",
      "Kurtosis: 11.84\n",
      "Max Drawdown: -16.69%\n",
      "Max Drawdown Duration: 5054 days\n",
      "Annualized Sharp Ratio: -0.72\n",
      "Annualized Sortino Ratio: -0.94\n",
      "Annualized Calmar Ratio: 0.02\n",
      "Annualized VaR: -0.05\n",
      "Annualized VaR Ratio: 0.01\n",
      "Annualized CVaR: -0.06\n",
      "Annualized CVaR Ratio: 0.01\n",
      "Annualized hit Ratio: 0.54\n",
      "Annualized GtP Ratio: 0.96\n",
      "\n"
     ]
    }
   ],
   "source": [
    "for ticker in multi_asset_tickers:\n",
    "    print(ticker)\n",
    "    Metric(portfolio=(1 + ma_regime_df[ticker] * ma_regime_df.deflation).cumprod(), freq='month').print_report()\n",
    "    print()"
   ]
  },
  {
   "attachments": {},
   "cell_type": "markdown",
   "metadata": {},
   "source": [
    "### 결과\n",
    "    - deflation: 저성장/성장 하락 추세/저인플레이션\n",
    "    - 성장과 인플레이션이 모두 낮게 유지되는 국면\n",
    "    - 위축 국면이 길어질수록 급격한 수요 감소와 디레버리징이 나타나게 되고 경기침체가 발생\n",
    "    - 모든 위험 자산 가격이 크게 하락\n",
    "    - 안전사잔인 장기채권과 달러가 가장 좋은 성과를 보임"
   ]
  },
  {
   "attachments": {},
   "cell_type": "markdown",
   "metadata": {},
   "source": [
    "### 종합\n",
    "    - 회복국면\n",
    "      - buy 주식, 부동산\n",
    "      - sell 장기채권\n",
    "    - 과열국면\n",
    "      - buy 주식, 원자재\n",
    "      - sell 장기 채권\n",
    "    - 인플레이션\n",
    "      - buy 달러\n",
    "      - sell 주식\n",
    "    - 위축국면\n",
    "      - buy 장기채권\n",
    "      - sell 주식, 부동산, 원자재\n",
    "    \n",
    "    - 추가 인사이트\n",
    "      - 원자재는 거시경제의 영향과 수요와 공급(미시경제)의 영향 역시 많이 받는다. \n",
    "      -> 신문,기사 등의 영향을 추가하기 위해 NLP 사용해볼 수 있듯  "
   ]
  },
  {
   "cell_type": "markdown",
   "metadata": {},
   "source": [
    "### 마지막으로 각 국면별 성과가 가장 좋은 자산군에 투자한다고 가정하고 백테스트 진행해보자"
   ]
  },
  {
   "cell_type": "code",
   "execution_count": 31,
   "metadata": {},
   "outputs": [
    {
     "data": {
      "text/html": [
       "<div>\n",
       "<style scoped>\n",
       "    .dataframe tbody tr th:only-of-type {\n",
       "        vertical-align: middle;\n",
       "    }\n",
       "\n",
       "    .dataframe tbody tr th {\n",
       "        vertical-align: top;\n",
       "    }\n",
       "\n",
       "    .dataframe thead th {\n",
       "        text-align: right;\n",
       "    }\n",
       "</style>\n",
       "<table border=\"1\" class=\"dataframe\">\n",
       "  <thead>\n",
       "    <tr style=\"text-align: right;\">\n",
       "      <th></th>\n",
       "      <th>SPY</th>\n",
       "      <th>TLT</th>\n",
       "      <th>GSG</th>\n",
       "      <th>VNQ</th>\n",
       "      <th>UUP</th>\n",
       "      <th>sp500_rets</th>\n",
       "      <th>deflation</th>\n",
       "      <th>inflation</th>\n",
       "      <th>recovery</th>\n",
       "      <th>expansion</th>\n",
       "    </tr>\n",
       "  </thead>\n",
       "  <tbody>\n",
       "    <tr>\n",
       "      <th>2008-02-29</th>\n",
       "      <td>-0.025842</td>\n",
       "      <td>-0.004553</td>\n",
       "      <td>0.112571</td>\n",
       "      <td>-0.031814</td>\n",
       "      <td>-0.020904</td>\n",
       "      <td>-0.025842</td>\n",
       "      <td>0.0</td>\n",
       "      <td>0.0</td>\n",
       "      <td>0.0</td>\n",
       "      <td>0.0</td>\n",
       "    </tr>\n",
       "    <tr>\n",
       "      <th>2008-03-31</th>\n",
       "      <td>-0.008942</td>\n",
       "      <td>0.021388</td>\n",
       "      <td>-0.009416</td>\n",
       "      <td>0.064853</td>\n",
       "      <td>-0.023965</td>\n",
       "      <td>-0.008942</td>\n",
       "      <td>0.0</td>\n",
       "      <td>0.0</td>\n",
       "      <td>0.0</td>\n",
       "      <td>0.0</td>\n",
       "    </tr>\n",
       "    <tr>\n",
       "      <th>2008-04-30</th>\n",
       "      <td>0.047663</td>\n",
       "      <td>-0.024863</td>\n",
       "      <td>0.081922</td>\n",
       "      <td>0.063793</td>\n",
       "      <td>0.009375</td>\n",
       "      <td>0.047662</td>\n",
       "      <td>0.0</td>\n",
       "      <td>0.0</td>\n",
       "      <td>0.0</td>\n",
       "      <td>0.0</td>\n",
       "    </tr>\n",
       "    <tr>\n",
       "      <th>2008-05-31</th>\n",
       "      <td>0.015116</td>\n",
       "      <td>-0.026883</td>\n",
       "      <td>0.084665</td>\n",
       "      <td>-0.002110</td>\n",
       "      <td>0.004423</td>\n",
       "      <td>0.015117</td>\n",
       "      <td>0.0</td>\n",
       "      <td>0.0</td>\n",
       "      <td>0.0</td>\n",
       "      <td>0.0</td>\n",
       "    </tr>\n",
       "    <tr>\n",
       "      <th>2008-06-30</th>\n",
       "      <td>-0.083576</td>\n",
       "      <td>0.026536</td>\n",
       "      <td>0.103240</td>\n",
       "      <td>-0.106153</td>\n",
       "      <td>-0.009687</td>\n",
       "      <td>-0.083576</td>\n",
       "      <td>0.0</td>\n",
       "      <td>0.0</td>\n",
       "      <td>0.0</td>\n",
       "      <td>0.0</td>\n",
       "    </tr>\n",
       "    <tr>\n",
       "      <th>...</th>\n",
       "      <td>...</td>\n",
       "      <td>...</td>\n",
       "      <td>...</td>\n",
       "      <td>...</td>\n",
       "      <td>...</td>\n",
       "      <td>...</td>\n",
       "      <td>...</td>\n",
       "      <td>...</td>\n",
       "      <td>...</td>\n",
       "      <td>...</td>\n",
       "    </tr>\n",
       "    <tr>\n",
       "      <th>2022-08-31</th>\n",
       "      <td>-0.040802</td>\n",
       "      <td>-0.045531</td>\n",
       "      <td>-0.029655</td>\n",
       "      <td>-0.060125</td>\n",
       "      <td>0.028985</td>\n",
       "      <td>-0.040802</td>\n",
       "      <td>0.0</td>\n",
       "      <td>1.0</td>\n",
       "      <td>0.0</td>\n",
       "      <td>0.0</td>\n",
       "    </tr>\n",
       "    <tr>\n",
       "      <th>2022-09-30</th>\n",
       "      <td>-0.092446</td>\n",
       "      <td>-0.082351</td>\n",
       "      <td>-0.075056</td>\n",
       "      <td>-0.128713</td>\n",
       "      <td>0.035726</td>\n",
       "      <td>-0.092446</td>\n",
       "      <td>0.0</td>\n",
       "      <td>1.0</td>\n",
       "      <td>0.0</td>\n",
       "      <td>0.0</td>\n",
       "    </tr>\n",
       "    <tr>\n",
       "      <th>2022-10-31</th>\n",
       "      <td>0.081276</td>\n",
       "      <td>-0.059644</td>\n",
       "      <td>0.061710</td>\n",
       "      <td>0.035051</td>\n",
       "      <td>-0.003980</td>\n",
       "      <td>0.081276</td>\n",
       "      <td>0.0</td>\n",
       "      <td>1.0</td>\n",
       "      <td>0.0</td>\n",
       "      <td>0.0</td>\n",
       "    </tr>\n",
       "    <tr>\n",
       "      <th>2022-11-30</th>\n",
       "      <td>0.055592</td>\n",
       "      <td>0.071510</td>\n",
       "      <td>-0.011899</td>\n",
       "      <td>0.061461</td>\n",
       "      <td>-0.047286</td>\n",
       "      <td>0.055592</td>\n",
       "      <td>0.0</td>\n",
       "      <td>1.0</td>\n",
       "      <td>0.0</td>\n",
       "      <td>0.0</td>\n",
       "    </tr>\n",
       "    <tr>\n",
       "      <th>2022-12-31</th>\n",
       "      <td>-0.057628</td>\n",
       "      <td>-0.026200</td>\n",
       "      <td>-0.016674</td>\n",
       "      <td>-0.050343</td>\n",
       "      <td>-0.019407</td>\n",
       "      <td>-0.057628</td>\n",
       "      <td>0.0</td>\n",
       "      <td>1.0</td>\n",
       "      <td>0.0</td>\n",
       "      <td>0.0</td>\n",
       "    </tr>\n",
       "  </tbody>\n",
       "</table>\n",
       "<p>179 rows × 10 columns</p>\n",
       "</div>"
      ],
      "text/plain": [
       "                 SPY       TLT       GSG       VNQ       UUP  sp500_rets  \\\n",
       "2008-02-29 -0.025842 -0.004553  0.112571 -0.031814 -0.020904   -0.025842   \n",
       "2008-03-31 -0.008942  0.021388 -0.009416  0.064853 -0.023965   -0.008942   \n",
       "2008-04-30  0.047663 -0.024863  0.081922  0.063793  0.009375    0.047662   \n",
       "2008-05-31  0.015116 -0.026883  0.084665 -0.002110  0.004423    0.015117   \n",
       "2008-06-30 -0.083576  0.026536  0.103240 -0.106153 -0.009687   -0.083576   \n",
       "...              ...       ...       ...       ...       ...         ...   \n",
       "2022-08-31 -0.040802 -0.045531 -0.029655 -0.060125  0.028985   -0.040802   \n",
       "2022-09-30 -0.092446 -0.082351 -0.075056 -0.128713  0.035726   -0.092446   \n",
       "2022-10-31  0.081276 -0.059644  0.061710  0.035051 -0.003980    0.081276   \n",
       "2022-11-30  0.055592  0.071510 -0.011899  0.061461 -0.047286    0.055592   \n",
       "2022-12-31 -0.057628 -0.026200 -0.016674 -0.050343 -0.019407   -0.057628   \n",
       "\n",
       "            deflation  inflation  recovery  expansion  \n",
       "2008-02-29        0.0        0.0       0.0        0.0  \n",
       "2008-03-31        0.0        0.0       0.0        0.0  \n",
       "2008-04-30        0.0        0.0       0.0        0.0  \n",
       "2008-05-31        0.0        0.0       0.0        0.0  \n",
       "2008-06-30        0.0        0.0       0.0        0.0  \n",
       "...               ...        ...       ...        ...  \n",
       "2022-08-31        0.0        1.0       0.0        0.0  \n",
       "2022-09-30        0.0        1.0       0.0        0.0  \n",
       "2022-10-31        0.0        1.0       0.0        0.0  \n",
       "2022-11-30        0.0        1.0       0.0        0.0  \n",
       "2022-12-31        0.0        1.0       0.0        0.0  \n",
       "\n",
       "[179 rows x 10 columns]"
      ]
     },
     "execution_count": 31,
     "metadata": {},
     "output_type": "execute_result"
    }
   ],
   "source": [
    "ma_regime_df"
   ]
  },
  {
   "cell_type": "code",
   "execution_count": 32,
   "metadata": {},
   "outputs": [
    {
     "data": {
      "text/plain": [
       "<AxesSubplot: >"
      ]
     },
     "execution_count": 32,
     "metadata": {},
     "output_type": "execute_result"
    },
    {
     "data": {
      "image/png": "[encoded data removed]",
      "text/plain": [
       "<Figure size 640x480 with 1 Axes>"
      ]
     },
     "metadata": {},
     "output_type": "display_data"
    }
   ],
   "source": [
    "(1 + ma_regime_df['SPY']).cumprod().plot(lw=1)"
   ]
  },
  {
   "cell_type": "code",
   "execution_count": 33,
   "metadata": {},
   "outputs": [
    {
     "name": "stdout",
     "output_type": "stream",
     "text": [
      "Annualized Return: 9.43%\n",
      "Annualized Volatility: 16.21%\n",
      "Skewness: -0.61\n",
      "Kurtosis: 0.95\n",
      "Max Drawdown: -46.32%\n",
      "Max Drawdown Duration: 975 days\n",
      "Annualized Sharp Ratio: 0.34\n",
      "Annualized Sortino Ratio: -0.21\n",
      "Annualized Calmar Ratio: 0.20\n",
      "Annualized VaR: -0.11\n",
      "Annualized VaR Ratio: 0.08\n",
      "Annualized CVaR: -0.15\n",
      "Annualized CVaR Ratio: 0.06\n",
      "Annualized hit Ratio: 0.67\n",
      "Annualized GtP Ratio: 0.81\n"
     ]
    }
   ],
   "source": [
    "Metric(portfolio=(1 + ma_regime_df['SPY']).cumprod(), freq='month').print_report()"
   ]
  },
  {
   "cell_type": "code",
   "execution_count": 34,
   "metadata": {},
   "outputs": [
    {
     "name": "stdout",
     "output_type": "stream",
     "text": [
      "52\n",
      "35\n",
      "46\n",
      "8\n"
     ]
    }
   ],
   "source": [
    "print(len(ma_regime_df.loc[(ma_regime_df.recovery == 1)]['SPY']))\n",
    "print(len(ma_regime_df.loc[(ma_regime_df.expansion == 1)]['SPY']))\n",
    "print(len(ma_regime_df.loc[(ma_regime_df.deflation == 1)]['TLT']))\n",
    "print(len(ma_regime_df.loc[(ma_regime_df.inflation == 1)]['UUP']))"
   ]
  },
  {
   "cell_type": "code",
   "execution_count": 35,
   "metadata": {},
   "outputs": [
    {
     "data": {
      "text/plain": [
       "2009-05-31    0.058453\n",
       "2009-06-30   -0.000655\n",
       "2009-07-31    0.074605\n",
       "2009-08-31    0.036940\n",
       "2009-09-30    0.035458\n",
       "                ...   \n",
       "2022-08-31    0.028985\n",
       "2022-09-30    0.035726\n",
       "2022-10-31   -0.003980\n",
       "2022-11-30   -0.047286\n",
       "2022-12-31   -0.019407\n",
       "Length: 141, dtype: float64"
      ]
     },
     "execution_count": 35,
     "metadata": {},
     "output_type": "execute_result"
    }
   ],
   "source": [
    "best_regime = pd.concat([\n",
    "                        ma_regime_df.loc[(ma_regime_df.recovery == 1)]['SPY'], \n",
    "                        ma_regime_df.loc[(ma_regime_df.expansion == 1)]['SPY'],\n",
    "                        ma_regime_df.loc[(ma_regime_df.deflation == 1)]['TLT'],\n",
    "                        ma_regime_df.loc[(ma_regime_df.inflation == 1)]['UUP'],\n",
    "                        ], ignore_index=False, axis=0)\n",
    "\n",
    "best_regime"
   ]
  },
  {
   "cell_type": "code",
   "execution_count": 36,
   "metadata": {},
   "outputs": [
    {
     "data": {
      "text/plain": [
       "DatetimeIndex(['2009-05-31', '2009-06-30', '2009-07-31', '2009-08-31',\n",
       "               '2009-09-30', '2009-10-31', '2009-11-30', '2009-12-31',\n",
       "               '2010-01-31', '2010-02-28',\n",
       "               ...\n",
       "               '2020-04-30', '2020-05-31', '2022-05-31', '2022-06-30',\n",
       "               '2022-07-31', '2022-08-31', '2022-09-30', '2022-10-31',\n",
       "               '2022-11-30', '2022-12-31'],\n",
       "              dtype='datetime64[ns]', length=141, freq=None)"
      ]
     },
     "execution_count": 36,
     "metadata": {},
     "output_type": "execute_result"
    }
   ],
   "source": [
    "type(best_regime.index)\n",
    "type(ma_regime_df.index)\n",
    "\n",
    "best_regime.index = pd.to_datetime(best_regime.index)\n",
    "best_regime.index"
   ]
  },
  {
   "cell_type": "code",
   "execution_count": 37,
   "metadata": {},
   "outputs": [
    {
     "data": {
      "text/plain": [
       "DatetimeIndex(['2008-02-29', '2008-03-31', '2008-04-30', '2008-05-31',\n",
       "               '2008-06-30', '2008-07-31', '2011-04-30', '2011-05-31',\n",
       "               '2011-06-30', '2013-12-31', '2014-01-31', '2014-02-28',\n",
       "               '2014-10-31', '2014-11-30', '2014-12-31', '2015-01-31',\n",
       "               '2015-02-28', '2015-03-31', '2015-04-30', '2015-05-31',\n",
       "               '2015-06-30', '2015-07-31', '2018-06-30', '2018-07-31',\n",
       "               '2018-08-31', '2018-09-30', '2018-10-31', '2018-11-30',\n",
       "               '2018-12-31', '2021-08-31', '2021-09-30', '2021-10-31',\n",
       "               '2021-11-30', '2021-12-31', '2022-01-31', '2022-02-28',\n",
       "               '2022-03-31', '2022-04-30'],\n",
       "              dtype='datetime64[ns]', freq=None)"
      ]
     },
     "execution_count": 37,
     "metadata": {},
     "output_type": "execute_result"
    }
   ],
   "source": [
    "not_explained = ma_regime_df.index.difference(best_regime.index)\n",
    "not_explained"
   ]
  },
  {
   "cell_type": "code",
   "execution_count": 38,
   "metadata": {},
   "outputs": [],
   "source": [
    "not_explained = ma_regime_df.index.difference(best_regime.index)\n",
    "not_explained_df = pd.Series({'port_val':0}, index=not_explained)"
   ]
  },
  {
   "cell_type": "code",
   "execution_count": 39,
   "metadata": {},
   "outputs": [
    {
     "name": "stderr",
     "output_type": "stream",
     "text": [
      "/var/folders/6m/p0mfz7q566zcnpddq0xg_r740000gn/T/ipykernel_56628/2470937050.py:1: FutureWarning: The series.append method is deprecated and will be removed from pandas in a future version. Use pandas.concat instead.\n",
      "  total_regime = best_regime.append(not_explained_df).sort_index().fillna(0)\n"
     ]
    }
   ],
   "source": [
    "total_regime = best_regime.append(not_explained_df).sort_index().fillna(0)"
   ]
  },
  {
   "cell_type": "code",
   "execution_count": 40,
   "metadata": {},
   "outputs": [
    {
     "data": {
      "text/plain": [
       "<AxesSubplot: >"
      ]
     },
     "execution_count": 40,
     "metadata": {},
     "output_type": "execute_result"
    },
    {
     "data": {
      "image/png": "[encoded data removed]",
      "text/plain": [
       "<Figure size 640x480 with 1 Axes>"
      ]
     },
     "metadata": {},
     "output_type": "display_data"
    }
   ],
   "source": [
    "(1 + total_regime).cumprod().plot(lw=1)"
   ]
  },
  {
   "cell_type": "code",
   "execution_count": 41,
   "metadata": {},
   "outputs": [
    {
     "name": "stdout",
     "output_type": "stream",
     "text": [
      "Annualized Return: 18.60%\n",
      "Annualized Volatility: 12.41%\n",
      "Skewness: 0.53\n",
      "Kurtosis: 2.98\n",
      "Max Drawdown: -17.13%\n",
      "Max Drawdown Duration: 487 days\n",
      "Annualized Sharp Ratio: 1.18\n",
      "Annualized Sortino Ratio: -0.39\n",
      "Annualized Calmar Ratio: 1.09\n",
      "Annualized VaR: -0.07\n",
      "Annualized VaR Ratio: 0.21\n",
      "Annualized CVaR: -0.11\n",
      "Annualized CVaR Ratio: 0.14\n",
      "Annualized hit Ratio: 0.70\n",
      "Annualized GtP Ratio: 1.63\n"
     ]
    }
   ],
   "source": [
    "Metric(portfolio=(1 + total_regime).cumprod(), freq='month').print_report()"
   ]
  },
  {
   "attachments": {},
   "cell_type": "markdown",
   "metadata": {},
   "source": [
    "### 결론 \n",
    "- 단순 지수 투자보다 시황을 반영하는 것이 투자 성과를 개선\n",
    "- 각 시황마다 지수들은 상이한 움직임을 보이고 이를 활용해 투자하는 것은 중요하다"
   ]
  }
 ],
 "metadata": {
  "kernelspec": {
   "display_name": "finance",
   "language": "python",
   "name": "python3"
  },
  "language_info": {
   "codemirror_mode": {
    "name": "ipython",
    "version": 3
   },
   "file_extension": ".py",
   "mimetype": "text/x-python",
   "name": "python",
   "nbconvert_exporter": "python",
   "pygments_lexer": "ipython3",
   "version": "3.9.16"
  },
  "orig_nbformat": 4,
  "vscode": {
   "interpreter": {
    "hash": "605875af7a169c5ca2aeb0f1f2e7d92fe4ae7c7b303d27e649722fe946b16cf9"
   }
  }
 },
 "nbformat": 4,
 "nbformat_minor": 2
}
